{
 "cells": [
  {
   "cell_type": "markdown",
   "id": "3ee390d7",
   "metadata": {},
   "source": [
    "### Import"
   ]
  },
  {
   "cell_type": "code",
   "execution_count": 1,
   "id": "0593a343",
   "metadata": {},
   "outputs": [],
   "source": [
    "from src.agent import DQNAgent, Config\n",
    "import gym"
   ]
  },
  {
   "cell_type": "markdown",
   "id": "25d763b8",
   "metadata": {},
   "source": [
    "### Generate game environnement"
   ]
  },
  {
   "cell_type": "code",
   "execution_count": 2,
   "id": "3190846d",
   "metadata": {},
   "outputs": [
    {
     "name": "stdout",
     "output_type": "stream",
     "text": [
      "Observation: 500 11 7\n",
      "Action: 6\n"
     ]
    }
   ],
   "source": [
    "env_name = \"Taxi-v3\"\n",
    "env = gym.make(env_name)\n",
    "print('Observation:', env.observation_space.n, env.desc.shape[1], env.desc.shape[0])\n",
    "print('Action:', env.action_space.n)"
   ]
  },
  {
   "cell_type": "markdown",
   "id": "7419a5bc",
   "metadata": {},
   "source": [
    "### Default config"
   ]
  },
  {
   "cell_type": "code",
   "execution_count": 6,
   "id": "3f273e63",
   "metadata": {},
   "outputs": [],
   "source": [
    "config = Config(target_update=5, \n",
    "                lr=0.01,\n",
    "                lr_min=0.001,\n",
    "                lr_decay=50, \n",
    "                gamma=0.99,\n",
    "                loss='mse', \n",
    "                memory_size=50000, \n",
    "                batch_size=128, \n",
    "                eps_start=1, \n",
    "                eps_min=0.01, \n",
    "                eps_decay=350,\n",
    "                learning_start=200,\n",
    "                double_dqn=False)"
   ]
  },
  {
   "cell_type": "markdown",
   "id": "1fc9bf46",
   "metadata": {},
   "source": [
    "### Create and train agent with default config"
   ]
  },
  {
   "cell_type": "code",
   "execution_count": 5,
   "id": "22c63931",
   "metadata": {
    "scrolled": true
   },
   "outputs": [
    {
     "name": "stderr",
     "output_type": "stream",
     "text": [
      "\u001b[34m\u001b[1mwandb\u001b[0m: Currently logged in as: \u001b[33mhugoallegaert\u001b[0m (use `wandb login --relogin` to force relogin)\n"
     ]
    },
    {
     "data": {
      "text/html": [
       "wandb version 0.12.18 is available!  To upgrade, please run:\n",
       " $ pip install wandb --upgrade"
      ],
      "text/plain": [
       "<IPython.core.display.HTML object>"
      ]
     },
     "metadata": {},
     "output_type": "display_data"
    },
    {
     "data": {
      "text/html": [
       "Tracking run with wandb version 0.12.11"
      ],
      "text/plain": [
       "<IPython.core.display.HTML object>"
      ]
     },
     "metadata": {},
     "output_type": "display_data"
    },
    {
     "data": {
      "text/html": [
       "Run data is saved locally in <code>/Users/utilisateur/Epitech/T_AIA_902_msc2022_group-44/wandb/run-20220619_190957-878q08wi</code>"
      ],
      "text/plain": [
       "<IPython.core.display.HTML object>"
      ]
     },
     "metadata": {},
     "output_type": "display_data"
    },
    {
     "data": {
      "text/html": [
       "Syncing run <strong><a href=\"https://wandb.ai/hugoallegaert/T_AIA_902_msc2022_group-44/runs/878q08wi\" target=\"_blank\">fallen-energy-38</a></strong> to <a href=\"https://wandb.ai/hugoallegaert/T_AIA_902_msc2022_group-44\" target=\"_blank\">Weights & Biases</a> (<a href=\"https://wandb.me/run\" target=\"_blank\">docs</a>)<br/>"
      ],
      "text/plain": [
       "<IPython.core.display.HTML object>"
      ]
     },
     "metadata": {},
     "output_type": "display_data"
    },
    {
     "name": "stdout",
     "output_type": "stream",
     "text": [
      "Episode 1100\tAverage Score: -227.08    \n"
     ]
    },
    {
     "data": {
      "text/html": [
       "Waiting for W&B process to finish... <strong style=\"color:green\">(success).</strong>"
      ],
      "text/plain": [
       "<IPython.core.display.HTML object>"
      ]
     },
     "metadata": {},
     "output_type": "display_data"
    },
    {
     "data": {
      "application/vnd.jupyter.widget-view+json": {
       "model_id": "",
       "version_major": 2,
       "version_minor": 0
      },
      "text/plain": [
       "VBox(children=(Label(value='0.001 MB of 0.001 MB uploaded (0.000 MB deduped)\\r'), FloatProgress(value=1.0, max…"
      ]
     },
     "metadata": {},
     "output_type": "display_data"
    },
    {
     "data": {
      "text/html": [
       "<style>\n",
       "    table.wandb td:nth-child(1) { padding: 0 10px; text-align: right }\n",
       "    .wandb-row { display: flex; flex-direction: row; flex-wrap: wrap; width: 100% }\n",
       "    .wandb-col { display: flex; flex-direction: column; flex-basis: 100%; flex: 1; padding: 10px; }\n",
       "    </style>\n",
       "<div class=\"wandb-row\"><div class=\"wandb-col\"><h3>Run history:</h3><br/><table class=\"wandb\"><tr><td>duration</td><td>█████████████████▆█▃██████▁█▂▁██████████</td></tr><tr><td>epsilon</td><td>███████▇▆▄▃▃▂▂▂▁▁▁▁▁▁▁▁▁▁▁▁▁▁▁▁▁▁▁▁▁▁▁▁▁</td></tr><tr><td>learning_rate</td><td>███████▆▄▂▁▁▁▁▁▁▁▁▁▁▁▁▁▁▁▁▁▁▁▁▁▁▁▁▁▁▁▁▁▁</td></tr><tr><td>loss</td><td>▁▁▁▁▁▁▁▁▁▁▁▁▁▁▁▁▁▁▁▁▁▁▁▁▁▁▁▁▁▁▁▁▁▂▂▂█▂▃▂</td></tr><tr><td>reward</td><td>▅▅▅▅▅▅▆▆▅▇▇▇▇▇▇▇▇▇▇█▇▇▇▇▇▇█▇██▇▇▇▁▇▃▇▇▇▁</td></tr></table><br/></div><div class=\"wandb-col\"><h3>Run summary:</h3><br/><table class=\"wandb\"><tr><td>duration</td><td>99</td></tr><tr><td>epsilon</td><td>0.01001</td></tr><tr><td>learning_rate</td><td>0.001</td></tr><tr><td>loss</td><td>838967.375</td></tr><tr><td>reward</td><td>-100</td></tr></table><br/></div></div>"
      ],
      "text/plain": [
       "<IPython.core.display.HTML object>"
      ]
     },
     "metadata": {},
     "output_type": "display_data"
    },
    {
     "data": {
      "text/html": [
       "Synced <strong style=\"color:#cdcd00\">fallen-energy-38</strong>: <a href=\"https://wandb.ai/hugoallegaert/T_AIA_902_msc2022_group-44/runs/878q08wi\" target=\"_blank\">https://wandb.ai/hugoallegaert/T_AIA_902_msc2022_group-44/runs/878q08wi</a><br/>Synced 5 W&B file(s), 0 media file(s), 0 artifact file(s) and 0 other file(s)"
      ],
      "text/plain": [
       "<IPython.core.display.HTML object>"
      ]
     },
     "metadata": {},
     "output_type": "display_data"
    },
    {
     "data": {
      "text/html": [
       "Find logs at: <code>./wandb/run-20220619_190957-878q08wi/logs</code>"
      ],
      "text/plain": [
       "<IPython.core.display.HTML object>"
      ]
     },
     "metadata": {},
     "output_type": "display_data"
    },
    {
     "name": "stdout",
     "output_type": "stream",
     "text": [
      "Training has been interrupted\n"
     ]
    }
   ],
   "source": [
    "agent = DQNAgent(env=env, config=config, id=\"default_config_ddqn\")\n",
    "_ = agent.fit(wandb_log=True, save=False, epochs=1300)"
   ]
  },
  {
   "cell_type": "markdown",
   "id": "39024692",
   "metadata": {},
   "source": [
    "### Evaluate"
   ]
  },
  {
   "cell_type": "code",
   "execution_count": 5,
   "id": "dbe1cafd",
   "metadata": {},
   "outputs": [
    {
     "name": "stdout",
     "output_type": "stream",
     "text": [
      "Results after 1000 episodes:\n",
      "Average timesteps per episode: 12.07\n",
      "Average penalties per episode: 0.0\n",
      "Average rewards per episode: 7.93\n"
     ]
    }
   ],
   "source": [
    "score = agent.evaluate(1000)"
   ]
  },
  {
   "cell_type": "code",
   "execution_count": 6,
   "id": "a7ccaee2",
   "metadata": {
    "scrolled": true
   },
   "outputs": [
    {
     "name": "stdout",
     "output_type": "stream",
     "text": [
      "+---------+\n",
      "|R: | : :\u001b[35m\u001b[34;1m\u001b[43mG\u001b[0m\u001b[0m\u001b[0m|\n",
      "| : | : : |\n",
      "| : : : : |\n",
      "| | : | : |\n",
      "|Y| : |B: |\n",
      "+---------+\n",
      "  (Dropoff)\n",
      "*** Game 3 ***\n",
      " None\n",
      "*** Your score 10 ***\n"
     ]
    }
   ],
   "source": [
    "_ = agent.play_game(3)"
   ]
  },
  {
   "cell_type": "markdown",
   "id": "88014595",
   "metadata": {},
   "source": [
    "### Load model"
   ]
  },
  {
   "cell_type": "code",
   "execution_count": 8,
   "id": "4d88326f",
   "metadata": {},
   "outputs": [
    {
     "name": "stdout",
     "output_type": "stream",
     "text": [
      "Results after 1000 episodes:\n",
      "Average timesteps per episode: 12.056\n",
      "Average penalties per episode: 0.0\n",
      "Average rewards per episode: 7.944\n"
     ]
    }
   ],
   "source": [
    "test = DQNAgent(env=env, config=None)\n",
    "test.load('./src/models/default_config_ddqn.pt')\n",
    "_ = test.evaluate(1000)"
   ]
  },
  {
   "cell_type": "code",
   "execution_count": 9,
   "id": "f0602cc0",
   "metadata": {},
   "outputs": [
    {
     "name": "stdout",
     "output_type": "stream",
     "text": [
      "+---------+\n",
      "|\u001b[35m\u001b[34;1m\u001b[43mR\u001b[0m\u001b[0m\u001b[0m: | : :G|\n",
      "| : | : : |\n",
      "| : : : : |\n",
      "| | : | : |\n",
      "|Y| : |B: |\n",
      "+---------+\n",
      "  (Dropoff)\n",
      "*** Game 3 ***\n",
      " None\n",
      "*** Your score 9 ***\n"
     ]
    }
   ],
   "source": [
    "test.play_game(3)"
   ]
  }
 ],
 "metadata": {
  "kernelspec": {
   "display_name": "Python 3",
   "language": "python",
   "name": "python3"
  },
  "language_info": {
   "codemirror_mode": {
    "name": "ipython",
    "version": 3
   },
   "file_extension": ".py",
   "mimetype": "text/x-python",
   "name": "python",
   "nbconvert_exporter": "python",
   "pygments_lexer": "ipython3",
   "version": "3.8.6"
  }
 },
 "nbformat": 4,
 "nbformat_minor": 5
}
