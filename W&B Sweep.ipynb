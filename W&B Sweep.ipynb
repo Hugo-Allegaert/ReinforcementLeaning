{
 "cells": [
  {
   "cell_type": "markdown",
   "id": "5c405452",
   "metadata": {},
   "source": [
    "### Import"
   ]
  },
  {
   "cell_type": "code",
   "execution_count": 1,
   "id": "ecce0d1e",
   "metadata": {},
   "outputs": [],
   "source": [
    "import wandb\n",
    "import gym\n",
    "from src.agent import DQNAgent, Config"
   ]
  },
  {
   "cell_type": "markdown",
   "id": "e9be6207",
   "metadata": {},
   "source": [
    "### Initialize the sweep"
   ]
  },
  {
   "cell_type": "code",
   "execution_count": 2,
   "id": "00308480",
   "metadata": {},
   "outputs": [
    {
     "name": "stdout",
     "output_type": "stream",
     "text": [
      "Create sweep with ID: vhfjmlpf\n",
      "Sweep URL: https://wandb.ai/hugoallegaert/uncategorized/sweeps/vhfjmlpf\n"
     ]
    }
   ],
   "source": [
    "sweep_config = {\n",
    "  \"name\" : \"double-dqn-sweep\",\n",
    "  \"method\" : \"random\",\n",
    "  \"metric\" :{\n",
    "     \"name\": \"reward\",\n",
    "     \"goal\": \"maximize\"\n",
    "  },\n",
    "  \"parameters\" : {\n",
    "    \"epochs\" : {\n",
    "      \"value\" : 900\n",
    "    },\n",
    "    \"lr_decay\" :{\n",
    "      \"min\": 10,\n",
    "      \"max\": 400\n",
    "    },\n",
    "    \"gamma\" :{\n",
    "        \"min\": 0.01,\n",
    "        \"max\": 0.99\n",
    "    },\n",
    "    \"loss\" :{\n",
    "        \"values\": [\"mse\", \"huber\", \"mae\"]\n",
    "    },\n",
    "    \"batch_size\" :{\n",
    "        \"min\": 10,\n",
    "        \"max\": 512\n",
    "    },\n",
    "    \"memory_size\" :{\n",
    "        \"values\": [512, 1025, 2048, 4096, 10000, 40000, 60000]\n",
    "    },\n",
    "    \"target_update\" :{\n",
    "        \"min\": 1,\n",
    "        \"max\": 50\n",
    "    },\n",
    "    \"eps_decay\" :{\n",
    "        \"min\": 50,\n",
    "        \"max\": 500\n",
    "    }\n",
    "  }\n",
    "}\n",
    "sweep_id = wandb.sweep(sweep_config)"
   ]
  },
  {
   "cell_type": "markdown",
   "id": "05749390",
   "metadata": {},
   "source": [
    "### Initialize env"
   ]
  },
  {
   "cell_type": "code",
   "execution_count": 3,
   "id": "ed1fa16b",
   "metadata": {},
   "outputs": [
    {
     "name": "stdout",
     "output_type": "stream",
     "text": [
      "Observation: 500 11 7\n",
      "Action: 6\n"
     ]
    }
   ],
   "source": [
    "env_name = \"Taxi-v3\"\n",
    "env = gym.make(env_name)\n",
    "print('Observation:', env.observation_space.n, env.desc.shape[1], env.desc.shape[0])\n",
    "print('Action:', env.action_space.n)"
   ]
  },
  {
   "cell_type": "markdown",
   "id": "108442af",
   "metadata": {},
   "source": [
    "### Run agent"
   ]
  },
  {
   "cell_type": "code",
   "execution_count": 4,
   "id": "a9374d56",
   "metadata": {
    "scrolled": true
   },
   "outputs": [
    {
     "name": "stderr",
     "output_type": "stream",
     "text": [
      "\u001b[34m\u001b[1mwandb\u001b[0m: Agent Starting Run: 5gj5qzfu with config:\n",
      "\u001b[34m\u001b[1mwandb\u001b[0m: \tbatch_size: 80\n",
      "\u001b[34m\u001b[1mwandb\u001b[0m: \tepochs: 900\n",
      "\u001b[34m\u001b[1mwandb\u001b[0m: \teps_decay: 206\n",
      "\u001b[34m\u001b[1mwandb\u001b[0m: \tgamma: 0.3992443702137618\n",
      "\u001b[34m\u001b[1mwandb\u001b[0m: \tloss: mae\n",
      "\u001b[34m\u001b[1mwandb\u001b[0m: \tlr_decay: 222\n",
      "\u001b[34m\u001b[1mwandb\u001b[0m: \tmemory_size: 1025\n",
      "\u001b[34m\u001b[1mwandb\u001b[0m: \ttarget_update: 13\n",
      "\u001b[34m\u001b[1mwandb\u001b[0m: Currently logged in as: \u001b[33mhugoallegaert\u001b[0m (use `wandb login --relogin` to force relogin)\n"
     ]
    },
    {
     "data": {
      "text/html": [
       "wandb version 0.12.17 is available!  To upgrade, please run:\n",
       " $ pip install wandb --upgrade"
      ],
      "text/plain": [
       "<IPython.core.display.HTML object>"
      ]
     },
     "metadata": {},
     "output_type": "display_data"
    },
    {
     "data": {
      "text/html": [
       "Tracking run with wandb version 0.12.11"
      ],
      "text/plain": [
       "<IPython.core.display.HTML object>"
      ]
     },
     "metadata": {},
     "output_type": "display_data"
    },
    {
     "data": {
      "text/html": [
       "Run data is saved locally in <code>/Users/utilisateur/Epitech/T_AIA_902_msc2022_group-44/wandb/run-20220603_140239-5gj5qzfu</code>"
      ],
      "text/plain": [
       "<IPython.core.display.HTML object>"
      ]
     },
     "metadata": {},
     "output_type": "display_data"
    },
    {
     "data": {
      "text/html": [
       "Syncing run <strong><a href=\"https://wandb.ai/hugoallegaert/uncategorized/runs/5gj5qzfu\" target=\"_blank\">eager-sweep-1</a></strong> to <a href=\"https://wandb.ai/hugoallegaert/uncategorized\" target=\"_blank\">Weights & Biases</a> (<a href=\"https://wandb.me/run\" target=\"_blank\">docs</a>)<br/>Sweep page:  <a href=\"https://wandb.ai/hugoallegaert/uncategorized/sweeps/vhfjmlpf\" target=\"_blank\">https://wandb.ai/hugoallegaert/uncategorized/sweeps/vhfjmlpf</a>"
      ],
      "text/plain": [
       "<IPython.core.display.HTML object>"
      ]
     },
     "metadata": {},
     "output_type": "display_data"
    },
    {
     "name": "stdout",
     "output_type": "stream",
     "text": [
      "Training episode: 1/900\n",
      "Episode 0\tAverage Score: -424.00\n",
      "Training episode: 101/900\n",
      "Episode 100\tAverage Score: -388.19\n",
      "Training episode: 201/900\n",
      "Episode 200\tAverage Score: -397.72\n",
      "Training episode: 301/900\n",
      "Episode 300\tAverage Score: -213.32\n",
      "Training episode: 401/900\n",
      "Episode 400\tAverage Score: -113.86\n",
      "Training episode: 501/900\n",
      "Episode 500\tAverage Score: -105.13\n",
      "Training episode: 601/900\n",
      "Episode 600\tAverage Score: -102.52\n",
      "Training episode: 701/900\n",
      "Episode 700\tAverage Score: -103.06\n",
      "Training episode: 801/900\n",
      "Episode 800\tAverage Score: -103.24\n",
      "Training episode: 900/900\n"
     ]
    },
    {
     "data": {
      "text/html": [
       "Waiting for W&B process to finish... <strong style=\"color:green\">(success).</strong>"
      ],
      "text/plain": [
       "<IPython.core.display.HTML object>"
      ]
     },
     "metadata": {},
     "output_type": "display_data"
    },
    {
     "data": {
      "application/vnd.jupyter.widget-view+json": {
       "model_id": "",
       "version_major": 2,
       "version_minor": 0
      },
      "text/plain": [
       "VBox(children=(Label(value='0.001 MB of 0.001 MB uploaded (0.000 MB deduped)\\r'), FloatProgress(value=1.0, max…"
      ]
     },
     "metadata": {},
     "output_type": "display_data"
    },
    {
     "data": {
      "text/html": [
       "<style>\n",
       "    table.wandb td:nth-child(1) { padding: 0 10px; text-align: right }\n",
       "    .wandb-row { display: flex; flex-direction: row; flex-wrap: wrap; width: 100% }\n",
       "    .wandb-col { display: flex; flex-direction: column; flex-basis: 100%; flex: 1; padding: 10px; }\n",
       "    </style>\n",
       "<div class=\"wandb-row\"><div class=\"wandb-col\"><h3>Run history:</h3><br/><table class=\"wandb\"><tr><td>reward</td><td>▁</td></tr></table><br/></div><div class=\"wandb-col\"><h3>Run summary:</h3><br/><table class=\"wandb\"><tr><td>reward</td><td>-102.61</td></tr></table><br/></div></div>"
      ],
      "text/plain": [
       "<IPython.core.display.HTML object>"
      ]
     },
     "metadata": {},
     "output_type": "display_data"
    },
    {
     "data": {
      "text/html": [
       "Synced <strong style=\"color:#cdcd00\">eager-sweep-1</strong>: <a href=\"https://wandb.ai/hugoallegaert/uncategorized/runs/5gj5qzfu\" target=\"_blank\">https://wandb.ai/hugoallegaert/uncategorized/runs/5gj5qzfu</a><br/>Synced 5 W&B file(s), 0 media file(s), 0 artifact file(s) and 0 other file(s)"
      ],
      "text/plain": [
       "<IPython.core.display.HTML object>"
      ]
     },
     "metadata": {},
     "output_type": "display_data"
    },
    {
     "data": {
      "text/html": [
       "Find logs at: <code>./wandb/run-20220603_140239-5gj5qzfu/logs</code>"
      ],
      "text/plain": [
       "<IPython.core.display.HTML object>"
      ]
     },
     "metadata": {},
     "output_type": "display_data"
    },
    {
     "name": "stderr",
     "output_type": "stream",
     "text": [
      "\u001b[34m\u001b[1mwandb\u001b[0m: Agent Starting Run: de6cqi0d with config:\n",
      "\u001b[34m\u001b[1mwandb\u001b[0m: \tbatch_size: 243\n",
      "\u001b[34m\u001b[1mwandb\u001b[0m: \tepochs: 900\n",
      "\u001b[34m\u001b[1mwandb\u001b[0m: \teps_decay: 147\n",
      "\u001b[34m\u001b[1mwandb\u001b[0m: \tgamma: 0.020937141060421008\n",
      "\u001b[34m\u001b[1mwandb\u001b[0m: \tloss: huber\n",
      "\u001b[34m\u001b[1mwandb\u001b[0m: \tlr_decay: 190\n",
      "\u001b[34m\u001b[1mwandb\u001b[0m: \tmemory_size: 40000\n",
      "\u001b[34m\u001b[1mwandb\u001b[0m: \ttarget_update: 31\n"
     ]
    },
    {
     "data": {
      "text/html": [
       "wandb version 0.12.17 is available!  To upgrade, please run:\n",
       " $ pip install wandb --upgrade"
      ],
      "text/plain": [
       "<IPython.core.display.HTML object>"
      ]
     },
     "metadata": {},
     "output_type": "display_data"
    },
    {
     "data": {
      "text/html": [
       "Tracking run with wandb version 0.12.11"
      ],
      "text/plain": [
       "<IPython.core.display.HTML object>"
      ]
     },
     "metadata": {},
     "output_type": "display_data"
    },
    {
     "data": {
      "text/html": [
       "Run data is saved locally in <code>/Users/utilisateur/Epitech/T_AIA_902_msc2022_group-44/wandb/run-20220603_140530-de6cqi0d</code>"
      ],
      "text/plain": [
       "<IPython.core.display.HTML object>"
      ]
     },
     "metadata": {},
     "output_type": "display_data"
    },
    {
     "data": {
      "text/html": [
       "Syncing run <strong><a href=\"https://wandb.ai/hugoallegaert/uncategorized/runs/de6cqi0d\" target=\"_blank\">easy-sweep-2</a></strong> to <a href=\"https://wandb.ai/hugoallegaert/uncategorized\" target=\"_blank\">Weights & Biases</a> (<a href=\"https://wandb.me/run\" target=\"_blank\">docs</a>)<br/>Sweep page:  <a href=\"https://wandb.ai/hugoallegaert/uncategorized/sweeps/vhfjmlpf\" target=\"_blank\">https://wandb.ai/hugoallegaert/uncategorized/sweeps/vhfjmlpf</a>"
      ],
      "text/plain": [
       "<IPython.core.display.HTML object>"
      ]
     },
     "metadata": {},
     "output_type": "display_data"
    },
    {
     "name": "stdout",
     "output_type": "stream",
     "text": [
      "Training episode: 1/900\n",
      "Episode 0\tAverage Score: -496.00\n",
      "Training episode: 101/900\n",
      "Episode 100\tAverage Score: -380.38\n",
      "Training episode: 201/900\n",
      "Episode 200\tAverage Score: -389.96\n",
      "Training episode: 301/900\n",
      "Episode 300\tAverage Score: -180.93\n",
      "Training episode: 401/900\n",
      "Episode 400\tAverage Score: -103.99\n",
      "Training episode: 501/900\n",
      "Episode 500\tAverage Score: -100.56\n",
      "Training episode: 601/900\n",
      "Episode 600\tAverage Score: -100.75\n",
      "Training episode: 701/900\n",
      "Episode 700\tAverage Score: -100.05\n",
      "Training episode: 801/900\n",
      "Episode 800\tAverage Score: -99.61\n",
      "Training episode: 900/900\n"
     ]
    },
    {
     "data": {
      "text/html": [
       "Waiting for W&B process to finish... <strong style=\"color:green\">(success).</strong>"
      ],
      "text/plain": [
       "<IPython.core.display.HTML object>"
      ]
     },
     "metadata": {},
     "output_type": "display_data"
    },
    {
     "data": {
      "application/vnd.jupyter.widget-view+json": {
       "model_id": "",
       "version_major": 2,
       "version_minor": 0
      },
      "text/plain": [
       "VBox(children=(Label(value='0.001 MB of 0.001 MB uploaded (0.000 MB deduped)\\r'), FloatProgress(value=1.0, max…"
      ]
     },
     "metadata": {},
     "output_type": "display_data"
    },
    {
     "data": {
      "text/html": [
       "<style>\n",
       "    table.wandb td:nth-child(1) { padding: 0 10px; text-align: right }\n",
       "    .wandb-row { display: flex; flex-direction: row; flex-wrap: wrap; width: 100% }\n",
       "    .wandb-col { display: flex; flex-direction: column; flex-basis: 100%; flex: 1; padding: 10px; }\n",
       "    </style>\n",
       "<div class=\"wandb-row\"><div class=\"wandb-col\"><h3>Run history:</h3><br/><table class=\"wandb\"><tr><td>reward</td><td>▁</td></tr></table><br/></div><div class=\"wandb-col\"><h3>Run summary:</h3><br/><table class=\"wandb\"><tr><td>reward</td><td>-102.25</td></tr></table><br/></div></div>"
      ],
      "text/plain": [
       "<IPython.core.display.HTML object>"
      ]
     },
     "metadata": {},
     "output_type": "display_data"
    },
    {
     "data": {
      "text/html": [
       "Synced <strong style=\"color:#cdcd00\">easy-sweep-2</strong>: <a href=\"https://wandb.ai/hugoallegaert/uncategorized/runs/de6cqi0d\" target=\"_blank\">https://wandb.ai/hugoallegaert/uncategorized/runs/de6cqi0d</a><br/>Synced 5 W&B file(s), 0 media file(s), 0 artifact file(s) and 0 other file(s)"
      ],
      "text/plain": [
       "<IPython.core.display.HTML object>"
      ]
     },
     "metadata": {},
     "output_type": "display_data"
    },
    {
     "data": {
      "text/html": [
       "Find logs at: <code>./wandb/run-20220603_140530-de6cqi0d/logs</code>"
      ],
      "text/plain": [
       "<IPython.core.display.HTML object>"
      ]
     },
     "metadata": {},
     "output_type": "display_data"
    },
    {
     "name": "stderr",
     "output_type": "stream",
     "text": [
      "\u001b[34m\u001b[1mwandb\u001b[0m: Agent Starting Run: b9sb7vaw with config:\n",
      "\u001b[34m\u001b[1mwandb\u001b[0m: \tbatch_size: 259\n",
      "\u001b[34m\u001b[1mwandb\u001b[0m: \tepochs: 900\n",
      "\u001b[34m\u001b[1mwandb\u001b[0m: \teps_decay: 187\n",
      "\u001b[34m\u001b[1mwandb\u001b[0m: \tgamma: 0.21843400200901347\n",
      "\u001b[34m\u001b[1mwandb\u001b[0m: \tloss: mae\n",
      "\u001b[34m\u001b[1mwandb\u001b[0m: \tlr_decay: 254\n",
      "\u001b[34m\u001b[1mwandb\u001b[0m: \tmemory_size: 2048\n",
      "\u001b[34m\u001b[1mwandb\u001b[0m: \ttarget_update: 28\n"
     ]
    },
    {
     "data": {
      "text/html": [
       "wandb version 0.12.17 is available!  To upgrade, please run:\n",
       " $ pip install wandb --upgrade"
      ],
      "text/plain": [
       "<IPython.core.display.HTML object>"
      ]
     },
     "metadata": {},
     "output_type": "display_data"
    },
    {
     "data": {
      "text/html": [
       "Tracking run with wandb version 0.12.11"
      ],
      "text/plain": [
       "<IPython.core.display.HTML object>"
      ]
     },
     "metadata": {},
     "output_type": "display_data"
    },
    {
     "data": {
      "text/html": [
       "Run data is saved locally in <code>/Users/utilisateur/Epitech/T_AIA_902_msc2022_group-44/wandb/run-20220603_140926-b9sb7vaw</code>"
      ],
      "text/plain": [
       "<IPython.core.display.HTML object>"
      ]
     },
     "metadata": {},
     "output_type": "display_data"
    },
    {
     "data": {
      "text/html": [
       "Syncing run <strong><a href=\"https://wandb.ai/hugoallegaert/uncategorized/runs/b9sb7vaw\" target=\"_blank\">light-sweep-3</a></strong> to <a href=\"https://wandb.ai/hugoallegaert/uncategorized\" target=\"_blank\">Weights & Biases</a> (<a href=\"https://wandb.me/run\" target=\"_blank\">docs</a>)<br/>Sweep page:  <a href=\"https://wandb.ai/hugoallegaert/uncategorized/sweeps/vhfjmlpf\" target=\"_blank\">https://wandb.ai/hugoallegaert/uncategorized/sweeps/vhfjmlpf</a>"
      ],
      "text/plain": [
       "<IPython.core.display.HTML object>"
      ]
     },
     "metadata": {},
     "output_type": "display_data"
    },
    {
     "name": "stdout",
     "output_type": "stream",
     "text": [
      "Training episode: 1/900\n",
      "Episode 0\tAverage Score: -451.00\n",
      "Training episode: 101/900\n",
      "Episode 100\tAverage Score: -384.78\n",
      "Training episode: 201/900\n",
      "Episode 200\tAverage Score: -388.61\n",
      "Training episode: 301/900\n",
      "Episode 300\tAverage Score: -210.34\n",
      "Training episode: 401/900\n",
      "Episode 400\tAverage Score: -110.53\n",
      "Training episode: 501/900\n",
      "Episode 500\tAverage Score: -103.33\n",
      "Training episode: 601/900\n",
      "Episode 600\tAverage Score: -103.15\n",
      "Training episode: 701/900\n",
      "Episode 700\tAverage Score: -102.52\n",
      "Training episode: 801/900\n",
      "Episode 800\tAverage Score: -103.33\n",
      "Training episode: 900/900\n"
     ]
    },
    {
     "data": {
      "text/html": [
       "Waiting for W&B process to finish... <strong style=\"color:green\">(success).</strong>"
      ],
      "text/plain": [
       "<IPython.core.display.HTML object>"
      ]
     },
     "metadata": {},
     "output_type": "display_data"
    },
    {
     "data": {
      "application/vnd.jupyter.widget-view+json": {
       "model_id": "",
       "version_major": 2,
       "version_minor": 0
      },
      "text/plain": [
       "VBox(children=(Label(value='0.001 MB of 0.001 MB uploaded (0.000 MB deduped)\\r'), FloatProgress(value=1.0, max…"
      ]
     },
     "metadata": {},
     "output_type": "display_data"
    },
    {
     "data": {
      "text/html": [
       "<style>\n",
       "    table.wandb td:nth-child(1) { padding: 0 10px; text-align: right }\n",
       "    .wandb-row { display: flex; flex-direction: row; flex-wrap: wrap; width: 100% }\n",
       "    .wandb-col { display: flex; flex-direction: column; flex-basis: 100%; flex: 1; padding: 10px; }\n",
       "    </style>\n",
       "<div class=\"wandb-row\"><div class=\"wandb-col\"><h3>Run history:</h3><br/><table class=\"wandb\"><tr><td>reward</td><td>▁</td></tr></table><br/></div><div class=\"wandb-col\"><h3>Run summary:</h3><br/><table class=\"wandb\"><tr><td>reward</td><td>-102.52</td></tr></table><br/></div></div>"
      ],
      "text/plain": [
       "<IPython.core.display.HTML object>"
      ]
     },
     "metadata": {},
     "output_type": "display_data"
    },
    {
     "data": {
      "text/html": [
       "Synced <strong style=\"color:#cdcd00\">light-sweep-3</strong>: <a href=\"https://wandb.ai/hugoallegaert/uncategorized/runs/b9sb7vaw\" target=\"_blank\">https://wandb.ai/hugoallegaert/uncategorized/runs/b9sb7vaw</a><br/>Synced 5 W&B file(s), 0 media file(s), 0 artifact file(s) and 0 other file(s)"
      ],
      "text/plain": [
       "<IPython.core.display.HTML object>"
      ]
     },
     "metadata": {},
     "output_type": "display_data"
    },
    {
     "data": {
      "text/html": [
       "Find logs at: <code>./wandb/run-20220603_140926-b9sb7vaw/logs</code>"
      ],
      "text/plain": [
       "<IPython.core.display.HTML object>"
      ]
     },
     "metadata": {},
     "output_type": "display_data"
    },
    {
     "name": "stderr",
     "output_type": "stream",
     "text": [
      "\u001b[34m\u001b[1mwandb\u001b[0m: Sweep Agent: Waiting for job.\n",
      "\u001b[34m\u001b[1mwandb\u001b[0m: Job received.\n",
      "\u001b[34m\u001b[1mwandb\u001b[0m: Agent Starting Run: dx5lw38c with config:\n",
      "\u001b[34m\u001b[1mwandb\u001b[0m: \tbatch_size: 103\n",
      "\u001b[34m\u001b[1mwandb\u001b[0m: \tepochs: 900\n",
      "\u001b[34m\u001b[1mwandb\u001b[0m: \teps_decay: 320\n",
      "\u001b[34m\u001b[1mwandb\u001b[0m: \tgamma: 0.889210416912673\n",
      "\u001b[34m\u001b[1mwandb\u001b[0m: \tloss: huber\n",
      "\u001b[34m\u001b[1mwandb\u001b[0m: \tlr_decay: 216\n",
      "\u001b[34m\u001b[1mwandb\u001b[0m: \tmemory_size: 1025\n",
      "\u001b[34m\u001b[1mwandb\u001b[0m: \ttarget_update: 5\n"
     ]
    },
    {
     "data": {
      "text/html": [
       "wandb version 0.12.17 is available!  To upgrade, please run:\n",
       " $ pip install wandb --upgrade"
      ],
      "text/plain": [
       "<IPython.core.display.HTML object>"
      ]
     },
     "metadata": {},
     "output_type": "display_data"
    },
    {
     "data": {
      "text/html": [
       "Tracking run with wandb version 0.12.11"
      ],
      "text/plain": [
       "<IPython.core.display.HTML object>"
      ]
     },
     "metadata": {},
     "output_type": "display_data"
    },
    {
     "data": {
      "text/html": [
       "Run data is saved locally in <code>/Users/utilisateur/Epitech/T_AIA_902_msc2022_group-44/wandb/run-20220603_141305-dx5lw38c</code>"
      ],
      "text/plain": [
       "<IPython.core.display.HTML object>"
      ]
     },
     "metadata": {},
     "output_type": "display_data"
    },
    {
     "data": {
      "text/html": [
       "Syncing run <strong><a href=\"https://wandb.ai/hugoallegaert/uncategorized/runs/dx5lw38c\" target=\"_blank\">volcanic-sweep-4</a></strong> to <a href=\"https://wandb.ai/hugoallegaert/uncategorized\" target=\"_blank\">Weights & Biases</a> (<a href=\"https://wandb.me/run\" target=\"_blank\">docs</a>)<br/>Sweep page:  <a href=\"https://wandb.ai/hugoallegaert/uncategorized/sweeps/vhfjmlpf\" target=\"_blank\">https://wandb.ai/hugoallegaert/uncategorized/sweeps/vhfjmlpf</a>"
      ],
      "text/plain": [
       "<IPython.core.display.HTML object>"
      ]
     },
     "metadata": {},
     "output_type": "display_data"
    },
    {
     "name": "stdout",
     "output_type": "stream",
     "text": [
      "Training episode: 1/900\n",
      "Episode 0\tAverage Score: -334.00\n",
      "Training episode: 101/900\n",
      "Episode 100\tAverage Score: -400.51\n",
      "Training episode: 201/900\n",
      "Episode 200\tAverage Score: -387.84\n",
      "Training episode: 301/900\n",
      "Episode 300\tAverage Score: -255.19\n",
      "Training episode: 401/900\n",
      "Episode 400\tAverage Score: -136.72\n",
      "Training episode: 501/900\n",
      "Episode 500\tAverage Score: -110.89\n",
      "Training episode: 601/900\n",
      "Episode 600\tAverage Score: -104.32\n",
      "Training episode: 701/900\n",
      "Episode 700\tAverage Score: -103.87\n",
      "Training episode: 801/900\n",
      "Episode 800\tAverage Score: -103.06\n",
      "Training episode: 900/900\n"
     ]
    },
    {
     "data": {
      "text/html": [
       "Waiting for W&B process to finish... <strong style=\"color:green\">(success).</strong>"
      ],
      "text/plain": [
       "<IPython.core.display.HTML object>"
      ]
     },
     "metadata": {},
     "output_type": "display_data"
    },
    {
     "data": {
      "application/vnd.jupyter.widget-view+json": {
       "model_id": "",
       "version_major": 2,
       "version_minor": 0
      },
      "text/plain": [
       "VBox(children=(Label(value='0.001 MB of 0.001 MB uploaded (0.000 MB deduped)\\r'), FloatProgress(value=1.0, max…"
      ]
     },
     "metadata": {},
     "output_type": "display_data"
    },
    {
     "data": {
      "text/html": [
       "<style>\n",
       "    table.wandb td:nth-child(1) { padding: 0 10px; text-align: right }\n",
       "    .wandb-row { display: flex; flex-direction: row; flex-wrap: wrap; width: 100% }\n",
       "    .wandb-col { display: flex; flex-direction: column; flex-basis: 100%; flex: 1; padding: 10px; }\n",
       "    </style>\n",
       "<div class=\"wandb-row\"><div class=\"wandb-col\"><h3>Run history:</h3><br/><table class=\"wandb\"><tr><td>reward</td><td>▁</td></tr></table><br/></div><div class=\"wandb-col\"><h3>Run summary:</h3><br/><table class=\"wandb\"><tr><td>reward</td><td>-102.16</td></tr></table><br/></div></div>"
      ],
      "text/plain": [
       "<IPython.core.display.HTML object>"
      ]
     },
     "metadata": {},
     "output_type": "display_data"
    },
    {
     "data": {
      "text/html": [
       "Synced <strong style=\"color:#cdcd00\">volcanic-sweep-4</strong>: <a href=\"https://wandb.ai/hugoallegaert/uncategorized/runs/dx5lw38c\" target=\"_blank\">https://wandb.ai/hugoallegaert/uncategorized/runs/dx5lw38c</a><br/>Synced 5 W&B file(s), 0 media file(s), 0 artifact file(s) and 0 other file(s)"
      ],
      "text/plain": [
       "<IPython.core.display.HTML object>"
      ]
     },
     "metadata": {},
     "output_type": "display_data"
    },
    {
     "data": {
      "text/html": [
       "Find logs at: <code>./wandb/run-20220603_141305-dx5lw38c/logs</code>"
      ],
      "text/plain": [
       "<IPython.core.display.HTML object>"
      ]
     },
     "metadata": {},
     "output_type": "display_data"
    },
    {
     "name": "stderr",
     "output_type": "stream",
     "text": [
      "\u001b[34m\u001b[1mwandb\u001b[0m: Agent Starting Run: la80md25 with config:\n",
      "\u001b[34m\u001b[1mwandb\u001b[0m: \tbatch_size: 304\n",
      "\u001b[34m\u001b[1mwandb\u001b[0m: \tepochs: 900\n",
      "\u001b[34m\u001b[1mwandb\u001b[0m: \teps_decay: 114\n",
      "\u001b[34m\u001b[1mwandb\u001b[0m: \tgamma: 0.7671958863516961\n",
      "\u001b[34m\u001b[1mwandb\u001b[0m: \tloss: mse\n",
      "\u001b[34m\u001b[1mwandb\u001b[0m: \tlr_decay: 179\n",
      "\u001b[34m\u001b[1mwandb\u001b[0m: \tmemory_size: 4096\n",
      "\u001b[34m\u001b[1mwandb\u001b[0m: \ttarget_update: 36\n"
     ]
    },
    {
     "data": {
      "text/html": [
       "wandb version 0.12.17 is available!  To upgrade, please run:\n",
       " $ pip install wandb --upgrade"
      ],
      "text/plain": [
       "<IPython.core.display.HTML object>"
      ]
     },
     "metadata": {},
     "output_type": "display_data"
    },
    {
     "data": {
      "text/html": [
       "Tracking run with wandb version 0.12.11"
      ],
      "text/plain": [
       "<IPython.core.display.HTML object>"
      ]
     },
     "metadata": {},
     "output_type": "display_data"
    },
    {
     "data": {
      "text/html": [
       "Run data is saved locally in <code>/Users/utilisateur/Epitech/T_AIA_902_msc2022_group-44/wandb/run-20220603_141557-la80md25</code>"
      ],
      "text/plain": [
       "<IPython.core.display.HTML object>"
      ]
     },
     "metadata": {},
     "output_type": "display_data"
    },
    {
     "data": {
      "text/html": [
       "Syncing run <strong><a href=\"https://wandb.ai/hugoallegaert/uncategorized/runs/la80md25\" target=\"_blank\">gallant-sweep-5</a></strong> to <a href=\"https://wandb.ai/hugoallegaert/uncategorized\" target=\"_blank\">Weights & Biases</a> (<a href=\"https://wandb.me/run\" target=\"_blank\">docs</a>)<br/>Sweep page:  <a href=\"https://wandb.ai/hugoallegaert/uncategorized/sweeps/vhfjmlpf\" target=\"_blank\">https://wandb.ai/hugoallegaert/uncategorized/sweeps/vhfjmlpf</a>"
      ],
      "text/plain": [
       "<IPython.core.display.HTML object>"
      ]
     },
     "metadata": {},
     "output_type": "display_data"
    },
    {
     "name": "stdout",
     "output_type": "stream",
     "text": [
      "Training episode: 1/900\n",
      "Episode 0\tAverage Score: -316.00\n",
      "Training episode: 101/900\n",
      "Episode 100\tAverage Score: -392.32\n",
      "Training episode: 201/900\n",
      "Episode 200\tAverage Score: -390.35\n",
      "Training episode: 301/900\n",
      "Episode 300\tAverage Score: -168.22\n",
      "Training episode: 401/900\n",
      "Episode 400\tAverage Score: -103.06\n",
      "Training episode: 501/900\n",
      "Episode 500\tAverage Score: -102.88\n",
      "Training episode: 601/900\n",
      "Episode 600\tAverage Score: -103.24\n",
      "Training episode: 701/900\n",
      "Episode 700\tAverage Score: -102.52\n",
      "Training episode: 801/900\n",
      "Episode 800\tAverage Score: -102.88\n",
      "Training episode: 900/900\n"
     ]
    },
    {
     "data": {
      "text/html": [
       "Waiting for W&B process to finish... <strong style=\"color:green\">(success).</strong>"
      ],
      "text/plain": [
       "<IPython.core.display.HTML object>"
      ]
     },
     "metadata": {},
     "output_type": "display_data"
    },
    {
     "data": {
      "application/vnd.jupyter.widget-view+json": {
       "model_id": "",
       "version_major": 2,
       "version_minor": 0
      },
      "text/plain": [
       "VBox(children=(Label(value='0.001 MB of 0.001 MB uploaded (0.000 MB deduped)\\r'), FloatProgress(value=1.0, max…"
      ]
     },
     "metadata": {},
     "output_type": "display_data"
    },
    {
     "data": {
      "text/html": [
       "<style>\n",
       "    table.wandb td:nth-child(1) { padding: 0 10px; text-align: right }\n",
       "    .wandb-row { display: flex; flex-direction: row; flex-wrap: wrap; width: 100% }\n",
       "    .wandb-col { display: flex; flex-direction: column; flex-basis: 100%; flex: 1; padding: 10px; }\n",
       "    </style>\n",
       "<div class=\"wandb-row\"><div class=\"wandb-col\"><h3>Run history:</h3><br/><table class=\"wandb\"><tr><td>reward</td><td>▁</td></tr></table><br/></div><div class=\"wandb-col\"><h3>Run summary:</h3><br/><table class=\"wandb\"><tr><td>reward</td><td>-106.84</td></tr></table><br/></div></div>"
      ],
      "text/plain": [
       "<IPython.core.display.HTML object>"
      ]
     },
     "metadata": {},
     "output_type": "display_data"
    },
    {
     "data": {
      "text/html": [
       "Synced <strong style=\"color:#cdcd00\">gallant-sweep-5</strong>: <a href=\"https://wandb.ai/hugoallegaert/uncategorized/runs/la80md25\" target=\"_blank\">https://wandb.ai/hugoallegaert/uncategorized/runs/la80md25</a><br/>Synced 5 W&B file(s), 0 media file(s), 0 artifact file(s) and 0 other file(s)"
      ],
      "text/plain": [
       "<IPython.core.display.HTML object>"
      ]
     },
     "metadata": {},
     "output_type": "display_data"
    },
    {
     "data": {
      "text/html": [
       "Find logs at: <code>./wandb/run-20220603_141557-la80md25/logs</code>"
      ],
      "text/plain": [
       "<IPython.core.display.HTML object>"
      ]
     },
     "metadata": {},
     "output_type": "display_data"
    },
    {
     "name": "stderr",
     "output_type": "stream",
     "text": [
      "\u001b[34m\u001b[1mwandb\u001b[0m: Agent Starting Run: f4u5gwwu with config:\n",
      "\u001b[34m\u001b[1mwandb\u001b[0m: \tbatch_size: 68\n",
      "\u001b[34m\u001b[1mwandb\u001b[0m: \tepochs: 900\n",
      "\u001b[34m\u001b[1mwandb\u001b[0m: \teps_decay: 57\n",
      "\u001b[34m\u001b[1mwandb\u001b[0m: \tgamma: 0.6493605658893583\n",
      "\u001b[34m\u001b[1mwandb\u001b[0m: \tloss: mse\n",
      "\u001b[34m\u001b[1mwandb\u001b[0m: \tlr_decay: 174\n",
      "\u001b[34m\u001b[1mwandb\u001b[0m: \tmemory_size: 1025\n",
      "\u001b[34m\u001b[1mwandb\u001b[0m: \ttarget_update: 46\n"
     ]
    },
    {
     "data": {
      "text/html": [
       "wandb version 0.12.17 is available!  To upgrade, please run:\n",
       " $ pip install wandb --upgrade"
      ],
      "text/plain": [
       "<IPython.core.display.HTML object>"
      ]
     },
     "metadata": {},
     "output_type": "display_data"
    },
    {
     "data": {
      "text/html": [
       "Tracking run with wandb version 0.12.11"
      ],
      "text/plain": [
       "<IPython.core.display.HTML object>"
      ]
     },
     "metadata": {},
     "output_type": "display_data"
    },
    {
     "data": {
      "text/html": [
       "Run data is saved locally in <code>/Users/utilisateur/Epitech/T_AIA_902_msc2022_group-44/wandb/run-20220603_142001-f4u5gwwu</code>"
      ],
      "text/plain": [
       "<IPython.core.display.HTML object>"
      ]
     },
     "metadata": {},
     "output_type": "display_data"
    },
    {
     "data": {
      "text/html": [
       "Syncing run <strong><a href=\"https://wandb.ai/hugoallegaert/uncategorized/runs/f4u5gwwu\" target=\"_blank\">ethereal-sweep-6</a></strong> to <a href=\"https://wandb.ai/hugoallegaert/uncategorized\" target=\"_blank\">Weights & Biases</a> (<a href=\"https://wandb.me/run\" target=\"_blank\">docs</a>)<br/>Sweep page:  <a href=\"https://wandb.ai/hugoallegaert/uncategorized/sweeps/vhfjmlpf\" target=\"_blank\">https://wandb.ai/hugoallegaert/uncategorized/sweeps/vhfjmlpf</a>"
      ],
      "text/plain": [
       "<IPython.core.display.HTML object>"
      ]
     },
     "metadata": {},
     "output_type": "display_data"
    },
    {
     "name": "stdout",
     "output_type": "stream",
     "text": [
      "Training episode: 1/900\n",
      "Episode 0\tAverage Score: -424.00\n",
      "Training episode: 101/900\n",
      "Episode 100\tAverage Score: -414.25\n",
      "Training episode: 201/900\n",
      "Episode 200\tAverage Score: -415.10\n",
      "Training episode: 301/900\n",
      "Episode 300\tAverage Score: -136.72\n",
      "Training episode: 401/900\n",
      "Episode 400\tAverage Score: -102.07\n",
      "Training episode: 501/900\n",
      "Episode 500\tAverage Score: -102.70\n",
      "Training episode: 601/900\n",
      "Episode 600\tAverage Score: -102.79\n",
      "Training episode: 701/900\n",
      "Episode 700\tAverage Score: -103.51\n",
      "Training episode: 801/900\n",
      "Episode 800\tAverage Score: -102.52\n",
      "Training episode: 900/900\n"
     ]
    },
    {
     "data": {
      "text/html": [
       "Waiting for W&B process to finish... <strong style=\"color:green\">(success).</strong>"
      ],
      "text/plain": [
       "<IPython.core.display.HTML object>"
      ]
     },
     "metadata": {},
     "output_type": "display_data"
    },
    {
     "data": {
      "application/vnd.jupyter.widget-view+json": {
       "model_id": "",
       "version_major": 2,
       "version_minor": 0
      },
      "text/plain": [
       "VBox(children=(Label(value='0.001 MB of 0.001 MB uploaded (0.000 MB deduped)\\r'), FloatProgress(value=1.0, max…"
      ]
     },
     "metadata": {},
     "output_type": "display_data"
    },
    {
     "data": {
      "text/html": [
       "<style>\n",
       "    table.wandb td:nth-child(1) { padding: 0 10px; text-align: right }\n",
       "    .wandb-row { display: flex; flex-direction: row; flex-wrap: wrap; width: 100% }\n",
       "    .wandb-col { display: flex; flex-direction: column; flex-basis: 100%; flex: 1; padding: 10px; }\n",
       "    </style>\n",
       "<div class=\"wandb-row\"><div class=\"wandb-col\"><h3>Run history:</h3><br/><table class=\"wandb\"><tr><td>reward</td><td>▁</td></tr></table><br/></div><div class=\"wandb-col\"><h3>Run summary:</h3><br/><table class=\"wandb\"><tr><td>reward</td><td>-102.25</td></tr></table><br/></div></div>"
      ],
      "text/plain": [
       "<IPython.core.display.HTML object>"
      ]
     },
     "metadata": {},
     "output_type": "display_data"
    },
    {
     "data": {
      "text/html": [
       "Synced <strong style=\"color:#cdcd00\">ethereal-sweep-6</strong>: <a href=\"https://wandb.ai/hugoallegaert/uncategorized/runs/f4u5gwwu\" target=\"_blank\">https://wandb.ai/hugoallegaert/uncategorized/runs/f4u5gwwu</a><br/>Synced 5 W&B file(s), 0 media file(s), 0 artifact file(s) and 0 other file(s)"
      ],
      "text/plain": [
       "<IPython.core.display.HTML object>"
      ]
     },
     "metadata": {},
     "output_type": "display_data"
    },
    {
     "data": {
      "text/html": [
       "Find logs at: <code>./wandb/run-20220603_142001-f4u5gwwu/logs</code>"
      ],
      "text/plain": [
       "<IPython.core.display.HTML object>"
      ]
     },
     "metadata": {},
     "output_type": "display_data"
    },
    {
     "name": "stderr",
     "output_type": "stream",
     "text": [
      "\u001b[34m\u001b[1mwandb\u001b[0m: Sweep Agent: Waiting for job.\n",
      "\u001b[34m\u001b[1mwandb\u001b[0m: Job received.\n",
      "\u001b[34m\u001b[1mwandb\u001b[0m: Agent Starting Run: 9x0wcrxc with config:\n",
      "\u001b[34m\u001b[1mwandb\u001b[0m: \tbatch_size: 396\n",
      "\u001b[34m\u001b[1mwandb\u001b[0m: \tepochs: 900\n",
      "\u001b[34m\u001b[1mwandb\u001b[0m: \teps_decay: 142\n",
      "\u001b[34m\u001b[1mwandb\u001b[0m: \tgamma: 0.8882826690841862\n",
      "\u001b[34m\u001b[1mwandb\u001b[0m: \tloss: mae\n",
      "\u001b[34m\u001b[1mwandb\u001b[0m: \tlr_decay: 180\n",
      "\u001b[34m\u001b[1mwandb\u001b[0m: \tmemory_size: 1025\n",
      "\u001b[34m\u001b[1mwandb\u001b[0m: \ttarget_update: 49\n"
     ]
    },
    {
     "data": {
      "text/html": [
       "wandb version 0.12.17 is available!  To upgrade, please run:\n",
       " $ pip install wandb --upgrade"
      ],
      "text/plain": [
       "<IPython.core.display.HTML object>"
      ]
     },
     "metadata": {},
     "output_type": "display_data"
    },
    {
     "data": {
      "text/html": [
       "Tracking run with wandb version 0.12.11"
      ],
      "text/plain": [
       "<IPython.core.display.HTML object>"
      ]
     },
     "metadata": {},
     "output_type": "display_data"
    },
    {
     "data": {
      "text/html": [
       "Run data is saved locally in <code>/Users/utilisateur/Epitech/T_AIA_902_msc2022_group-44/wandb/run-20220603_142257-9x0wcrxc</code>"
      ],
      "text/plain": [
       "<IPython.core.display.HTML object>"
      ]
     },
     "metadata": {},
     "output_type": "display_data"
    },
    {
     "data": {
      "text/html": [
       "Syncing run <strong><a href=\"https://wandb.ai/hugoallegaert/uncategorized/runs/9x0wcrxc\" target=\"_blank\">crimson-sweep-7</a></strong> to <a href=\"https://wandb.ai/hugoallegaert/uncategorized\" target=\"_blank\">Weights & Biases</a> (<a href=\"https://wandb.me/run\" target=\"_blank\">docs</a>)<br/>Sweep page:  <a href=\"https://wandb.ai/hugoallegaert/uncategorized/sweeps/vhfjmlpf\" target=\"_blank\">https://wandb.ai/hugoallegaert/uncategorized/sweeps/vhfjmlpf</a>"
      ],
      "text/plain": [
       "<IPython.core.display.HTML object>"
      ]
     },
     "metadata": {},
     "output_type": "display_data"
    },
    {
     "name": "stdout",
     "output_type": "stream",
     "text": [
      "Training episode: 1/900\n",
      "Episode 0\tAverage Score: -379.00\n",
      "Training episode: 101/900\n",
      "Episode 100\tAverage Score: -390.94\n",
      "Training episode: 201/900\n",
      "Episode 200\tAverage Score: -382.15\n",
      "Training episode: 301/900\n",
      "Episode 300\tAverage Score: -187.21\n",
      "Training episode: 401/900\n",
      "Episode 400\tAverage Score: -105.13\n",
      "Training episode: 501/900\n",
      "Episode 500\tAverage Score: -103.06\n",
      "Training episode: 601/900\n",
      "Episode 600\tAverage Score: -102.88\n",
      "Training episode: 701/900\n",
      "Episode 700\tAverage Score: -102.43\n",
      "Training episode: 801/900\n",
      "Episode 800\tAverage Score: -102.70\n",
      "Training episode: 900/900\n"
     ]
    },
    {
     "data": {
      "text/html": [
       "Waiting for W&B process to finish... <strong style=\"color:green\">(success).</strong>"
      ],
      "text/plain": [
       "<IPython.core.display.HTML object>"
      ]
     },
     "metadata": {},
     "output_type": "display_data"
    },
    {
     "data": {
      "application/vnd.jupyter.widget-view+json": {
       "model_id": "",
       "version_major": 2,
       "version_minor": 0
      },
      "text/plain": [
       "VBox(children=(Label(value='0.001 MB of 0.001 MB uploaded (0.000 MB deduped)\\r'), FloatProgress(value=1.0, max…"
      ]
     },
     "metadata": {},
     "output_type": "display_data"
    },
    {
     "data": {
      "text/html": [
       "<style>\n",
       "    table.wandb td:nth-child(1) { padding: 0 10px; text-align: right }\n",
       "    .wandb-row { display: flex; flex-direction: row; flex-wrap: wrap; width: 100% }\n",
       "    .wandb-col { display: flex; flex-direction: column; flex-basis: 100%; flex: 1; padding: 10px; }\n",
       "    </style>\n",
       "<div class=\"wandb-row\"><div class=\"wandb-col\"><h3>Run history:</h3><br/><table class=\"wandb\"><tr><td>reward</td><td>▁</td></tr></table><br/></div><div class=\"wandb-col\"><h3>Run summary:</h3><br/><table class=\"wandb\"><tr><td>reward</td><td>-106.3</td></tr></table><br/></div></div>"
      ],
      "text/plain": [
       "<IPython.core.display.HTML object>"
      ]
     },
     "metadata": {},
     "output_type": "display_data"
    },
    {
     "data": {
      "text/html": [
       "Synced <strong style=\"color:#cdcd00\">crimson-sweep-7</strong>: <a href=\"https://wandb.ai/hugoallegaert/uncategorized/runs/9x0wcrxc\" target=\"_blank\">https://wandb.ai/hugoallegaert/uncategorized/runs/9x0wcrxc</a><br/>Synced 5 W&B file(s), 0 media file(s), 0 artifact file(s) and 0 other file(s)"
      ],
      "text/plain": [
       "<IPython.core.display.HTML object>"
      ]
     },
     "metadata": {},
     "output_type": "display_data"
    },
    {
     "data": {
      "text/html": [
       "Find logs at: <code>./wandb/run-20220603_142257-9x0wcrxc/logs</code>"
      ],
      "text/plain": [
       "<IPython.core.display.HTML object>"
      ]
     },
     "metadata": {},
     "output_type": "display_data"
    },
    {
     "name": "stderr",
     "output_type": "stream",
     "text": [
      "\u001b[34m\u001b[1mwandb\u001b[0m: Agent Starting Run: nveq4ytt with config:\n",
      "\u001b[34m\u001b[1mwandb\u001b[0m: \tbatch_size: 504\n",
      "\u001b[34m\u001b[1mwandb\u001b[0m: \tepochs: 900\n",
      "\u001b[34m\u001b[1mwandb\u001b[0m: \teps_decay: 74\n",
      "\u001b[34m\u001b[1mwandb\u001b[0m: \tgamma: 0.6788268981304163\n",
      "\u001b[34m\u001b[1mwandb\u001b[0m: \tloss: mse\n",
      "\u001b[34m\u001b[1mwandb\u001b[0m: \tlr_decay: 400\n",
      "\u001b[34m\u001b[1mwandb\u001b[0m: \tmemory_size: 60000\n",
      "\u001b[34m\u001b[1mwandb\u001b[0m: \ttarget_update: 42\n"
     ]
    },
    {
     "data": {
      "text/html": [
       "wandb version 0.12.17 is available!  To upgrade, please run:\n",
       " $ pip install wandb --upgrade"
      ],
      "text/plain": [
       "<IPython.core.display.HTML object>"
      ]
     },
     "metadata": {},
     "output_type": "display_data"
    },
    {
     "data": {
      "text/html": [
       "Tracking run with wandb version 0.12.11"
      ],
      "text/plain": [
       "<IPython.core.display.HTML object>"
      ]
     },
     "metadata": {},
     "output_type": "display_data"
    },
    {
     "data": {
      "text/html": [
       "Run data is saved locally in <code>/Users/utilisateur/Epitech/T_AIA_902_msc2022_group-44/wandb/run-20220603_142742-nveq4ytt</code>"
      ],
      "text/plain": [
       "<IPython.core.display.HTML object>"
      ]
     },
     "metadata": {},
     "output_type": "display_data"
    },
    {
     "data": {
      "text/html": [
       "Syncing run <strong><a href=\"https://wandb.ai/hugoallegaert/uncategorized/runs/nveq4ytt\" target=\"_blank\">visionary-sweep-8</a></strong> to <a href=\"https://wandb.ai/hugoallegaert/uncategorized\" target=\"_blank\">Weights & Biases</a> (<a href=\"https://wandb.me/run\" target=\"_blank\">docs</a>)<br/>Sweep page:  <a href=\"https://wandb.ai/hugoallegaert/uncategorized/sweeps/vhfjmlpf\" target=\"_blank\">https://wandb.ai/hugoallegaert/uncategorized/sweeps/vhfjmlpf</a>"
      ],
      "text/plain": [
       "<IPython.core.display.HTML object>"
      ]
     },
     "metadata": {},
     "output_type": "display_data"
    },
    {
     "name": "stdout",
     "output_type": "stream",
     "text": [
      "Training episode: 1/900\n",
      "Episode 0\tAverage Score: -343.00\n",
      "Training episode: 101/900\n",
      "Episode 100\tAverage Score: -384.99\n",
      "Training episode: 201/900\n",
      "Episode 200\tAverage Score: -374.99\n",
      "Training episode: 301/900\n",
      "Episode 300\tAverage Score: -143.92\n",
      "Training episode: 401/900\n",
      "Episode 400\tAverage Score: -102.52\n",
      "Training episode: 501/900\n",
      "Episode 500\tAverage Score: -102.18\n",
      "Training episode: 601/900\n",
      "Episode 600\tAverage Score: -90.72\n",
      "Training episode: 701/900\n",
      "Episode 700\tAverage Score: -77.37\n",
      "Training episode: 801/900\n",
      "Episode 800\tAverage Score: -61.96\n",
      "Training episode: 900/900\n"
     ]
    },
    {
     "data": {
      "text/html": [
       "Waiting for W&B process to finish... <strong style=\"color:green\">(success).</strong>"
      ],
      "text/plain": [
       "<IPython.core.display.HTML object>"
      ]
     },
     "metadata": {},
     "output_type": "display_data"
    },
    {
     "data": {
      "application/vnd.jupyter.widget-view+json": {
       "model_id": "",
       "version_major": 2,
       "version_minor": 0
      },
      "text/plain": [
       "VBox(children=(Label(value='0.001 MB of 0.001 MB uploaded (0.000 MB deduped)\\r'), FloatProgress(value=1.0, max…"
      ]
     },
     "metadata": {},
     "output_type": "display_data"
    },
    {
     "data": {
      "text/html": [
       "<style>\n",
       "    table.wandb td:nth-child(1) { padding: 0 10px; text-align: right }\n",
       "    .wandb-row { display: flex; flex-direction: row; flex-wrap: wrap; width: 100% }\n",
       "    .wandb-col { display: flex; flex-direction: column; flex-basis: 100%; flex: 1; padding: 10px; }\n",
       "    </style>\n",
       "<div class=\"wandb-row\"><div class=\"wandb-col\"><h3>Run history:</h3><br/><table class=\"wandb\"><tr><td>reward</td><td>▁</td></tr></table><br/></div><div class=\"wandb-col\"><h3>Run summary:</h3><br/><table class=\"wandb\"><tr><td>reward</td><td>-62.44</td></tr></table><br/></div></div>"
      ],
      "text/plain": [
       "<IPython.core.display.HTML object>"
      ]
     },
     "metadata": {},
     "output_type": "display_data"
    },
    {
     "data": {
      "text/html": [
       "Synced <strong style=\"color:#cdcd00\">visionary-sweep-8</strong>: <a href=\"https://wandb.ai/hugoallegaert/uncategorized/runs/nveq4ytt\" target=\"_blank\">https://wandb.ai/hugoallegaert/uncategorized/runs/nveq4ytt</a><br/>Synced 5 W&B file(s), 0 media file(s), 0 artifact file(s) and 0 other file(s)"
      ],
      "text/plain": [
       "<IPython.core.display.HTML object>"
      ]
     },
     "metadata": {},
     "output_type": "display_data"
    },
    {
     "data": {
      "text/html": [
       "Find logs at: <code>./wandb/run-20220603_142742-nveq4ytt/logs</code>"
      ],
      "text/plain": [
       "<IPython.core.display.HTML object>"
      ]
     },
     "metadata": {},
     "output_type": "display_data"
    },
    {
     "name": "stderr",
     "output_type": "stream",
     "text": [
      "\u001b[34m\u001b[1mwandb\u001b[0m: Agent Starting Run: 0sxrwvrk with config:\n",
      "\u001b[34m\u001b[1mwandb\u001b[0m: \tbatch_size: 10\n",
      "\u001b[34m\u001b[1mwandb\u001b[0m: \tepochs: 900\n",
      "\u001b[34m\u001b[1mwandb\u001b[0m: \teps_decay: 282\n",
      "\u001b[34m\u001b[1mwandb\u001b[0m: \tgamma: 0.8637555100103826\n",
      "\u001b[34m\u001b[1mwandb\u001b[0m: \tloss: huber\n",
      "\u001b[34m\u001b[1mwandb\u001b[0m: \tlr_decay: 341\n",
      "\u001b[34m\u001b[1mwandb\u001b[0m: \tmemory_size: 10000\n",
      "\u001b[34m\u001b[1mwandb\u001b[0m: \ttarget_update: 3\n"
     ]
    },
    {
     "data": {
      "text/html": [
       "wandb version 0.12.17 is available!  To upgrade, please run:\n",
       " $ pip install wandb --upgrade"
      ],
      "text/plain": [
       "<IPython.core.display.HTML object>"
      ]
     },
     "metadata": {},
     "output_type": "display_data"
    },
    {
     "data": {
      "text/html": [
       "Tracking run with wandb version 0.12.11"
      ],
      "text/plain": [
       "<IPython.core.display.HTML object>"
      ]
     },
     "metadata": {},
     "output_type": "display_data"
    },
    {
     "data": {
      "text/html": [
       "Run data is saved locally in <code>/Users/utilisateur/Epitech/T_AIA_902_msc2022_group-44/wandb/run-20220603_143248-0sxrwvrk</code>"
      ],
      "text/plain": [
       "<IPython.core.display.HTML object>"
      ]
     },
     "metadata": {},
     "output_type": "display_data"
    },
    {
     "data": {
      "text/html": [
       "Syncing run <strong><a href=\"https://wandb.ai/hugoallegaert/uncategorized/runs/0sxrwvrk\" target=\"_blank\">wise-sweep-9</a></strong> to <a href=\"https://wandb.ai/hugoallegaert/uncategorized\" target=\"_blank\">Weights & Biases</a> (<a href=\"https://wandb.me/run\" target=\"_blank\">docs</a>)<br/>Sweep page:  <a href=\"https://wandb.ai/hugoallegaert/uncategorized/sweeps/vhfjmlpf\" target=\"_blank\">https://wandb.ai/hugoallegaert/uncategorized/sweeps/vhfjmlpf</a>"
      ],
      "text/plain": [
       "<IPython.core.display.HTML object>"
      ]
     },
     "metadata": {},
     "output_type": "display_data"
    },
    {
     "name": "stdout",
     "output_type": "stream",
     "text": [
      "Training episode: 1/900\n",
      "Episode 0\tAverage Score: -316.00\n",
      "Training episode: 101/900\n",
      "Episode 100\tAverage Score: -397.81\n",
      "Training episode: 201/900\n",
      "Episode 200\tAverage Score: -393.67\n",
      "Training episode: 301/900\n",
      "Episode 300\tAverage Score: -238.08\n",
      "Training episode: 401/900\n",
      "Episode 400\tAverage Score: -130.55\n",
      "Training episode: 501/900\n",
      "Episode 500\tAverage Score: -110.16\n",
      "Training episode: 601/900\n",
      "Episode 600\tAverage Score: -102.88\n",
      "Training episode: 701/900\n",
      "Episode 700\tAverage Score: -103.15\n",
      "Training episode: 801/900\n",
      "Episode 800\tAverage Score: -102.43\n",
      "Training episode: 900/900\n"
     ]
    },
    {
     "data": {
      "text/html": [
       "Waiting for W&B process to finish... <strong style=\"color:green\">(success).</strong>"
      ],
      "text/plain": [
       "<IPython.core.display.HTML object>"
      ]
     },
     "metadata": {},
     "output_type": "display_data"
    },
    {
     "data": {
      "application/vnd.jupyter.widget-view+json": {
       "model_id": "",
       "version_major": 2,
       "version_minor": 0
      },
      "text/plain": [
       "VBox(children=(Label(value='0.001 MB of 0.001 MB uploaded (0.000 MB deduped)\\r'), FloatProgress(value=1.0, max…"
      ]
     },
     "metadata": {},
     "output_type": "display_data"
    },
    {
     "data": {
      "text/html": [
       "<style>\n",
       "    table.wandb td:nth-child(1) { padding: 0 10px; text-align: right }\n",
       "    .wandb-row { display: flex; flex-direction: row; flex-wrap: wrap; width: 100% }\n",
       "    .wandb-col { display: flex; flex-direction: column; flex-basis: 100%; flex: 1; padding: 10px; }\n",
       "    </style>\n",
       "<div class=\"wandb-row\"><div class=\"wandb-col\"><h3>Run history:</h3><br/><table class=\"wandb\"><tr><td>reward</td><td>▁</td></tr></table><br/></div><div class=\"wandb-col\"><h3>Run summary:</h3><br/><table class=\"wandb\"><tr><td>reward</td><td>-102.34</td></tr></table><br/></div></div>"
      ],
      "text/plain": [
       "<IPython.core.display.HTML object>"
      ]
     },
     "metadata": {},
     "output_type": "display_data"
    },
    {
     "data": {
      "text/html": [
       "Synced <strong style=\"color:#cdcd00\">wise-sweep-9</strong>: <a href=\"https://wandb.ai/hugoallegaert/uncategorized/runs/0sxrwvrk\" target=\"_blank\">https://wandb.ai/hugoallegaert/uncategorized/runs/0sxrwvrk</a><br/>Synced 5 W&B file(s), 0 media file(s), 0 artifact file(s) and 0 other file(s)"
      ],
      "text/plain": [
       "<IPython.core.display.HTML object>"
      ]
     },
     "metadata": {},
     "output_type": "display_data"
    },
    {
     "data": {
      "text/html": [
       "Find logs at: <code>./wandb/run-20220603_143248-0sxrwvrk/logs</code>"
      ],
      "text/plain": [
       "<IPython.core.display.HTML object>"
      ]
     },
     "metadata": {},
     "output_type": "display_data"
    },
    {
     "name": "stderr",
     "output_type": "stream",
     "text": [
      "\u001b[34m\u001b[1mwandb\u001b[0m: Agent Starting Run: yjs0hb4i with config:\n",
      "\u001b[34m\u001b[1mwandb\u001b[0m: \tbatch_size: 488\n",
      "\u001b[34m\u001b[1mwandb\u001b[0m: \tepochs: 900\n",
      "\u001b[34m\u001b[1mwandb\u001b[0m: \teps_decay: 349\n",
      "\u001b[34m\u001b[1mwandb\u001b[0m: \tgamma: 0.9317551379842748\n",
      "\u001b[34m\u001b[1mwandb\u001b[0m: \tloss: mse\n",
      "\u001b[34m\u001b[1mwandb\u001b[0m: \tlr_decay: 73\n",
      "\u001b[34m\u001b[1mwandb\u001b[0m: \tmemory_size: 4096\n",
      "\u001b[34m\u001b[1mwandb\u001b[0m: \ttarget_update: 21\n"
     ]
    },
    {
     "data": {
      "text/html": [
       "wandb version 0.12.17 is available!  To upgrade, please run:\n",
       " $ pip install wandb --upgrade"
      ],
      "text/plain": [
       "<IPython.core.display.HTML object>"
      ]
     },
     "metadata": {},
     "output_type": "display_data"
    },
    {
     "data": {
      "text/html": [
       "Tracking run with wandb version 0.12.11"
      ],
      "text/plain": [
       "<IPython.core.display.HTML object>"
      ]
     },
     "metadata": {},
     "output_type": "display_data"
    },
    {
     "data": {
      "text/html": [
       "Run data is saved locally in <code>/Users/utilisateur/Epitech/T_AIA_902_msc2022_group-44/wandb/run-20220603_143507-yjs0hb4i</code>"
      ],
      "text/plain": [
       "<IPython.core.display.HTML object>"
      ]
     },
     "metadata": {},
     "output_type": "display_data"
    },
    {
     "data": {
      "text/html": [
       "Syncing run <strong><a href=\"https://wandb.ai/hugoallegaert/uncategorized/runs/yjs0hb4i\" target=\"_blank\">fanciful-sweep-10</a></strong> to <a href=\"https://wandb.ai/hugoallegaert/uncategorized\" target=\"_blank\">Weights & Biases</a> (<a href=\"https://wandb.me/run\" target=\"_blank\">docs</a>)<br/>Sweep page:  <a href=\"https://wandb.ai/hugoallegaert/uncategorized/sweeps/vhfjmlpf\" target=\"_blank\">https://wandb.ai/hugoallegaert/uncategorized/sweeps/vhfjmlpf</a>"
      ],
      "text/plain": [
       "<IPython.core.display.HTML object>"
      ]
     },
     "metadata": {},
     "output_type": "display_data"
    },
    {
     "name": "stdout",
     "output_type": "stream",
     "text": [
      "Training episode: 1/900\n",
      "Episode 0\tAverage Score: -298.00\n",
      "Training episode: 101/900\n",
      "Episode 100\tAverage Score: -393.34\n",
      "Training episode: 201/900\n",
      "Episode 200\tAverage Score: -399.16\n",
      "Training episode: 301/900\n",
      "Episode 300\tAverage Score: -262.09\n",
      "Training episode: 401/900\n",
      "Episode 400\tAverage Score: -145.04\n",
      "Training episode: 501/900\n",
      "Episode 500\tAverage Score: -114.76\n",
      "Training episode: 601/900\n",
      "Episode 600\tAverage Score: -107.02\n",
      "Training episode: 701/900\n",
      "Episode 700\tAverage Score: -104.14\n",
      "Training episode: 801/900\n",
      "Episode 800\tAverage Score: -103.15\n",
      "Training episode: 900/900\n"
     ]
    },
    {
     "data": {
      "text/html": [
       "Waiting for W&B process to finish... <strong style=\"color:green\">(success).</strong>"
      ],
      "text/plain": [
       "<IPython.core.display.HTML object>"
      ]
     },
     "metadata": {},
     "output_type": "display_data"
    },
    {
     "data": {
      "application/vnd.jupyter.widget-view+json": {
       "model_id": "",
       "version_major": 2,
       "version_minor": 0
      },
      "text/plain": [
       "VBox(children=(Label(value='0.001 MB of 0.001 MB uploaded (0.000 MB deduped)\\r'), FloatProgress(value=1.0, max…"
      ]
     },
     "metadata": {},
     "output_type": "display_data"
    },
    {
     "data": {
      "text/html": [
       "<style>\n",
       "    table.wandb td:nth-child(1) { padding: 0 10px; text-align: right }\n",
       "    .wandb-row { display: flex; flex-direction: row; flex-wrap: wrap; width: 100% }\n",
       "    .wandb-col { display: flex; flex-direction: column; flex-basis: 100%; flex: 1; padding: 10px; }\n",
       "    </style>\n",
       "<div class=\"wandb-row\"><div class=\"wandb-col\"><h3>Run history:</h3><br/><table class=\"wandb\"><tr><td>reward</td><td>▁</td></tr></table><br/></div><div class=\"wandb-col\"><h3>Run summary:</h3><br/><table class=\"wandb\"><tr><td>reward</td><td>-103.42</td></tr></table><br/></div></div>"
      ],
      "text/plain": [
       "<IPython.core.display.HTML object>"
      ]
     },
     "metadata": {},
     "output_type": "display_data"
    },
    {
     "data": {
      "text/html": [
       "Synced <strong style=\"color:#cdcd00\">fanciful-sweep-10</strong>: <a href=\"https://wandb.ai/hugoallegaert/uncategorized/runs/yjs0hb4i\" target=\"_blank\">https://wandb.ai/hugoallegaert/uncategorized/runs/yjs0hb4i</a><br/>Synced 5 W&B file(s), 0 media file(s), 0 artifact file(s) and 0 other file(s)"
      ],
      "text/plain": [
       "<IPython.core.display.HTML object>"
      ]
     },
     "metadata": {},
     "output_type": "display_data"
    },
    {
     "data": {
      "text/html": [
       "Find logs at: <code>./wandb/run-20220603_143507-yjs0hb4i/logs</code>"
      ],
      "text/plain": [
       "<IPython.core.display.HTML object>"
      ]
     },
     "metadata": {},
     "output_type": "display_data"
    },
    {
     "name": "stderr",
     "output_type": "stream",
     "text": [
      "\u001b[34m\u001b[1mwandb\u001b[0m: Agent Starting Run: zh6520am with config:\n",
      "\u001b[34m\u001b[1mwandb\u001b[0m: \tbatch_size: 456\n",
      "\u001b[34m\u001b[1mwandb\u001b[0m: \tepochs: 900\n",
      "\u001b[34m\u001b[1mwandb\u001b[0m: \teps_decay: 229\n",
      "\u001b[34m\u001b[1mwandb\u001b[0m: \tgamma: 0.4211983330381009\n",
      "\u001b[34m\u001b[1mwandb\u001b[0m: \tloss: huber\n",
      "\u001b[34m\u001b[1mwandb\u001b[0m: \tlr_decay: 229\n",
      "\u001b[34m\u001b[1mwandb\u001b[0m: \tmemory_size: 40000\n",
      "\u001b[34m\u001b[1mwandb\u001b[0m: \ttarget_update: 44\n"
     ]
    },
    {
     "data": {
      "text/html": [
       "wandb version 0.12.17 is available!  To upgrade, please run:\n",
       " $ pip install wandb --upgrade"
      ],
      "text/plain": [
       "<IPython.core.display.HTML object>"
      ]
     },
     "metadata": {},
     "output_type": "display_data"
    },
    {
     "data": {
      "text/html": [
       "Tracking run with wandb version 0.12.11"
      ],
      "text/plain": [
       "<IPython.core.display.HTML object>"
      ]
     },
     "metadata": {},
     "output_type": "display_data"
    },
    {
     "data": {
      "text/html": [
       "Run data is saved locally in <code>/Users/utilisateur/Epitech/T_AIA_902_msc2022_group-44/wandb/run-20220603_143934-zh6520am</code>"
      ],
      "text/plain": [
       "<IPython.core.display.HTML object>"
      ]
     },
     "metadata": {},
     "output_type": "display_data"
    },
    {
     "data": {
      "text/html": [
       "Syncing run <strong><a href=\"https://wandb.ai/hugoallegaert/uncategorized/runs/zh6520am\" target=\"_blank\">pretty-sweep-11</a></strong> to <a href=\"https://wandb.ai/hugoallegaert/uncategorized\" target=\"_blank\">Weights & Biases</a> (<a href=\"https://wandb.me/run\" target=\"_blank\">docs</a>)<br/>Sweep page:  <a href=\"https://wandb.ai/hugoallegaert/uncategorized/sweeps/vhfjmlpf\" target=\"_blank\">https://wandb.ai/hugoallegaert/uncategorized/sweeps/vhfjmlpf</a>"
      ],
      "text/plain": [
       "<IPython.core.display.HTML object>"
      ]
     },
     "metadata": {},
     "output_type": "display_data"
    },
    {
     "name": "stdout",
     "output_type": "stream",
     "text": [
      "Training episode: 1/900\n",
      "Episode 0\tAverage Score: -370.00\n",
      "Training episode: 101/900\n",
      "Episode 100\tAverage Score: -393.24\n",
      "Training episode: 201/900\n",
      "Episode 200\tAverage Score: -386.56\n",
      "Training episode: 301/900\n",
      "Episode 300\tAverage Score: -221.89\n",
      "Training episode: 401/900\n",
      "Episode 400\tAverage Score: -119.03\n",
      "Training episode: 501/900\n",
      "Episode 500\tAverage Score: -100.32\n",
      "Training episode: 601/900\n",
      "Episode 600\tAverage Score: -97.26\n",
      "Training episode: 701/900\n",
      "Episode 700\tAverage Score: -89.69\n",
      "Training episode: 801/900\n",
      "Episode 800\tAverage Score: -94.37\n",
      "Training episode: 900/900\n"
     ]
    },
    {
     "data": {
      "text/html": [
       "Waiting for W&B process to finish... <strong style=\"color:green\">(success).</strong>"
      ],
      "text/plain": [
       "<IPython.core.display.HTML object>"
      ]
     },
     "metadata": {},
     "output_type": "display_data"
    },
    {
     "data": {
      "application/vnd.jupyter.widget-view+json": {
       "model_id": "",
       "version_major": 2,
       "version_minor": 0
      },
      "text/plain": [
       "VBox(children=(Label(value='0.001 MB of 0.001 MB uploaded (0.000 MB deduped)\\r'), FloatProgress(value=1.0, max…"
      ]
     },
     "metadata": {},
     "output_type": "display_data"
    },
    {
     "data": {
      "text/html": [
       "<style>\n",
       "    table.wandb td:nth-child(1) { padding: 0 10px; text-align: right }\n",
       "    .wandb-row { display: flex; flex-direction: row; flex-wrap: wrap; width: 100% }\n",
       "    .wandb-col { display: flex; flex-direction: column; flex-basis: 100%; flex: 1; padding: 10px; }\n",
       "    </style>\n",
       "<div class=\"wandb-row\"><div class=\"wandb-col\"><h3>Run history:</h3><br/><table class=\"wandb\"><tr><td>reward</td><td>▁</td></tr></table><br/></div><div class=\"wandb-col\"><h3>Run summary:</h3><br/><table class=\"wandb\"><tr><td>reward</td><td>-96.72</td></tr></table><br/></div></div>"
      ],
      "text/plain": [
       "<IPython.core.display.HTML object>"
      ]
     },
     "metadata": {},
     "output_type": "display_data"
    },
    {
     "data": {
      "text/html": [
       "Synced <strong style=\"color:#cdcd00\">pretty-sweep-11</strong>: <a href=\"https://wandb.ai/hugoallegaert/uncategorized/runs/zh6520am\" target=\"_blank\">https://wandb.ai/hugoallegaert/uncategorized/runs/zh6520am</a><br/>Synced 5 W&B file(s), 0 media file(s), 0 artifact file(s) and 0 other file(s)"
      ],
      "text/plain": [
       "<IPython.core.display.HTML object>"
      ]
     },
     "metadata": {},
     "output_type": "display_data"
    },
    {
     "data": {
      "text/html": [
       "Find logs at: <code>./wandb/run-20220603_143934-zh6520am/logs</code>"
      ],
      "text/plain": [
       "<IPython.core.display.HTML object>"
      ]
     },
     "metadata": {},
     "output_type": "display_data"
    },
    {
     "name": "stderr",
     "output_type": "stream",
     "text": [
      "\u001b[34m\u001b[1mwandb\u001b[0m: Sweep Agent: Waiting for job.\n",
      "\u001b[34m\u001b[1mwandb\u001b[0m: Job received.\n",
      "\u001b[34m\u001b[1mwandb\u001b[0m: Agent Starting Run: fbnzax0w with config:\n",
      "\u001b[34m\u001b[1mwandb\u001b[0m: \tbatch_size: 286\n",
      "\u001b[34m\u001b[1mwandb\u001b[0m: \tepochs: 900\n",
      "\u001b[34m\u001b[1mwandb\u001b[0m: \teps_decay: 488\n",
      "\u001b[34m\u001b[1mwandb\u001b[0m: \tgamma: 0.49655436001601766\n",
      "\u001b[34m\u001b[1mwandb\u001b[0m: \tloss: mae\n",
      "\u001b[34m\u001b[1mwandb\u001b[0m: \tlr_decay: 253\n",
      "\u001b[34m\u001b[1mwandb\u001b[0m: \tmemory_size: 10000\n",
      "\u001b[34m\u001b[1mwandb\u001b[0m: \ttarget_update: 7\n"
     ]
    },
    {
     "data": {
      "text/html": [
       "wandb version 0.12.17 is available!  To upgrade, please run:\n",
       " $ pip install wandb --upgrade"
      ],
      "text/plain": [
       "<IPython.core.display.HTML object>"
      ]
     },
     "metadata": {},
     "output_type": "display_data"
    },
    {
     "data": {
      "text/html": [
       "Tracking run with wandb version 0.12.11"
      ],
      "text/plain": [
       "<IPython.core.display.HTML object>"
      ]
     },
     "metadata": {},
     "output_type": "display_data"
    },
    {
     "data": {
      "text/html": [
       "Run data is saved locally in <code>/Users/utilisateur/Epitech/T_AIA_902_msc2022_group-44/wandb/run-20220603_144453-fbnzax0w</code>"
      ],
      "text/plain": [
       "<IPython.core.display.HTML object>"
      ]
     },
     "metadata": {},
     "output_type": "display_data"
    },
    {
     "data": {
      "text/html": [
       "Syncing run <strong><a href=\"https://wandb.ai/hugoallegaert/uncategorized/runs/fbnzax0w\" target=\"_blank\">generous-sweep-12</a></strong> to <a href=\"https://wandb.ai/hugoallegaert/uncategorized\" target=\"_blank\">Weights & Biases</a> (<a href=\"https://wandb.me/run\" target=\"_blank\">docs</a>)<br/>Sweep page:  <a href=\"https://wandb.ai/hugoallegaert/uncategorized/sweeps/vhfjmlpf\" target=\"_blank\">https://wandb.ai/hugoallegaert/uncategorized/sweeps/vhfjmlpf</a>"
      ],
      "text/plain": [
       "<IPython.core.display.HTML object>"
      ]
     },
     "metadata": {},
     "output_type": "display_data"
    },
    {
     "name": "stdout",
     "output_type": "stream",
     "text": [
      "Training episode: 1/900\n",
      "Episode 0\tAverage Score: -352.00\n",
      "Training episode: 101/900\n",
      "Episode 100\tAverage Score: -390.72\n",
      "Training episode: 201/900\n",
      "Episode 200\tAverage Score: -390.27\n",
      "Training episode: 301/900\n",
      "Episode 300\tAverage Score: -280.10\n",
      "Training episode: 401/900\n",
      "Episode 400\tAverage Score: -156.75\n",
      "Training episode: 501/900\n",
      "Episode 500\tAverage Score: -115.85\n",
      "Training episode: 601/900\n",
      "Episode 600\tAverage Score: -94.29\n",
      "Training episode: 701/900\n",
      "Episode 700\tAverage Score: -90.10\n",
      "Training episode: 801/900\n",
      "Episode 800\tAverage Score: -82.36\n",
      "Training episode: 900/900\n"
     ]
    },
    {
     "data": {
      "text/html": [
       "Waiting for W&B process to finish... <strong style=\"color:green\">(success).</strong>"
      ],
      "text/plain": [
       "<IPython.core.display.HTML object>"
      ]
     },
     "metadata": {},
     "output_type": "display_data"
    },
    {
     "data": {
      "application/vnd.jupyter.widget-view+json": {
       "model_id": "",
       "version_major": 2,
       "version_minor": 0
      },
      "text/plain": [
       "VBox(children=(Label(value='0.001 MB of 0.001 MB uploaded (0.000 MB deduped)\\r'), FloatProgress(value=1.0, max…"
      ]
     },
     "metadata": {},
     "output_type": "display_data"
    },
    {
     "data": {
      "text/html": [
       "<style>\n",
       "    table.wandb td:nth-child(1) { padding: 0 10px; text-align: right }\n",
       "    .wandb-row { display: flex; flex-direction: row; flex-wrap: wrap; width: 100% }\n",
       "    .wandb-col { display: flex; flex-direction: column; flex-basis: 100%; flex: 1; padding: 10px; }\n",
       "    </style>\n",
       "<div class=\"wandb-row\"><div class=\"wandb-col\"><h3>Run history:</h3><br/><table class=\"wandb\"><tr><td>reward</td><td>▁</td></tr></table><br/></div><div class=\"wandb-col\"><h3>Run summary:</h3><br/><table class=\"wandb\"><tr><td>reward</td><td>-89.11</td></tr></table><br/></div></div>"
      ],
      "text/plain": [
       "<IPython.core.display.HTML object>"
      ]
     },
     "metadata": {},
     "output_type": "display_data"
    },
    {
     "data": {
      "text/html": [
       "Synced <strong style=\"color:#cdcd00\">generous-sweep-12</strong>: <a href=\"https://wandb.ai/hugoallegaert/uncategorized/runs/fbnzax0w\" target=\"_blank\">https://wandb.ai/hugoallegaert/uncategorized/runs/fbnzax0w</a><br/>Synced 5 W&B file(s), 0 media file(s), 0 artifact file(s) and 0 other file(s)"
      ],
      "text/plain": [
       "<IPython.core.display.HTML object>"
      ]
     },
     "metadata": {},
     "output_type": "display_data"
    },
    {
     "data": {
      "text/html": [
       "Find logs at: <code>./wandb/run-20220603_144453-fbnzax0w/logs</code>"
      ],
      "text/plain": [
       "<IPython.core.display.HTML object>"
      ]
     },
     "metadata": {},
     "output_type": "display_data"
    },
    {
     "name": "stderr",
     "output_type": "stream",
     "text": [
      "\u001b[34m\u001b[1mwandb\u001b[0m: Agent Starting Run: 044buojr with config:\n",
      "\u001b[34m\u001b[1mwandb\u001b[0m: \tbatch_size: 72\n",
      "\u001b[34m\u001b[1mwandb\u001b[0m: \tepochs: 900\n",
      "\u001b[34m\u001b[1mwandb\u001b[0m: \teps_decay: 306\n",
      "\u001b[34m\u001b[1mwandb\u001b[0m: \tgamma: 0.9029408113388998\n",
      "\u001b[34m\u001b[1mwandb\u001b[0m: \tloss: mae\n",
      "\u001b[34m\u001b[1mwandb\u001b[0m: \tlr_decay: 346\n",
      "\u001b[34m\u001b[1mwandb\u001b[0m: \tmemory_size: 2048\n",
      "\u001b[34m\u001b[1mwandb\u001b[0m: \ttarget_update: 36\n"
     ]
    },
    {
     "data": {
      "text/html": [
       "wandb version 0.12.17 is available!  To upgrade, please run:\n",
       " $ pip install wandb --upgrade"
      ],
      "text/plain": [
       "<IPython.core.display.HTML object>"
      ]
     },
     "metadata": {},
     "output_type": "display_data"
    },
    {
     "data": {
      "text/html": [
       "Tracking run with wandb version 0.12.11"
      ],
      "text/plain": [
       "<IPython.core.display.HTML object>"
      ]
     },
     "metadata": {},
     "output_type": "display_data"
    },
    {
     "data": {
      "text/html": [
       "Run data is saved locally in <code>/Users/utilisateur/Epitech/T_AIA_902_msc2022_group-44/wandb/run-20220603_144821-044buojr</code>"
      ],
      "text/plain": [
       "<IPython.core.display.HTML object>"
      ]
     },
     "metadata": {},
     "output_type": "display_data"
    },
    {
     "data": {
      "text/html": [
       "Syncing run <strong><a href=\"https://wandb.ai/hugoallegaert/uncategorized/runs/044buojr\" target=\"_blank\">earnest-sweep-13</a></strong> to <a href=\"https://wandb.ai/hugoallegaert/uncategorized\" target=\"_blank\">Weights & Biases</a> (<a href=\"https://wandb.me/run\" target=\"_blank\">docs</a>)<br/>Sweep page:  <a href=\"https://wandb.ai/hugoallegaert/uncategorized/sweeps/vhfjmlpf\" target=\"_blank\">https://wandb.ai/hugoallegaert/uncategorized/sweeps/vhfjmlpf</a>"
      ],
      "text/plain": [
       "<IPython.core.display.HTML object>"
      ]
     },
     "metadata": {},
     "output_type": "display_data"
    },
    {
     "name": "stdout",
     "output_type": "stream",
     "text": [
      "Training episode: 1/900\n",
      "Episode 0\tAverage Score: -388.00\n",
      "Training episode: 101/900\n",
      "Episode 100\tAverage Score: -387.10\n",
      "Training episode: 201/900\n",
      "Episode 200\tAverage Score: -392.05\n",
      "Training episode: 301/900\n",
      "Episode 300\tAverage Score: -248.75\n",
      "Training episode: 401/900\n",
      "Episode 400\tAverage Score: -137.26\n",
      "Training episode: 501/900\n",
      "Episode 500\tAverage Score: -111.34\n",
      "Training episode: 601/900\n",
      "Episode 600\tAverage Score: -104.23\n",
      "Training episode: 701/900\n",
      "Episode 700\tAverage Score: -102.43\n",
      "Training episode: 801/900\n",
      "Episode 800\tAverage Score: -103.06\n",
      "Training episode: 900/900\n"
     ]
    },
    {
     "data": {
      "text/html": [
       "Waiting for W&B process to finish... <strong style=\"color:green\">(success).</strong>"
      ],
      "text/plain": [
       "<IPython.core.display.HTML object>"
      ]
     },
     "metadata": {},
     "output_type": "display_data"
    },
    {
     "data": {
      "application/vnd.jupyter.widget-view+json": {
       "model_id": "",
       "version_major": 2,
       "version_minor": 0
      },
      "text/plain": [
       "VBox(children=(Label(value='0.001 MB of 0.001 MB uploaded (0.000 MB deduped)\\r'), FloatProgress(value=1.0, max…"
      ]
     },
     "metadata": {},
     "output_type": "display_data"
    },
    {
     "data": {
      "text/html": [
       "<style>\n",
       "    table.wandb td:nth-child(1) { padding: 0 10px; text-align: right }\n",
       "    .wandb-row { display: flex; flex-direction: row; flex-wrap: wrap; width: 100% }\n",
       "    .wandb-col { display: flex; flex-direction: column; flex-basis: 100%; flex: 1; padding: 10px; }\n",
       "    </style>\n",
       "<div class=\"wandb-row\"><div class=\"wandb-col\"><h3>Run history:</h3><br/><table class=\"wandb\"><tr><td>reward</td><td>▁</td></tr></table><br/></div><div class=\"wandb-col\"><h3>Run summary:</h3><br/><table class=\"wandb\"><tr><td>reward</td><td>-103.87</td></tr></table><br/></div></div>"
      ],
      "text/plain": [
       "<IPython.core.display.HTML object>"
      ]
     },
     "metadata": {},
     "output_type": "display_data"
    },
    {
     "data": {
      "text/html": [
       "Synced <strong style=\"color:#cdcd00\">earnest-sweep-13</strong>: <a href=\"https://wandb.ai/hugoallegaert/uncategorized/runs/044buojr\" target=\"_blank\">https://wandb.ai/hugoallegaert/uncategorized/runs/044buojr</a><br/>Synced 5 W&B file(s), 0 media file(s), 0 artifact file(s) and 0 other file(s)"
      ],
      "text/plain": [
       "<IPython.core.display.HTML object>"
      ]
     },
     "metadata": {},
     "output_type": "display_data"
    },
    {
     "data": {
      "text/html": [
       "Find logs at: <code>./wandb/run-20220603_144821-044buojr/logs</code>"
      ],
      "text/plain": [
       "<IPython.core.display.HTML object>"
      ]
     },
     "metadata": {},
     "output_type": "display_data"
    },
    {
     "name": "stderr",
     "output_type": "stream",
     "text": [
      "\u001b[34m\u001b[1mwandb\u001b[0m: Agent Starting Run: 7hwp2zll with config:\n",
      "\u001b[34m\u001b[1mwandb\u001b[0m: \tbatch_size: 39\n",
      "\u001b[34m\u001b[1mwandb\u001b[0m: \tepochs: 900\n",
      "\u001b[34m\u001b[1mwandb\u001b[0m: \teps_decay: 113\n",
      "\u001b[34m\u001b[1mwandb\u001b[0m: \tgamma: 0.972784503029858\n",
      "\u001b[34m\u001b[1mwandb\u001b[0m: \tloss: mae\n",
      "\u001b[34m\u001b[1mwandb\u001b[0m: \tlr_decay: 171\n",
      "\u001b[34m\u001b[1mwandb\u001b[0m: \tmemory_size: 512\n",
      "\u001b[34m\u001b[1mwandb\u001b[0m: \ttarget_update: 22\n"
     ]
    },
    {
     "data": {
      "text/html": [
       "wandb version 0.12.17 is available!  To upgrade, please run:\n",
       " $ pip install wandb --upgrade"
      ],
      "text/plain": [
       "<IPython.core.display.HTML object>"
      ]
     },
     "metadata": {},
     "output_type": "display_data"
    },
    {
     "data": {
      "text/html": [
       "Tracking run with wandb version 0.12.11"
      ],
      "text/plain": [
       "<IPython.core.display.HTML object>"
      ]
     },
     "metadata": {},
     "output_type": "display_data"
    },
    {
     "data": {
      "text/html": [
       "Run data is saved locally in <code>/Users/utilisateur/Epitech/T_AIA_902_msc2022_group-44/wandb/run-20220603_145111-7hwp2zll</code>"
      ],
      "text/plain": [
       "<IPython.core.display.HTML object>"
      ]
     },
     "metadata": {},
     "output_type": "display_data"
    },
    {
     "data": {
      "text/html": [
       "Syncing run <strong><a href=\"https://wandb.ai/hugoallegaert/uncategorized/runs/7hwp2zll\" target=\"_blank\">magic-sweep-14</a></strong> to <a href=\"https://wandb.ai/hugoallegaert/uncategorized\" target=\"_blank\">Weights & Biases</a> (<a href=\"https://wandb.me/run\" target=\"_blank\">docs</a>)<br/>Sweep page:  <a href=\"https://wandb.ai/hugoallegaert/uncategorized/sweeps/vhfjmlpf\" target=\"_blank\">https://wandb.ai/hugoallegaert/uncategorized/sweeps/vhfjmlpf</a>"
      ],
      "text/plain": [
       "<IPython.core.display.HTML object>"
      ]
     },
     "metadata": {},
     "output_type": "display_data"
    },
    {
     "name": "stdout",
     "output_type": "stream",
     "text": [
      "Training episode: 1/900\n",
      "Episode 0\tAverage Score: -415.00\n",
      "Training episode: 101/900\n",
      "Episode 100\tAverage Score: -387.57\n",
      "Training episode: 201/900\n",
      "Episode 200\tAverage Score: -383.82\n",
      "Training episode: 301/900\n",
      "Episode 300\tAverage Score: -166.33\n",
      "Training episode: 401/900\n",
      "Episode 400\tAverage Score: -104.05\n",
      "Training episode: 501/900\n",
      "Episode 500\tAverage Score: -102.25\n",
      "Training episode: 601/900\n",
      "Episode 600\tAverage Score: -102.70\n",
      "Training episode: 701/900\n",
      "Episode 700\tAverage Score: -103.51\n",
      "Training episode: 801/900\n",
      "Episode 800\tAverage Score: -102.70\n",
      "Training episode: 900/900\n"
     ]
    },
    {
     "data": {
      "text/html": [
       "Waiting for W&B process to finish... <strong style=\"color:green\">(success).</strong>"
      ],
      "text/plain": [
       "<IPython.core.display.HTML object>"
      ]
     },
     "metadata": {},
     "output_type": "display_data"
    },
    {
     "data": {
      "application/vnd.jupyter.widget-view+json": {
       "model_id": "",
       "version_major": 2,
       "version_minor": 0
      },
      "text/plain": [
       "VBox(children=(Label(value='0.001 MB of 0.001 MB uploaded (0.000 MB deduped)\\r'), FloatProgress(value=1.0, max…"
      ]
     },
     "metadata": {},
     "output_type": "display_data"
    },
    {
     "data": {
      "text/html": [
       "<style>\n",
       "    table.wandb td:nth-child(1) { padding: 0 10px; text-align: right }\n",
       "    .wandb-row { display: flex; flex-direction: row; flex-wrap: wrap; width: 100% }\n",
       "    .wandb-col { display: flex; flex-direction: column; flex-basis: 100%; flex: 1; padding: 10px; }\n",
       "    </style>\n",
       "<div class=\"wandb-row\"><div class=\"wandb-col\"><h3>Run history:</h3><br/><table class=\"wandb\"><tr><td>reward</td><td>▁</td></tr></table><br/></div><div class=\"wandb-col\"><h3>Run summary:</h3><br/><table class=\"wandb\"><tr><td>reward</td><td>-103.24</td></tr></table><br/></div></div>"
      ],
      "text/plain": [
       "<IPython.core.display.HTML object>"
      ]
     },
     "metadata": {},
     "output_type": "display_data"
    },
    {
     "data": {
      "text/html": [
       "Synced <strong style=\"color:#cdcd00\">magic-sweep-14</strong>: <a href=\"https://wandb.ai/hugoallegaert/uncategorized/runs/7hwp2zll\" target=\"_blank\">https://wandb.ai/hugoallegaert/uncategorized/runs/7hwp2zll</a><br/>Synced 5 W&B file(s), 0 media file(s), 0 artifact file(s) and 0 other file(s)"
      ],
      "text/plain": [
       "<IPython.core.display.HTML object>"
      ]
     },
     "metadata": {},
     "output_type": "display_data"
    },
    {
     "data": {
      "text/html": [
       "Find logs at: <code>./wandb/run-20220603_145111-7hwp2zll/logs</code>"
      ],
      "text/plain": [
       "<IPython.core.display.HTML object>"
      ]
     },
     "metadata": {},
     "output_type": "display_data"
    },
    {
     "name": "stderr",
     "output_type": "stream",
     "text": [
      "\u001b[34m\u001b[1mwandb\u001b[0m: Agent Starting Run: mukp73m6 with config:\n",
      "\u001b[34m\u001b[1mwandb\u001b[0m: \tbatch_size: 507\n",
      "\u001b[34m\u001b[1mwandb\u001b[0m: \tepochs: 900\n",
      "\u001b[34m\u001b[1mwandb\u001b[0m: \teps_decay: 195\n",
      "\u001b[34m\u001b[1mwandb\u001b[0m: \tgamma: 0.4656747655600562\n",
      "\u001b[34m\u001b[1mwandb\u001b[0m: \tloss: mse\n",
      "\u001b[34m\u001b[1mwandb\u001b[0m: \tlr_decay: 184\n",
      "\u001b[34m\u001b[1mwandb\u001b[0m: \tmemory_size: 2048\n",
      "\u001b[34m\u001b[1mwandb\u001b[0m: \ttarget_update: 34\n"
     ]
    },
    {
     "data": {
      "text/html": [
       "wandb version 0.12.17 is available!  To upgrade, please run:\n",
       " $ pip install wandb --upgrade"
      ],
      "text/plain": [
       "<IPython.core.display.HTML object>"
      ]
     },
     "metadata": {},
     "output_type": "display_data"
    },
    {
     "data": {
      "text/html": [
       "Tracking run with wandb version 0.12.11"
      ],
      "text/plain": [
       "<IPython.core.display.HTML object>"
      ]
     },
     "metadata": {},
     "output_type": "display_data"
    },
    {
     "data": {
      "text/html": [
       "Run data is saved locally in <code>/Users/utilisateur/Epitech/T_AIA_902_msc2022_group-44/wandb/run-20220603_145336-mukp73m6</code>"
      ],
      "text/plain": [
       "<IPython.core.display.HTML object>"
      ]
     },
     "metadata": {},
     "output_type": "display_data"
    },
    {
     "data": {
      "text/html": [
       "Syncing run <strong><a href=\"https://wandb.ai/hugoallegaert/uncategorized/runs/mukp73m6\" target=\"_blank\">magic-sweep-15</a></strong> to <a href=\"https://wandb.ai/hugoallegaert/uncategorized\" target=\"_blank\">Weights & Biases</a> (<a href=\"https://wandb.me/run\" target=\"_blank\">docs</a>)<br/>Sweep page:  <a href=\"https://wandb.ai/hugoallegaert/uncategorized/sweeps/vhfjmlpf\" target=\"_blank\">https://wandb.ai/hugoallegaert/uncategorized/sweeps/vhfjmlpf</a>"
      ],
      "text/plain": [
       "<IPython.core.display.HTML object>"
      ]
     },
     "metadata": {},
     "output_type": "display_data"
    },
    {
     "name": "stdout",
     "output_type": "stream",
     "text": [
      "Training episode: 1/900\n",
      "Episode 0\tAverage Score: -361.00\n",
      "Training episode: 101/900\n",
      "Episode 100\tAverage Score: -384.19\n",
      "Training episode: 201/900\n",
      "Episode 200\tAverage Score: -396.86\n",
      "Training episode: 301/900\n",
      "Episode 300\tAverage Score: -207.10\n",
      "Training episode: 401/900\n",
      "Episode 400\tAverage Score: -112.33\n",
      "Training episode: 501/900\n",
      "Episode 500\tAverage Score: -103.78\n",
      "Training episode: 601/900\n",
      "Episode 600\tAverage Score: -103.87\n",
      "Training episode: 701/900\n",
      "Episode 700\tAverage Score: -102.70\n",
      "Training episode: 801/900\n",
      "Episode 800\tAverage Score: -102.88\n",
      "Training episode: 900/900\n"
     ]
    },
    {
     "data": {
      "text/html": [
       "Waiting for W&B process to finish... <strong style=\"color:green\">(success).</strong>"
      ],
      "text/plain": [
       "<IPython.core.display.HTML object>"
      ]
     },
     "metadata": {},
     "output_type": "display_data"
    },
    {
     "data": {
      "application/vnd.jupyter.widget-view+json": {
       "model_id": "",
       "version_major": 2,
       "version_minor": 0
      },
      "text/plain": [
       "VBox(children=(Label(value='0.001 MB of 0.001 MB uploaded (0.000 MB deduped)\\r'), FloatProgress(value=1.0, max…"
      ]
     },
     "metadata": {},
     "output_type": "display_data"
    },
    {
     "data": {
      "text/html": [
       "<style>\n",
       "    table.wandb td:nth-child(1) { padding: 0 10px; text-align: right }\n",
       "    .wandb-row { display: flex; flex-direction: row; flex-wrap: wrap; width: 100% }\n",
       "    .wandb-col { display: flex; flex-direction: column; flex-basis: 100%; flex: 1; padding: 10px; }\n",
       "    </style>\n",
       "<div class=\"wandb-row\"><div class=\"wandb-col\"><h3>Run history:</h3><br/><table class=\"wandb\"><tr><td>reward</td><td>▁</td></tr></table><br/></div><div class=\"wandb-col\"><h3>Run summary:</h3><br/><table class=\"wandb\"><tr><td>reward</td><td>-102.52</td></tr></table><br/></div></div>"
      ],
      "text/plain": [
       "<IPython.core.display.HTML object>"
      ]
     },
     "metadata": {},
     "output_type": "display_data"
    },
    {
     "data": {
      "text/html": [
       "Synced <strong style=\"color:#cdcd00\">magic-sweep-15</strong>: <a href=\"https://wandb.ai/hugoallegaert/uncategorized/runs/mukp73m6\" target=\"_blank\">https://wandb.ai/hugoallegaert/uncategorized/runs/mukp73m6</a><br/>Synced 5 W&B file(s), 0 media file(s), 0 artifact file(s) and 0 other file(s)"
      ],
      "text/plain": [
       "<IPython.core.display.HTML object>"
      ]
     },
     "metadata": {},
     "output_type": "display_data"
    },
    {
     "data": {
      "text/html": [
       "Find logs at: <code>./wandb/run-20220603_145336-mukp73m6/logs</code>"
      ],
      "text/plain": [
       "<IPython.core.display.HTML object>"
      ]
     },
     "metadata": {},
     "output_type": "display_data"
    },
    {
     "name": "stderr",
     "output_type": "stream",
     "text": [
      "\u001b[34m\u001b[1mwandb\u001b[0m: Agent Starting Run: ccdblrf5 with config:\n",
      "\u001b[34m\u001b[1mwandb\u001b[0m: \tbatch_size: 132\n",
      "\u001b[34m\u001b[1mwandb\u001b[0m: \tepochs: 900\n",
      "\u001b[34m\u001b[1mwandb\u001b[0m: \teps_decay: 341\n",
      "\u001b[34m\u001b[1mwandb\u001b[0m: \tgamma: 0.942994383341778\n",
      "\u001b[34m\u001b[1mwandb\u001b[0m: \tloss: mse\n",
      "\u001b[34m\u001b[1mwandb\u001b[0m: \tlr_decay: 151\n",
      "\u001b[34m\u001b[1mwandb\u001b[0m: \tmemory_size: 40000\n",
      "\u001b[34m\u001b[1mwandb\u001b[0m: \ttarget_update: 2\n"
     ]
    },
    {
     "data": {
      "text/html": [
       "wandb version 0.12.17 is available!  To upgrade, please run:\n",
       " $ pip install wandb --upgrade"
      ],
      "text/plain": [
       "<IPython.core.display.HTML object>"
      ]
     },
     "metadata": {},
     "output_type": "display_data"
    },
    {
     "data": {
      "text/html": [
       "Tracking run with wandb version 0.12.11"
      ],
      "text/plain": [
       "<IPython.core.display.HTML object>"
      ]
     },
     "metadata": {},
     "output_type": "display_data"
    },
    {
     "data": {
      "text/html": [
       "Run data is saved locally in <code>/Users/utilisateur/Epitech/T_AIA_902_msc2022_group-44/wandb/run-20220603_145748-ccdblrf5</code>"
      ],
      "text/plain": [
       "<IPython.core.display.HTML object>"
      ]
     },
     "metadata": {},
     "output_type": "display_data"
    },
    {
     "data": {
      "text/html": [
       "Syncing run <strong><a href=\"https://wandb.ai/hugoallegaert/uncategorized/runs/ccdblrf5\" target=\"_blank\">legendary-sweep-16</a></strong> to <a href=\"https://wandb.ai/hugoallegaert/uncategorized\" target=\"_blank\">Weights & Biases</a> (<a href=\"https://wandb.me/run\" target=\"_blank\">docs</a>)<br/>Sweep page:  <a href=\"https://wandb.ai/hugoallegaert/uncategorized/sweeps/vhfjmlpf\" target=\"_blank\">https://wandb.ai/hugoallegaert/uncategorized/sweeps/vhfjmlpf</a>"
      ],
      "text/plain": [
       "<IPython.core.display.HTML object>"
      ]
     },
     "metadata": {},
     "output_type": "display_data"
    },
    {
     "name": "stdout",
     "output_type": "stream",
     "text": [
      "Training episode: 1/900\n",
      "Episode 0\tAverage Score: -442.00\n",
      "Training episode: 101/900\n",
      "Episode 100\tAverage Score: -389.02\n",
      "Training episode: 201/900\n",
      "Episode 200\tAverage Score: -393.40\n",
      "Training episode: 301/900\n",
      "Episode 300\tAverage Score: -218.17\n",
      "Training episode: 401/900\n",
      "Episode 400\tAverage Score: -48.85\n",
      "Training episode: 501/900\n",
      "Episode 500\tAverage Score: -17.86\n",
      "Training episode: 601/900\n",
      "Episode 600\tAverage Score: 5.38\n",
      "Training episode: 701/900\n",
      "Episode 700\tAverage Score: 8.29\n",
      "Training episode: 801/900\n",
      "Episode 800\tAverage Score: 8.04\n",
      "Training episode: 900/900\n"
     ]
    },
    {
     "data": {
      "text/html": [
       "Waiting for W&B process to finish... <strong style=\"color:green\">(success).</strong>"
      ],
      "text/plain": [
       "<IPython.core.display.HTML object>"
      ]
     },
     "metadata": {},
     "output_type": "display_data"
    },
    {
     "data": {
      "application/vnd.jupyter.widget-view+json": {
       "model_id": "",
       "version_major": 2,
       "version_minor": 0
      },
      "text/plain": [
       "VBox(children=(Label(value='0.001 MB of 0.001 MB uploaded (0.000 MB deduped)\\r'), FloatProgress(value=1.0, max…"
      ]
     },
     "metadata": {},
     "output_type": "display_data"
    },
    {
     "data": {
      "text/html": [
       "<style>\n",
       "    table.wandb td:nth-child(1) { padding: 0 10px; text-align: right }\n",
       "    .wandb-row { display: flex; flex-direction: row; flex-wrap: wrap; width: 100% }\n",
       "    .wandb-col { display: flex; flex-direction: column; flex-basis: 100%; flex: 1; padding: 10px; }\n",
       "    </style>\n",
       "<div class=\"wandb-row\"><div class=\"wandb-col\"><h3>Run history:</h3><br/><table class=\"wandb\"><tr><td>reward</td><td>▁</td></tr></table><br/></div><div class=\"wandb-col\"><h3>Run summary:</h3><br/><table class=\"wandb\"><tr><td>reward</td><td>7.11</td></tr></table><br/></div></div>"
      ],
      "text/plain": [
       "<IPython.core.display.HTML object>"
      ]
     },
     "metadata": {},
     "output_type": "display_data"
    },
    {
     "data": {
      "text/html": [
       "Synced <strong style=\"color:#cdcd00\">legendary-sweep-16</strong>: <a href=\"https://wandb.ai/hugoallegaert/uncategorized/runs/ccdblrf5\" target=\"_blank\">https://wandb.ai/hugoallegaert/uncategorized/runs/ccdblrf5</a><br/>Synced 5 W&B file(s), 0 media file(s), 0 artifact file(s) and 0 other file(s)"
      ],
      "text/plain": [
       "<IPython.core.display.HTML object>"
      ]
     },
     "metadata": {},
     "output_type": "display_data"
    },
    {
     "data": {
      "text/html": [
       "Find logs at: <code>./wandb/run-20220603_145748-ccdblrf5/logs</code>"
      ],
      "text/plain": [
       "<IPython.core.display.HTML object>"
      ]
     },
     "metadata": {},
     "output_type": "display_data"
    },
    {
     "name": "stderr",
     "output_type": "stream",
     "text": [
      "\u001b[34m\u001b[1mwandb\u001b[0m: Agent Starting Run: 5bkdffl1 with config:\n",
      "\u001b[34m\u001b[1mwandb\u001b[0m: \tbatch_size: 476\n",
      "\u001b[34m\u001b[1mwandb\u001b[0m: \tepochs: 900\n",
      "\u001b[34m\u001b[1mwandb\u001b[0m: \teps_decay: 441\n",
      "\u001b[34m\u001b[1mwandb\u001b[0m: \tgamma: 0.604657695571788\n",
      "\u001b[34m\u001b[1mwandb\u001b[0m: \tloss: huber\n",
      "\u001b[34m\u001b[1mwandb\u001b[0m: \tlr_decay: 85\n",
      "\u001b[34m\u001b[1mwandb\u001b[0m: \tmemory_size: 40000\n",
      "\u001b[34m\u001b[1mwandb\u001b[0m: \ttarget_update: 2\n"
     ]
    },
    {
     "data": {
      "text/html": [
       "wandb version 0.12.17 is available!  To upgrade, please run:\n",
       " $ pip install wandb --upgrade"
      ],
      "text/plain": [
       "<IPython.core.display.HTML object>"
      ]
     },
     "metadata": {},
     "output_type": "display_data"
    },
    {
     "data": {
      "text/html": [
       "Tracking run with wandb version 0.12.11"
      ],
      "text/plain": [
       "<IPython.core.display.HTML object>"
      ]
     },
     "metadata": {},
     "output_type": "display_data"
    },
    {
     "data": {
      "text/html": [
       "Run data is saved locally in <code>/Users/utilisateur/Epitech/T_AIA_902_msc2022_group-44/wandb/run-20220603_145957-5bkdffl1</code>"
      ],
      "text/plain": [
       "<IPython.core.display.HTML object>"
      ]
     },
     "metadata": {},
     "output_type": "display_data"
    },
    {
     "data": {
      "text/html": [
       "Syncing run <strong><a href=\"https://wandb.ai/hugoallegaert/uncategorized/runs/5bkdffl1\" target=\"_blank\">skilled-sweep-17</a></strong> to <a href=\"https://wandb.ai/hugoallegaert/uncategorized\" target=\"_blank\">Weights & Biases</a> (<a href=\"https://wandb.me/run\" target=\"_blank\">docs</a>)<br/>Sweep page:  <a href=\"https://wandb.ai/hugoallegaert/uncategorized/sweeps/vhfjmlpf\" target=\"_blank\">https://wandb.ai/hugoallegaert/uncategorized/sweeps/vhfjmlpf</a>"
      ],
      "text/plain": [
       "<IPython.core.display.HTML object>"
      ]
     },
     "metadata": {},
     "output_type": "display_data"
    },
    {
     "name": "stdout",
     "output_type": "stream",
     "text": [
      "Training episode: 1/900\n",
      "Episode 0\tAverage Score: -424.00\n",
      "Training episode: 101/900\n",
      "Episode 100\tAverage Score: -387.91\n",
      "Training episode: 201/900\n",
      "Episode 200\tAverage Score: -391.82\n",
      "Training episode: 301/900\n",
      "Episode 300\tAverage Score: -235.00\n",
      "Training episode: 401/900\n",
      "Episode 400\tAverage Score: -62.79\n",
      "Training episode: 501/900\n",
      "Episode 500\tAverage Score: -32.24\n",
      "Training episode: 601/900\n",
      "Episode 600\tAverage Score: -24.05\n",
      "Training episode: 701/900\n",
      "Episode 700\tAverage Score: -20.68\n",
      "Training episode: 801/900\n",
      "Episode 800\tAverage Score: 0.23\n",
      "Training episode: 900/900\n"
     ]
    },
    {
     "data": {
      "text/html": [
       "Waiting for W&B process to finish... <strong style=\"color:green\">(success).</strong>"
      ],
      "text/plain": [
       "<IPython.core.display.HTML object>"
      ]
     },
     "metadata": {},
     "output_type": "display_data"
    },
    {
     "data": {
      "application/vnd.jupyter.widget-view+json": {
       "model_id": "",
       "version_major": 2,
       "version_minor": 0
      },
      "text/plain": [
       "VBox(children=(Label(value='0.001 MB of 0.001 MB uploaded (0.000 MB deduped)\\r'), FloatProgress(value=1.0, max…"
      ]
     },
     "metadata": {},
     "output_type": "display_data"
    },
    {
     "data": {
      "text/html": [
       "<style>\n",
       "    table.wandb td:nth-child(1) { padding: 0 10px; text-align: right }\n",
       "    .wandb-row { display: flex; flex-direction: row; flex-wrap: wrap; width: 100% }\n",
       "    .wandb-col { display: flex; flex-direction: column; flex-basis: 100%; flex: 1; padding: 10px; }\n",
       "    </style>\n",
       "<div class=\"wandb-row\"><div class=\"wandb-col\"><h3>Run history:</h3><br/><table class=\"wandb\"><tr><td>reward</td><td>▁</td></tr></table><br/></div><div class=\"wandb-col\"><h3>Run summary:</h3><br/><table class=\"wandb\"><tr><td>reward</td><td>3.89</td></tr></table><br/></div></div>"
      ],
      "text/plain": [
       "<IPython.core.display.HTML object>"
      ]
     },
     "metadata": {},
     "output_type": "display_data"
    },
    {
     "data": {
      "text/html": [
       "Synced <strong style=\"color:#cdcd00\">skilled-sweep-17</strong>: <a href=\"https://wandb.ai/hugoallegaert/uncategorized/runs/5bkdffl1\" target=\"_blank\">https://wandb.ai/hugoallegaert/uncategorized/runs/5bkdffl1</a><br/>Synced 5 W&B file(s), 0 media file(s), 0 artifact file(s) and 0 other file(s)"
      ],
      "text/plain": [
       "<IPython.core.display.HTML object>"
      ]
     },
     "metadata": {},
     "output_type": "display_data"
    },
    {
     "data": {
      "text/html": [
       "Find logs at: <code>./wandb/run-20220603_145957-5bkdffl1/logs</code>"
      ],
      "text/plain": [
       "<IPython.core.display.HTML object>"
      ]
     },
     "metadata": {},
     "output_type": "display_data"
    },
    {
     "name": "stderr",
     "output_type": "stream",
     "text": [
      "\u001b[34m\u001b[1mwandb\u001b[0m: Agent Starting Run: k3kfwmfb with config:\n",
      "\u001b[34m\u001b[1mwandb\u001b[0m: \tbatch_size: 209\n",
      "\u001b[34m\u001b[1mwandb\u001b[0m: \tepochs: 900\n",
      "\u001b[34m\u001b[1mwandb\u001b[0m: \teps_decay: 190\n",
      "\u001b[34m\u001b[1mwandb\u001b[0m: \tgamma: 0.8816330712299898\n",
      "\u001b[34m\u001b[1mwandb\u001b[0m: \tloss: mse\n",
      "\u001b[34m\u001b[1mwandb\u001b[0m: \tlr_decay: 44\n",
      "\u001b[34m\u001b[1mwandb\u001b[0m: \tmemory_size: 10000\n",
      "\u001b[34m\u001b[1mwandb\u001b[0m: \ttarget_update: 3\n"
     ]
    },
    {
     "data": {
      "text/html": [
       "wandb version 0.12.17 is available!  To upgrade, please run:\n",
       " $ pip install wandb --upgrade"
      ],
      "text/plain": [
       "<IPython.core.display.HTML object>"
      ]
     },
     "metadata": {},
     "output_type": "display_data"
    },
    {
     "data": {
      "text/html": [
       "Tracking run with wandb version 0.12.11"
      ],
      "text/plain": [
       "<IPython.core.display.HTML object>"
      ]
     },
     "metadata": {},
     "output_type": "display_data"
    },
    {
     "data": {
      "text/html": [
       "Run data is saved locally in <code>/Users/utilisateur/Epitech/T_AIA_902_msc2022_group-44/wandb/run-20220603_150155-k3kfwmfb</code>"
      ],
      "text/plain": [
       "<IPython.core.display.HTML object>"
      ]
     },
     "metadata": {},
     "output_type": "display_data"
    },
    {
     "data": {
      "text/html": [
       "Syncing run <strong><a href=\"https://wandb.ai/hugoallegaert/uncategorized/runs/k3kfwmfb\" target=\"_blank\">radiant-sweep-18</a></strong> to <a href=\"https://wandb.ai/hugoallegaert/uncategorized\" target=\"_blank\">Weights & Biases</a> (<a href=\"https://wandb.me/run\" target=\"_blank\">docs</a>)<br/>Sweep page:  <a href=\"https://wandb.ai/hugoallegaert/uncategorized/sweeps/vhfjmlpf\" target=\"_blank\">https://wandb.ai/hugoallegaert/uncategorized/sweeps/vhfjmlpf</a>"
      ],
      "text/plain": [
       "<IPython.core.display.HTML object>"
      ]
     },
     "metadata": {},
     "output_type": "display_data"
    },
    {
     "name": "stdout",
     "output_type": "stream",
     "text": [
      "Training episode: 1/900\n",
      "Episode 0\tAverage Score: -478.00\n",
      "Training episode: 101/900\n",
      "Episode 100\tAverage Score: -385.80\n",
      "Training episode: 201/900\n",
      "Episode 200\tAverage Score: -378.06\n",
      "Training episode: 301/900\n",
      "Episode 300\tAverage Score: -178.76\n",
      "Training episode: 401/900\n",
      "Episode 400\tAverage Score: -43.80\n",
      "Training episode: 501/900\n",
      "Episode 500\tAverage Score: -27.41\n",
      "Training episode: 601/900\n",
      "Episode 600\tAverage Score: -33.25\n",
      "Training episode: 701/900\n",
      "Episode 700\tAverage Score: -37.57\n",
      "Training episode: 801/900\n",
      "Episode 800\tAverage Score: -24.97\n",
      "Training episode: 900/900\n"
     ]
    },
    {
     "data": {
      "text/html": [
       "Waiting for W&B process to finish... <strong style=\"color:green\">(success).</strong>"
      ],
      "text/plain": [
       "<IPython.core.display.HTML object>"
      ]
     },
     "metadata": {},
     "output_type": "display_data"
    },
    {
     "data": {
      "application/vnd.jupyter.widget-view+json": {
       "model_id": "",
       "version_major": 2,
       "version_minor": 0
      },
      "text/plain": [
       "VBox(children=(Label(value='0.001 MB of 0.001 MB uploaded (0.000 MB deduped)\\r'), FloatProgress(value=1.0, max…"
      ]
     },
     "metadata": {},
     "output_type": "display_data"
    },
    {
     "data": {
      "text/html": [
       "<style>\n",
       "    table.wandb td:nth-child(1) { padding: 0 10px; text-align: right }\n",
       "    .wandb-row { display: flex; flex-direction: row; flex-wrap: wrap; width: 100% }\n",
       "    .wandb-col { display: flex; flex-direction: column; flex-basis: 100%; flex: 1; padding: 10px; }\n",
       "    </style>\n",
       "<div class=\"wandb-row\"><div class=\"wandb-col\"><h3>Run history:</h3><br/><table class=\"wandb\"><tr><td>reward</td><td>▁</td></tr></table><br/></div><div class=\"wandb-col\"><h3>Run summary:</h3><br/><table class=\"wandb\"><tr><td>reward</td><td>-24.21</td></tr></table><br/></div></div>"
      ],
      "text/plain": [
       "<IPython.core.display.HTML object>"
      ]
     },
     "metadata": {},
     "output_type": "display_data"
    },
    {
     "data": {
      "text/html": [
       "Synced <strong style=\"color:#cdcd00\">radiant-sweep-18</strong>: <a href=\"https://wandb.ai/hugoallegaert/uncategorized/runs/k3kfwmfb\" target=\"_blank\">https://wandb.ai/hugoallegaert/uncategorized/runs/k3kfwmfb</a><br/>Synced 5 W&B file(s), 0 media file(s), 0 artifact file(s) and 0 other file(s)"
      ],
      "text/plain": [
       "<IPython.core.display.HTML object>"
      ]
     },
     "metadata": {},
     "output_type": "display_data"
    },
    {
     "data": {
      "text/html": [
       "Find logs at: <code>./wandb/run-20220603_150155-k3kfwmfb/logs</code>"
      ],
      "text/plain": [
       "<IPython.core.display.HTML object>"
      ]
     },
     "metadata": {},
     "output_type": "display_data"
    },
    {
     "name": "stderr",
     "output_type": "stream",
     "text": [
      "\u001b[34m\u001b[1mwandb\u001b[0m: Sweep Agent: Waiting for job.\n",
      "\u001b[34m\u001b[1mwandb\u001b[0m: Job received.\n",
      "\u001b[34m\u001b[1mwandb\u001b[0m: Agent Starting Run: 486qnnu1 with config:\n",
      "\u001b[34m\u001b[1mwandb\u001b[0m: \tbatch_size: 325\n",
      "\u001b[34m\u001b[1mwandb\u001b[0m: \tepochs: 900\n",
      "\u001b[34m\u001b[1mwandb\u001b[0m: \teps_decay: 102\n",
      "\u001b[34m\u001b[1mwandb\u001b[0m: \tgamma: 0.1082540641546331\n",
      "\u001b[34m\u001b[1mwandb\u001b[0m: \tloss: mse\n",
      "\u001b[34m\u001b[1mwandb\u001b[0m: \tlr_decay: 103\n",
      "\u001b[34m\u001b[1mwandb\u001b[0m: \tmemory_size: 1025\n",
      "\u001b[34m\u001b[1mwandb\u001b[0m: \ttarget_update: 12\n"
     ]
    },
    {
     "data": {
      "text/html": [
       "wandb version 0.12.17 is available!  To upgrade, please run:\n",
       " $ pip install wandb --upgrade"
      ],
      "text/plain": [
       "<IPython.core.display.HTML object>"
      ]
     },
     "metadata": {},
     "output_type": "display_data"
    },
    {
     "data": {
      "text/html": [
       "Tracking run with wandb version 0.12.11"
      ],
      "text/plain": [
       "<IPython.core.display.HTML object>"
      ]
     },
     "metadata": {},
     "output_type": "display_data"
    },
    {
     "data": {
      "text/html": [
       "Run data is saved locally in <code>/Users/utilisateur/Epitech/T_AIA_902_msc2022_group-44/wandb/run-20220603_150336-486qnnu1</code>"
      ],
      "text/plain": [
       "<IPython.core.display.HTML object>"
      ]
     },
     "metadata": {},
     "output_type": "display_data"
    },
    {
     "data": {
      "text/html": [
       "Syncing run <strong><a href=\"https://wandb.ai/hugoallegaert/uncategorized/runs/486qnnu1\" target=\"_blank\">rosy-sweep-19</a></strong> to <a href=\"https://wandb.ai/hugoallegaert/uncategorized\" target=\"_blank\">Weights & Biases</a> (<a href=\"https://wandb.me/run\" target=\"_blank\">docs</a>)<br/>Sweep page:  <a href=\"https://wandb.ai/hugoallegaert/uncategorized/sweeps/vhfjmlpf\" target=\"_blank\">https://wandb.ai/hugoallegaert/uncategorized/sweeps/vhfjmlpf</a>"
      ],
      "text/plain": [
       "<IPython.core.display.HTML object>"
      ]
     },
     "metadata": {},
     "output_type": "display_data"
    },
    {
     "name": "stdout",
     "output_type": "stream",
     "text": [
      "Training episode: 1/900\n",
      "Episode 0\tAverage Score: -370.00\n",
      "Training episode: 101/900\n",
      "Episode 100\tAverage Score: -386.56\n",
      "Training episode: 201/900\n",
      "Episode 200\tAverage Score: -388.94\n",
      "Training episode: 301/900\n",
      "Episode 300\tAverage Score: -162.45\n",
      "Training episode: 401/900\n",
      "Episode 400\tAverage Score: -104.14\n",
      "Training episode: 501/900\n",
      "Episode 500\tAverage Score: -102.34\n",
      "Training episode: 601/900\n",
      "Episode 600\tAverage Score: -102.16\n",
      "Training episode: 701/900\n",
      "Episode 700\tAverage Score: -103.60\n",
      "Training episode: 801/900\n",
      "Episode 800\tAverage Score: -103.51\n",
      "Training episode: 900/900\n"
     ]
    },
    {
     "data": {
      "text/html": [
       "Waiting for W&B process to finish... <strong style=\"color:green\">(success).</strong>"
      ],
      "text/plain": [
       "<IPython.core.display.HTML object>"
      ]
     },
     "metadata": {},
     "output_type": "display_data"
    },
    {
     "data": {
      "application/vnd.jupyter.widget-view+json": {
       "model_id": "",
       "version_major": 2,
       "version_minor": 0
      },
      "text/plain": [
       "VBox(children=(Label(value='0.001 MB of 0.001 MB uploaded (0.000 MB deduped)\\r'), FloatProgress(value=1.0, max…"
      ]
     },
     "metadata": {},
     "output_type": "display_data"
    },
    {
     "data": {
      "text/html": [
       "<style>\n",
       "    table.wandb td:nth-child(1) { padding: 0 10px; text-align: right }\n",
       "    .wandb-row { display: flex; flex-direction: row; flex-wrap: wrap; width: 100% }\n",
       "    .wandb-col { display: flex; flex-direction: column; flex-basis: 100%; flex: 1; padding: 10px; }\n",
       "    </style>\n",
       "<div class=\"wandb-row\"><div class=\"wandb-col\"><h3>Run history:</h3><br/><table class=\"wandb\"><tr><td>reward</td><td>▁</td></tr></table><br/></div><div class=\"wandb-col\"><h3>Run summary:</h3><br/><table class=\"wandb\"><tr><td>reward</td><td>-103.15</td></tr></table><br/></div></div>"
      ],
      "text/plain": [
       "<IPython.core.display.HTML object>"
      ]
     },
     "metadata": {},
     "output_type": "display_data"
    },
    {
     "data": {
      "text/html": [
       "Synced <strong style=\"color:#cdcd00\">rosy-sweep-19</strong>: <a href=\"https://wandb.ai/hugoallegaert/uncategorized/runs/486qnnu1\" target=\"_blank\">https://wandb.ai/hugoallegaert/uncategorized/runs/486qnnu1</a><br/>Synced 5 W&B file(s), 0 media file(s), 0 artifact file(s) and 0 other file(s)"
      ],
      "text/plain": [
       "<IPython.core.display.HTML object>"
      ]
     },
     "metadata": {},
     "output_type": "display_data"
    },
    {
     "data": {
      "text/html": [
       "Find logs at: <code>./wandb/run-20220603_150336-486qnnu1/logs</code>"
      ],
      "text/plain": [
       "<IPython.core.display.HTML object>"
      ]
     },
     "metadata": {},
     "output_type": "display_data"
    },
    {
     "name": "stderr",
     "output_type": "stream",
     "text": [
      "\u001b[34m\u001b[1mwandb\u001b[0m: Agent Starting Run: o5ao6x2a with config:\n",
      "\u001b[34m\u001b[1mwandb\u001b[0m: \tbatch_size: 98\n",
      "\u001b[34m\u001b[1mwandb\u001b[0m: \tepochs: 900\n",
      "\u001b[34m\u001b[1mwandb\u001b[0m: \teps_decay: 469\n",
      "\u001b[34m\u001b[1mwandb\u001b[0m: \tgamma: 0.8884950823020181\n",
      "\u001b[34m\u001b[1mwandb\u001b[0m: \tloss: mae\n",
      "\u001b[34m\u001b[1mwandb\u001b[0m: \tlr_decay: 26\n",
      "\u001b[34m\u001b[1mwandb\u001b[0m: \tmemory_size: 1025\n",
      "\u001b[34m\u001b[1mwandb\u001b[0m: \ttarget_update: 8\n"
     ]
    },
    {
     "data": {
      "text/html": [
       "wandb version 0.12.17 is available!  To upgrade, please run:\n",
       " $ pip install wandb --upgrade"
      ],
      "text/plain": [
       "<IPython.core.display.HTML object>"
      ]
     },
     "metadata": {},
     "output_type": "display_data"
    },
    {
     "data": {
      "text/html": [
       "Tracking run with wandb version 0.12.11"
      ],
      "text/plain": [
       "<IPython.core.display.HTML object>"
      ]
     },
     "metadata": {},
     "output_type": "display_data"
    },
    {
     "data": {
      "text/html": [
       "Run data is saved locally in <code>/Users/utilisateur/Epitech/T_AIA_902_msc2022_group-44/wandb/run-20220603_150659-o5ao6x2a</code>"
      ],
      "text/plain": [
       "<IPython.core.display.HTML object>"
      ]
     },
     "metadata": {},
     "output_type": "display_data"
    },
    {
     "data": {
      "text/html": [
       "Syncing run <strong><a href=\"https://wandb.ai/hugoallegaert/uncategorized/runs/o5ao6x2a\" target=\"_blank\">playful-sweep-20</a></strong> to <a href=\"https://wandb.ai/hugoallegaert/uncategorized\" target=\"_blank\">Weights & Biases</a> (<a href=\"https://wandb.me/run\" target=\"_blank\">docs</a>)<br/>Sweep page:  <a href=\"https://wandb.ai/hugoallegaert/uncategorized/sweeps/vhfjmlpf\" target=\"_blank\">https://wandb.ai/hugoallegaert/uncategorized/sweeps/vhfjmlpf</a>"
      ],
      "text/plain": [
       "<IPython.core.display.HTML object>"
      ]
     },
     "metadata": {},
     "output_type": "display_data"
    },
    {
     "name": "stdout",
     "output_type": "stream",
     "text": [
      "Training episode: 1/900\n",
      "Episode 0\tAverage Score: -388.00\n",
      "Training episode: 101/900\n",
      "Episode 100\tAverage Score: -393.45\n",
      "Training episode: 201/900\n",
      "Episode 200\tAverage Score: -387.97\n",
      "Training episode: 301/900\n",
      "Episode 300\tAverage Score: -279.91\n",
      "Training episode: 401/900\n",
      "Episode 400\tAverage Score: -173.10\n",
      "Training episode: 501/900\n",
      "Episode 500\tAverage Score: -130.42\n",
      "Training episode: 601/900\n",
      "Episode 600\tAverage Score: -113.14\n",
      "Training episode: 701/900\n",
      "Episode 700\tAverage Score: -106.21\n",
      "Training episode: 801/900\n",
      "Episode 800\tAverage Score: -104.77\n",
      "Training episode: 900/900\n"
     ]
    },
    {
     "data": {
      "text/html": [
       "Waiting for W&B process to finish... <strong style=\"color:green\">(success).</strong>"
      ],
      "text/plain": [
       "<IPython.core.display.HTML object>"
      ]
     },
     "metadata": {},
     "output_type": "display_data"
    },
    {
     "data": {
      "application/vnd.jupyter.widget-view+json": {
       "model_id": "",
       "version_major": 2,
       "version_minor": 0
      },
      "text/plain": [
       "VBox(children=(Label(value='0.001 MB of 0.001 MB uploaded (0.000 MB deduped)\\r'), FloatProgress(value=1.0, max…"
      ]
     },
     "metadata": {},
     "output_type": "display_data"
    },
    {
     "data": {
      "text/html": [
       "<style>\n",
       "    table.wandb td:nth-child(1) { padding: 0 10px; text-align: right }\n",
       "    .wandb-row { display: flex; flex-direction: row; flex-wrap: wrap; width: 100% }\n",
       "    .wandb-col { display: flex; flex-direction: column; flex-basis: 100%; flex: 1; padding: 10px; }\n",
       "    </style>\n",
       "<div class=\"wandb-row\"><div class=\"wandb-col\"><h3>Run history:</h3><br/><table class=\"wandb\"><tr><td>reward</td><td>▁</td></tr></table><br/></div><div class=\"wandb-col\"><h3>Run summary:</h3><br/><table class=\"wandb\"><tr><td>reward</td><td>-102.43</td></tr></table><br/></div></div>"
      ],
      "text/plain": [
       "<IPython.core.display.HTML object>"
      ]
     },
     "metadata": {},
     "output_type": "display_data"
    },
    {
     "data": {
      "text/html": [
       "Synced <strong style=\"color:#cdcd00\">playful-sweep-20</strong>: <a href=\"https://wandb.ai/hugoallegaert/uncategorized/runs/o5ao6x2a\" target=\"_blank\">https://wandb.ai/hugoallegaert/uncategorized/runs/o5ao6x2a</a><br/>Synced 5 W&B file(s), 0 media file(s), 0 artifact file(s) and 0 other file(s)"
      ],
      "text/plain": [
       "<IPython.core.display.HTML object>"
      ]
     },
     "metadata": {},
     "output_type": "display_data"
    },
    {
     "data": {
      "text/html": [
       "Find logs at: <code>./wandb/run-20220603_150659-o5ao6x2a/logs</code>"
      ],
      "text/plain": [
       "<IPython.core.display.HTML object>"
      ]
     },
     "metadata": {},
     "output_type": "display_data"
    },
    {
     "name": "stderr",
     "output_type": "stream",
     "text": [
      "\u001b[34m\u001b[1mwandb\u001b[0m: Agent Starting Run: wwktmwu8 with config:\n",
      "\u001b[34m\u001b[1mwandb\u001b[0m: \tbatch_size: 215\n",
      "\u001b[34m\u001b[1mwandb\u001b[0m: \tepochs: 900\n",
      "\u001b[34m\u001b[1mwandb\u001b[0m: \teps_decay: 454\n",
      "\u001b[34m\u001b[1mwandb\u001b[0m: \tgamma: 0.23408104892790543\n",
      "\u001b[34m\u001b[1mwandb\u001b[0m: \tloss: mae\n",
      "\u001b[34m\u001b[1mwandb\u001b[0m: \tlr_decay: 294\n",
      "\u001b[34m\u001b[1mwandb\u001b[0m: \tmemory_size: 10000\n",
      "\u001b[34m\u001b[1mwandb\u001b[0m: \ttarget_update: 19\n"
     ]
    },
    {
     "data": {
      "text/html": [
       "wandb version 0.12.17 is available!  To upgrade, please run:\n",
       " $ pip install wandb --upgrade"
      ],
      "text/plain": [
       "<IPython.core.display.HTML object>"
      ]
     },
     "metadata": {},
     "output_type": "display_data"
    },
    {
     "data": {
      "text/html": [
       "Tracking run with wandb version 0.12.11"
      ],
      "text/plain": [
       "<IPython.core.display.HTML object>"
      ]
     },
     "metadata": {},
     "output_type": "display_data"
    },
    {
     "data": {
      "text/html": [
       "Run data is saved locally in <code>/Users/utilisateur/Epitech/T_AIA_902_msc2022_group-44/wandb/run-20220603_150924-wwktmwu8</code>"
      ],
      "text/plain": [
       "<IPython.core.display.HTML object>"
      ]
     },
     "metadata": {},
     "output_type": "display_data"
    },
    {
     "data": {
      "text/html": [
       "Syncing run <strong><a href=\"https://wandb.ai/hugoallegaert/uncategorized/runs/wwktmwu8\" target=\"_blank\">fiery-sweep-21</a></strong> to <a href=\"https://wandb.ai/hugoallegaert/uncategorized\" target=\"_blank\">Weights & Biases</a> (<a href=\"https://wandb.me/run\" target=\"_blank\">docs</a>)<br/>Sweep page:  <a href=\"https://wandb.ai/hugoallegaert/uncategorized/sweeps/vhfjmlpf\" target=\"_blank\">https://wandb.ai/hugoallegaert/uncategorized/sweeps/vhfjmlpf</a>"
      ],
      "text/plain": [
       "<IPython.core.display.HTML object>"
      ]
     },
     "metadata": {},
     "output_type": "display_data"
    },
    {
     "name": "stdout",
     "output_type": "stream",
     "text": [
      "Training episode: 1/900\n",
      "Episode 0\tAverage Score: -361.00\n",
      "Training episode: 101/900\n",
      "Episode 100\tAverage Score: -398.22\n",
      "Training episode: 201/900\n",
      "Episode 200\tAverage Score: -391.96\n",
      "Training episode: 301/900\n",
      "Episode 300\tAverage Score: -282.43\n",
      "Training episode: 401/900\n",
      "Episode 400\tAverage Score: -164.06\n",
      "Training episode: 501/900\n",
      "Episode 500\tAverage Score: -123.16\n",
      "Training episode: 601/900\n",
      "Episode 600\tAverage Score: -109.21\n",
      "Training episode: 701/900\n",
      "Episode 700\tAverage Score: -100.03\n",
      "Training episode: 801/900\n",
      "Episode 800\tAverage Score: -97.84\n",
      "Training episode: 900/900\n"
     ]
    },
    {
     "data": {
      "text/html": [
       "Waiting for W&B process to finish... <strong style=\"color:green\">(success).</strong>"
      ],
      "text/plain": [
       "<IPython.core.display.HTML object>"
      ]
     },
     "metadata": {},
     "output_type": "display_data"
    },
    {
     "data": {
      "application/vnd.jupyter.widget-view+json": {
       "model_id": "",
       "version_major": 2,
       "version_minor": 0
      },
      "text/plain": [
       "VBox(children=(Label(value='0.001 MB of 0.001 MB uploaded (0.000 MB deduped)\\r'), FloatProgress(value=1.0, max…"
      ]
     },
     "metadata": {},
     "output_type": "display_data"
    },
    {
     "data": {
      "text/html": [
       "<style>\n",
       "    table.wandb td:nth-child(1) { padding: 0 10px; text-align: right }\n",
       "    .wandb-row { display: flex; flex-direction: row; flex-wrap: wrap; width: 100% }\n",
       "    .wandb-col { display: flex; flex-direction: column; flex-basis: 100%; flex: 1; padding: 10px; }\n",
       "    </style>\n",
       "<div class=\"wandb-row\"><div class=\"wandb-col\"><h3>Run history:</h3><br/><table class=\"wandb\"><tr><td>reward</td><td>▁</td></tr></table><br/></div><div class=\"wandb-col\"><h3>Run summary:</h3><br/><table class=\"wandb\"><tr><td>reward</td><td>-98.71</td></tr></table><br/></div></div>"
      ],
      "text/plain": [
       "<IPython.core.display.HTML object>"
      ]
     },
     "metadata": {},
     "output_type": "display_data"
    },
    {
     "data": {
      "text/html": [
       "Synced <strong style=\"color:#cdcd00\">fiery-sweep-21</strong>: <a href=\"https://wandb.ai/hugoallegaert/uncategorized/runs/wwktmwu8\" target=\"_blank\">https://wandb.ai/hugoallegaert/uncategorized/runs/wwktmwu8</a><br/>Synced 5 W&B file(s), 0 media file(s), 0 artifact file(s) and 0 other file(s)"
      ],
      "text/plain": [
       "<IPython.core.display.HTML object>"
      ]
     },
     "metadata": {},
     "output_type": "display_data"
    },
    {
     "data": {
      "text/html": [
       "Find logs at: <code>./wandb/run-20220603_150924-wwktmwu8/logs</code>"
      ],
      "text/plain": [
       "<IPython.core.display.HTML object>"
      ]
     },
     "metadata": {},
     "output_type": "display_data"
    },
    {
     "name": "stderr",
     "output_type": "stream",
     "text": [
      "\u001b[34m\u001b[1mwandb\u001b[0m: Agent Starting Run: xhyr593y with config:\n",
      "\u001b[34m\u001b[1mwandb\u001b[0m: \tbatch_size: 161\n",
      "\u001b[34m\u001b[1mwandb\u001b[0m: \tepochs: 900\n",
      "\u001b[34m\u001b[1mwandb\u001b[0m: \teps_decay: 325\n",
      "\u001b[34m\u001b[1mwandb\u001b[0m: \tgamma: 0.5439895398855141\n",
      "\u001b[34m\u001b[1mwandb\u001b[0m: \tloss: huber\n",
      "\u001b[34m\u001b[1mwandb\u001b[0m: \tlr_decay: 303\n",
      "\u001b[34m\u001b[1mwandb\u001b[0m: \tmemory_size: 60000\n",
      "\u001b[34m\u001b[1mwandb\u001b[0m: \ttarget_update: 50\n"
     ]
    },
    {
     "data": {
      "text/html": [
       "wandb version 0.12.17 is available!  To upgrade, please run:\n",
       " $ pip install wandb --upgrade"
      ],
      "text/plain": [
       "<IPython.core.display.HTML object>"
      ]
     },
     "metadata": {},
     "output_type": "display_data"
    },
    {
     "data": {
      "text/html": [
       "Tracking run with wandb version 0.12.11"
      ],
      "text/plain": [
       "<IPython.core.display.HTML object>"
      ]
     },
     "metadata": {},
     "output_type": "display_data"
    },
    {
     "data": {
      "text/html": [
       "Run data is saved locally in <code>/Users/utilisateur/Epitech/T_AIA_902_msc2022_group-44/wandb/run-20220603_151215-xhyr593y</code>"
      ],
      "text/plain": [
       "<IPython.core.display.HTML object>"
      ]
     },
     "metadata": {},
     "output_type": "display_data"
    },
    {
     "data": {
      "text/html": [
       "Syncing run <strong><a href=\"https://wandb.ai/hugoallegaert/uncategorized/runs/xhyr593y\" target=\"_blank\">dazzling-sweep-22</a></strong> to <a href=\"https://wandb.ai/hugoallegaert/uncategorized\" target=\"_blank\">Weights & Biases</a> (<a href=\"https://wandb.me/run\" target=\"_blank\">docs</a>)<br/>Sweep page:  <a href=\"https://wandb.ai/hugoallegaert/uncategorized/sweeps/vhfjmlpf\" target=\"_blank\">https://wandb.ai/hugoallegaert/uncategorized/sweeps/vhfjmlpf</a>"
      ],
      "text/plain": [
       "<IPython.core.display.HTML object>"
      ]
     },
     "metadata": {},
     "output_type": "display_data"
    },
    {
     "name": "stdout",
     "output_type": "stream",
     "text": [
      "Training episode: 1/900\n",
      "Episode 0\tAverage Score: -379.00\n",
      "Training episode: 101/900\n",
      "Episode 100\tAverage Score: -391.12\n",
      "Training episode: 201/900\n",
      "Episode 200\tAverage Score: -392.40\n",
      "Training episode: 301/900\n",
      "Episode 300\tAverage Score: -255.20\n",
      "Training episode: 401/900\n",
      "Episode 400\tAverage Score: -137.35\n",
      "Training episode: 501/900\n",
      "Episode 500\tAverage Score: -110.89\n",
      "Training episode: 601/900\n",
      "Episode 600\tAverage Score: -95.63\n",
      "Training episode: 701/900\n",
      "Episode 700\tAverage Score: -96.34\n",
      "Training episode: 801/900\n",
      "Episode 800\tAverage Score: -99.04\n",
      "Training episode: 900/900\n"
     ]
    },
    {
     "data": {
      "text/html": [
       "Waiting for W&B process to finish... <strong style=\"color:green\">(success).</strong>"
      ],
      "text/plain": [
       "<IPython.core.display.HTML object>"
      ]
     },
     "metadata": {},
     "output_type": "display_data"
    },
    {
     "data": {
      "application/vnd.jupyter.widget-view+json": {
       "model_id": "",
       "version_major": 2,
       "version_minor": 0
      },
      "text/plain": [
       "VBox(children=(Label(value='0.001 MB of 0.001 MB uploaded (0.000 MB deduped)\\r'), FloatProgress(value=1.0, max…"
      ]
     },
     "metadata": {},
     "output_type": "display_data"
    },
    {
     "data": {
      "text/html": [
       "<style>\n",
       "    table.wandb td:nth-child(1) { padding: 0 10px; text-align: right }\n",
       "    .wandb-row { display: flex; flex-direction: row; flex-wrap: wrap; width: 100% }\n",
       "    .wandb-col { display: flex; flex-direction: column; flex-basis: 100%; flex: 1; padding: 10px; }\n",
       "    </style>\n",
       "<div class=\"wandb-row\"><div class=\"wandb-col\"><h3>Run history:</h3><br/><table class=\"wandb\"><tr><td>reward</td><td>▁</td></tr></table><br/></div><div class=\"wandb-col\"><h3>Run summary:</h3><br/><table class=\"wandb\"><tr><td>reward</td><td>-97.52</td></tr></table><br/></div></div>"
      ],
      "text/plain": [
       "<IPython.core.display.HTML object>"
      ]
     },
     "metadata": {},
     "output_type": "display_data"
    },
    {
     "data": {
      "text/html": [
       "Synced <strong style=\"color:#cdcd00\">dazzling-sweep-22</strong>: <a href=\"https://wandb.ai/hugoallegaert/uncategorized/runs/xhyr593y\" target=\"_blank\">https://wandb.ai/hugoallegaert/uncategorized/runs/xhyr593y</a><br/>Synced 5 W&B file(s), 0 media file(s), 0 artifact file(s) and 0 other file(s)"
      ],
      "text/plain": [
       "<IPython.core.display.HTML object>"
      ]
     },
     "metadata": {},
     "output_type": "display_data"
    },
    {
     "data": {
      "text/html": [
       "Find logs at: <code>./wandb/run-20220603_151215-xhyr593y/logs</code>"
      ],
      "text/plain": [
       "<IPython.core.display.HTML object>"
      ]
     },
     "metadata": {},
     "output_type": "display_data"
    },
    {
     "name": "stderr",
     "output_type": "stream",
     "text": [
      "\u001b[34m\u001b[1mwandb\u001b[0m: Agent Starting Run: bn02juij with config:\n",
      "\u001b[34m\u001b[1mwandb\u001b[0m: \tbatch_size: 394\n",
      "\u001b[34m\u001b[1mwandb\u001b[0m: \tepochs: 900\n",
      "\u001b[34m\u001b[1mwandb\u001b[0m: \teps_decay: 405\n",
      "\u001b[34m\u001b[1mwandb\u001b[0m: \tgamma: 0.9109882832450495\n",
      "\u001b[34m\u001b[1mwandb\u001b[0m: \tloss: huber\n",
      "\u001b[34m\u001b[1mwandb\u001b[0m: \tlr_decay: 371\n",
      "\u001b[34m\u001b[1mwandb\u001b[0m: \tmemory_size: 2048\n",
      "\u001b[34m\u001b[1mwandb\u001b[0m: \ttarget_update: 35\n"
     ]
    },
    {
     "data": {
      "text/html": [
       "wandb version 0.12.17 is available!  To upgrade, please run:\n",
       " $ pip install wandb --upgrade"
      ],
      "text/plain": [
       "<IPython.core.display.HTML object>"
      ]
     },
     "metadata": {},
     "output_type": "display_data"
    },
    {
     "data": {
      "text/html": [
       "Tracking run with wandb version 0.12.11"
      ],
      "text/plain": [
       "<IPython.core.display.HTML object>"
      ]
     },
     "metadata": {},
     "output_type": "display_data"
    },
    {
     "data": {
      "text/html": [
       "Run data is saved locally in <code>/Users/utilisateur/Epitech/T_AIA_902_msc2022_group-44/wandb/run-20220603_151535-bn02juij</code>"
      ],
      "text/plain": [
       "<IPython.core.display.HTML object>"
      ]
     },
     "metadata": {},
     "output_type": "display_data"
    },
    {
     "data": {
      "text/html": [
       "Syncing run <strong><a href=\"https://wandb.ai/hugoallegaert/uncategorized/runs/bn02juij\" target=\"_blank\">frosty-sweep-23</a></strong> to <a href=\"https://wandb.ai/hugoallegaert/uncategorized\" target=\"_blank\">Weights & Biases</a> (<a href=\"https://wandb.me/run\" target=\"_blank\">docs</a>)<br/>Sweep page:  <a href=\"https://wandb.ai/hugoallegaert/uncategorized/sweeps/vhfjmlpf\" target=\"_blank\">https://wandb.ai/hugoallegaert/uncategorized/sweeps/vhfjmlpf</a>"
      ],
      "text/plain": [
       "<IPython.core.display.HTML object>"
      ]
     },
     "metadata": {},
     "output_type": "display_data"
    },
    {
     "name": "stdout",
     "output_type": "stream",
     "text": [
      "Training episode: 1/900\n",
      "Episode 0\tAverage Score: -415.00\n",
      "Training episode: 101/900\n",
      "Episode 100\tAverage Score: -398.09\n",
      "Training episode: 201/900\n",
      "Episode 200\tAverage Score: -392.25\n",
      "Training episode: 301/900\n",
      "Episode 300\tAverage Score: -269.06\n",
      "Training episode: 401/900\n",
      "Episode 400\tAverage Score: -156.91\n",
      "Training episode: 501/900\n",
      "Episode 500\tAverage Score: -125.74\n",
      "Training episode: 601/900\n",
      "Episode 600\tAverage Score: -107.38\n",
      "Training episode: 701/900\n",
      "Episode 700\tAverage Score: -105.94\n",
      "Training episode: 801/900\n",
      "Episode 800\tAverage Score: -105.85\n",
      "Training episode: 900/900\n"
     ]
    },
    {
     "data": {
      "text/html": [
       "Waiting for W&B process to finish... <strong style=\"color:green\">(success).</strong>"
      ],
      "text/plain": [
       "<IPython.core.display.HTML object>"
      ]
     },
     "metadata": {},
     "output_type": "display_data"
    },
    {
     "data": {
      "application/vnd.jupyter.widget-view+json": {
       "model_id": "",
       "version_major": 2,
       "version_minor": 0
      },
      "text/plain": [
       "VBox(children=(Label(value='0.001 MB of 0.001 MB uploaded (0.000 MB deduped)\\r'), FloatProgress(value=1.0, max…"
      ]
     },
     "metadata": {},
     "output_type": "display_data"
    },
    {
     "data": {
      "text/html": [
       "<style>\n",
       "    table.wandb td:nth-child(1) { padding: 0 10px; text-align: right }\n",
       "    .wandb-row { display: flex; flex-direction: row; flex-wrap: wrap; width: 100% }\n",
       "    .wandb-col { display: flex; flex-direction: column; flex-basis: 100%; flex: 1; padding: 10px; }\n",
       "    </style>\n",
       "<div class=\"wandb-row\"><div class=\"wandb-col\"><h3>Run history:</h3><br/><table class=\"wandb\"><tr><td>reward</td><td>▁</td></tr></table><br/></div><div class=\"wandb-col\"><h3>Run summary:</h3><br/><table class=\"wandb\"><tr><td>reward</td><td>-104.77</td></tr></table><br/></div></div>"
      ],
      "text/plain": [
       "<IPython.core.display.HTML object>"
      ]
     },
     "metadata": {},
     "output_type": "display_data"
    },
    {
     "data": {
      "text/html": [
       "Synced <strong style=\"color:#cdcd00\">frosty-sweep-23</strong>: <a href=\"https://wandb.ai/hugoallegaert/uncategorized/runs/bn02juij\" target=\"_blank\">https://wandb.ai/hugoallegaert/uncategorized/runs/bn02juij</a><br/>Synced 5 W&B file(s), 0 media file(s), 0 artifact file(s) and 0 other file(s)"
      ],
      "text/plain": [
       "<IPython.core.display.HTML object>"
      ]
     },
     "metadata": {},
     "output_type": "display_data"
    },
    {
     "data": {
      "text/html": [
       "Find logs at: <code>./wandb/run-20220603_151535-bn02juij/logs</code>"
      ],
      "text/plain": [
       "<IPython.core.display.HTML object>"
      ]
     },
     "metadata": {},
     "output_type": "display_data"
    },
    {
     "name": "stderr",
     "output_type": "stream",
     "text": [
      "\u001b[34m\u001b[1mwandb\u001b[0m: Agent Starting Run: lkupufn3 with config:\n",
      "\u001b[34m\u001b[1mwandb\u001b[0m: \tbatch_size: 339\n",
      "\u001b[34m\u001b[1mwandb\u001b[0m: \tepochs: 900\n",
      "\u001b[34m\u001b[1mwandb\u001b[0m: \teps_decay: 128\n",
      "\u001b[34m\u001b[1mwandb\u001b[0m: \tgamma: 0.43160883878222217\n",
      "\u001b[34m\u001b[1mwandb\u001b[0m: \tloss: huber\n",
      "\u001b[34m\u001b[1mwandb\u001b[0m: \tlr_decay: 130\n",
      "\u001b[34m\u001b[1mwandb\u001b[0m: \tmemory_size: 40000\n",
      "\u001b[34m\u001b[1mwandb\u001b[0m: \ttarget_update: 27\n"
     ]
    },
    {
     "data": {
      "text/html": [
       "wandb version 0.12.17 is available!  To upgrade, please run:\n",
       " $ pip install wandb --upgrade"
      ],
      "text/plain": [
       "<IPython.core.display.HTML object>"
      ]
     },
     "metadata": {},
     "output_type": "display_data"
    },
    {
     "data": {
      "text/html": [
       "Tracking run with wandb version 0.12.11"
      ],
      "text/plain": [
       "<IPython.core.display.HTML object>"
      ]
     },
     "metadata": {},
     "output_type": "display_data"
    },
    {
     "data": {
      "text/html": [
       "Run data is saved locally in <code>/Users/utilisateur/Epitech/T_AIA_902_msc2022_group-44/wandb/run-20220603_151927-lkupufn3</code>"
      ],
      "text/plain": [
       "<IPython.core.display.HTML object>"
      ]
     },
     "metadata": {},
     "output_type": "display_data"
    },
    {
     "data": {
      "text/html": [
       "Syncing run <strong><a href=\"https://wandb.ai/hugoallegaert/uncategorized/runs/lkupufn3\" target=\"_blank\">young-sweep-24</a></strong> to <a href=\"https://wandb.ai/hugoallegaert/uncategorized\" target=\"_blank\">Weights & Biases</a> (<a href=\"https://wandb.me/run\" target=\"_blank\">docs</a>)<br/>Sweep page:  <a href=\"https://wandb.ai/hugoallegaert/uncategorized/sweeps/vhfjmlpf\" target=\"_blank\">https://wandb.ai/hugoallegaert/uncategorized/sweeps/vhfjmlpf</a>"
      ],
      "text/plain": [
       "<IPython.core.display.HTML object>"
      ]
     },
     "metadata": {},
     "output_type": "display_data"
    },
    {
     "name": "stdout",
     "output_type": "stream",
     "text": [
      "Training episode: 1/900\n",
      "Episode 0\tAverage Score: -352.00\n",
      "Training episode: 101/900\n",
      "Episode 100\tAverage Score: -374.52\n",
      "Training episode: 201/900\n",
      "Episode 200\tAverage Score: -382.24\n",
      "Training episode: 301/900\n",
      "Episode 300\tAverage Score: -178.07\n",
      "Training episode: 401/900\n",
      "Episode 400\tAverage Score: -92.36\n",
      "Training episode: 501/900\n",
      "Episode 500\tAverage Score: -84.52\n",
      "Training episode: 601/900\n",
      "Episode 600\tAverage Score: -68.42\n",
      "Training episode: 701/900\n",
      "Episode 700\tAverage Score: -67.06\n",
      "Training episode: 801/900\n",
      "Episode 800\tAverage Score: -69.79\n",
      "Training episode: 900/900\n"
     ]
    },
    {
     "data": {
      "text/html": [
       "Waiting for W&B process to finish... <strong style=\"color:green\">(success).</strong>"
      ],
      "text/plain": [
       "<IPython.core.display.HTML object>"
      ]
     },
     "metadata": {},
     "output_type": "display_data"
    },
    {
     "data": {
      "application/vnd.jupyter.widget-view+json": {
       "model_id": "",
       "version_major": 2,
       "version_minor": 0
      },
      "text/plain": [
       "VBox(children=(Label(value='0.001 MB of 0.001 MB uploaded (0.000 MB deduped)\\r'), FloatProgress(value=1.0, max…"
      ]
     },
     "metadata": {},
     "output_type": "display_data"
    },
    {
     "data": {
      "text/html": [
       "<style>\n",
       "    table.wandb td:nth-child(1) { padding: 0 10px; text-align: right }\n",
       "    .wandb-row { display: flex; flex-direction: row; flex-wrap: wrap; width: 100% }\n",
       "    .wandb-col { display: flex; flex-direction: column; flex-basis: 100%; flex: 1; padding: 10px; }\n",
       "    </style>\n",
       "<div class=\"wandb-row\"><div class=\"wandb-col\"><h3>Run history:</h3><br/><table class=\"wandb\"><tr><td>reward</td><td>▁</td></tr></table><br/></div><div class=\"wandb-col\"><h3>Run summary:</h3><br/><table class=\"wandb\"><tr><td>reward</td><td>-64.0</td></tr></table><br/></div></div>"
      ],
      "text/plain": [
       "<IPython.core.display.HTML object>"
      ]
     },
     "metadata": {},
     "output_type": "display_data"
    },
    {
     "data": {
      "text/html": [
       "Synced <strong style=\"color:#cdcd00\">young-sweep-24</strong>: <a href=\"https://wandb.ai/hugoallegaert/uncategorized/runs/lkupufn3\" target=\"_blank\">https://wandb.ai/hugoallegaert/uncategorized/runs/lkupufn3</a><br/>Synced 5 W&B file(s), 0 media file(s), 0 artifact file(s) and 0 other file(s)"
      ],
      "text/plain": [
       "<IPython.core.display.HTML object>"
      ]
     },
     "metadata": {},
     "output_type": "display_data"
    },
    {
     "data": {
      "text/html": [
       "Find logs at: <code>./wandb/run-20220603_151927-lkupufn3/logs</code>"
      ],
      "text/plain": [
       "<IPython.core.display.HTML object>"
      ]
     },
     "metadata": {},
     "output_type": "display_data"
    },
    {
     "name": "stderr",
     "output_type": "stream",
     "text": [
      "\u001b[34m\u001b[1mwandb\u001b[0m: Agent Starting Run: zjymkbl3 with config:\n",
      "\u001b[34m\u001b[1mwandb\u001b[0m: \tbatch_size: 187\n",
      "\u001b[34m\u001b[1mwandb\u001b[0m: \tepochs: 900\n",
      "\u001b[34m\u001b[1mwandb\u001b[0m: \teps_decay: 71\n",
      "\u001b[34m\u001b[1mwandb\u001b[0m: \tgamma: 0.8278240650363119\n",
      "\u001b[34m\u001b[1mwandb\u001b[0m: \tloss: mae\n",
      "\u001b[34m\u001b[1mwandb\u001b[0m: \tlr_decay: 66\n",
      "\u001b[34m\u001b[1mwandb\u001b[0m: \tmemory_size: 2048\n",
      "\u001b[34m\u001b[1mwandb\u001b[0m: \ttarget_update: 15\n"
     ]
    },
    {
     "data": {
      "text/html": [
       "wandb version 0.12.17 is available!  To upgrade, please run:\n",
       " $ pip install wandb --upgrade"
      ],
      "text/plain": [
       "<IPython.core.display.HTML object>"
      ]
     },
     "metadata": {},
     "output_type": "display_data"
    },
    {
     "data": {
      "text/html": [
       "Tracking run with wandb version 0.12.11"
      ],
      "text/plain": [
       "<IPython.core.display.HTML object>"
      ]
     },
     "metadata": {},
     "output_type": "display_data"
    },
    {
     "data": {
      "text/html": [
       "Run data is saved locally in <code>/Users/utilisateur/Epitech/T_AIA_902_msc2022_group-44/wandb/run-20220603_152232-zjymkbl3</code>"
      ],
      "text/plain": [
       "<IPython.core.display.HTML object>"
      ]
     },
     "metadata": {},
     "output_type": "display_data"
    },
    {
     "data": {
      "text/html": [
       "Syncing run <strong><a href=\"https://wandb.ai/hugoallegaert/uncategorized/runs/zjymkbl3\" target=\"_blank\">still-sweep-25</a></strong> to <a href=\"https://wandb.ai/hugoallegaert/uncategorized\" target=\"_blank\">Weights & Biases</a> (<a href=\"https://wandb.me/run\" target=\"_blank\">docs</a>)<br/>Sweep page:  <a href=\"https://wandb.ai/hugoallegaert/uncategorized/sweeps/vhfjmlpf\" target=\"_blank\">https://wandb.ai/hugoallegaert/uncategorized/sweeps/vhfjmlpf</a>"
      ],
      "text/plain": [
       "<IPython.core.display.HTML object>"
      ]
     },
     "metadata": {},
     "output_type": "display_data"
    },
    {
     "name": "stdout",
     "output_type": "stream",
     "text": [
      "Training episode: 1/900\n",
      "Episode 0\tAverage Score: -451.00\n",
      "Training episode: 101/900\n",
      "Episode 100\tAverage Score: -408.06\n",
      "Training episode: 201/900\n",
      "Episode 200\tAverage Score: -416.66\n",
      "Training episode: 301/900\n",
      "Episode 300\tAverage Score: -144.10\n",
      "Training episode: 401/900\n",
      "Episode 400\tAverage Score: -102.61\n",
      "Training episode: 501/900\n",
      "Episode 500\tAverage Score: -103.42\n",
      "Training episode: 601/900\n",
      "Episode 600\tAverage Score: -103.33\n",
      "Training episode: 701/900\n",
      "Episode 700\tAverage Score: -103.15\n",
      "Training episode: 801/900\n",
      "Episode 800\tAverage Score: -101.98\n",
      "Training episode: 900/900\n"
     ]
    },
    {
     "data": {
      "text/html": [
       "Waiting for W&B process to finish... <strong style=\"color:green\">(success).</strong>"
      ],
      "text/plain": [
       "<IPython.core.display.HTML object>"
      ]
     },
     "metadata": {},
     "output_type": "display_data"
    },
    {
     "data": {
      "application/vnd.jupyter.widget-view+json": {
       "model_id": "",
       "version_major": 2,
       "version_minor": 0
      },
      "text/plain": [
       "VBox(children=(Label(value='0.001 MB of 0.001 MB uploaded (0.000 MB deduped)\\r'), FloatProgress(value=1.0, max…"
      ]
     },
     "metadata": {},
     "output_type": "display_data"
    },
    {
     "data": {
      "text/html": [
       "<style>\n",
       "    table.wandb td:nth-child(1) { padding: 0 10px; text-align: right }\n",
       "    .wandb-row { display: flex; flex-direction: row; flex-wrap: wrap; width: 100% }\n",
       "    .wandb-col { display: flex; flex-direction: column; flex-basis: 100%; flex: 1; padding: 10px; }\n",
       "    </style>\n",
       "<div class=\"wandb-row\"><div class=\"wandb-col\"><h3>Run history:</h3><br/><table class=\"wandb\"><tr><td>reward</td><td>▁</td></tr></table><br/></div><div class=\"wandb-col\"><h3>Run summary:</h3><br/><table class=\"wandb\"><tr><td>reward</td><td>-102.7</td></tr></table><br/></div></div>"
      ],
      "text/plain": [
       "<IPython.core.display.HTML object>"
      ]
     },
     "metadata": {},
     "output_type": "display_data"
    },
    {
     "data": {
      "text/html": [
       "Synced <strong style=\"color:#cdcd00\">still-sweep-25</strong>: <a href=\"https://wandb.ai/hugoallegaert/uncategorized/runs/zjymkbl3\" target=\"_blank\">https://wandb.ai/hugoallegaert/uncategorized/runs/zjymkbl3</a><br/>Synced 5 W&B file(s), 0 media file(s), 0 artifact file(s) and 0 other file(s)"
      ],
      "text/plain": [
       "<IPython.core.display.HTML object>"
      ]
     },
     "metadata": {},
     "output_type": "display_data"
    },
    {
     "data": {
      "text/html": [
       "Find logs at: <code>./wandb/run-20220603_152232-zjymkbl3/logs</code>"
      ],
      "text/plain": [
       "<IPython.core.display.HTML object>"
      ]
     },
     "metadata": {},
     "output_type": "display_data"
    },
    {
     "name": "stderr",
     "output_type": "stream",
     "text": [
      "\u001b[34m\u001b[1mwandb\u001b[0m: Agent Starting Run: xsfmzwej with config:\n",
      "\u001b[34m\u001b[1mwandb\u001b[0m: \tbatch_size: 387\n",
      "\u001b[34m\u001b[1mwandb\u001b[0m: \tepochs: 900\n",
      "\u001b[34m\u001b[1mwandb\u001b[0m: \teps_decay: 460\n",
      "\u001b[34m\u001b[1mwandb\u001b[0m: \tgamma: 0.038248848425788504\n",
      "\u001b[34m\u001b[1mwandb\u001b[0m: \tloss: mse\n",
      "\u001b[34m\u001b[1mwandb\u001b[0m: \tlr_decay: 99\n",
      "\u001b[34m\u001b[1mwandb\u001b[0m: \tmemory_size: 4096\n",
      "\u001b[34m\u001b[1mwandb\u001b[0m: \ttarget_update: 39\n"
     ]
    },
    {
     "data": {
      "text/html": [
       "wandb version 0.12.17 is available!  To upgrade, please run:\n",
       " $ pip install wandb --upgrade"
      ],
      "text/plain": [
       "<IPython.core.display.HTML object>"
      ]
     },
     "metadata": {},
     "output_type": "display_data"
    },
    {
     "data": {
      "text/html": [
       "Tracking run with wandb version 0.12.11"
      ],
      "text/plain": [
       "<IPython.core.display.HTML object>"
      ]
     },
     "metadata": {},
     "output_type": "display_data"
    },
    {
     "data": {
      "text/html": [
       "Run data is saved locally in <code>/Users/utilisateur/Epitech/T_AIA_902_msc2022_group-44/wandb/run-20220603_152524-xsfmzwej</code>"
      ],
      "text/plain": [
       "<IPython.core.display.HTML object>"
      ]
     },
     "metadata": {},
     "output_type": "display_data"
    },
    {
     "data": {
      "text/html": [
       "Syncing run <strong><a href=\"https://wandb.ai/hugoallegaert/uncategorized/runs/xsfmzwej\" target=\"_blank\">peach-sweep-26</a></strong> to <a href=\"https://wandb.ai/hugoallegaert/uncategorized\" target=\"_blank\">Weights & Biases</a> (<a href=\"https://wandb.me/run\" target=\"_blank\">docs</a>)<br/>Sweep page:  <a href=\"https://wandb.ai/hugoallegaert/uncategorized/sweeps/vhfjmlpf\" target=\"_blank\">https://wandb.ai/hugoallegaert/uncategorized/sweeps/vhfjmlpf</a>"
      ],
      "text/plain": [
       "<IPython.core.display.HTML object>"
      ]
     },
     "metadata": {},
     "output_type": "display_data"
    },
    {
     "name": "stdout",
     "output_type": "stream",
     "text": [
      "Training episode: 1/900\n",
      "Episode 0\tAverage Score: -451.00\n",
      "Training episode: 101/900\n",
      "Episode 100\tAverage Score: -395.39\n",
      "Training episode: 201/900\n",
      "Episode 200\tAverage Score: -401.99\n",
      "Training episode: 301/900\n",
      "Episode 300\tAverage Score: -283.13\n",
      "Training episode: 401/900\n",
      "Episode 400\tAverage Score: -165.49\n",
      "Training episode: 501/900\n",
      "Episode 500\tAverage Score: -124.12\n",
      "Training episode: 601/900\n",
      "Episode 600\tAverage Score: -111.16\n",
      "Training episode: 701/900\n",
      "Episode 700\tAverage Score: -106.03\n",
      "Training episode: 801/900\n",
      "Episode 800\tAverage Score: -103.15\n",
      "Training episode: 900/900\n"
     ]
    },
    {
     "data": {
      "text/html": [
       "Waiting for W&B process to finish... <strong style=\"color:green\">(success).</strong>"
      ],
      "text/plain": [
       "<IPython.core.display.HTML object>"
      ]
     },
     "metadata": {},
     "output_type": "display_data"
    },
    {
     "data": {
      "application/vnd.jupyter.widget-view+json": {
       "model_id": "",
       "version_major": 2,
       "version_minor": 0
      },
      "text/plain": [
       "VBox(children=(Label(value='0.001 MB of 0.001 MB uploaded (0.000 MB deduped)\\r'), FloatProgress(value=1.0, max…"
      ]
     },
     "metadata": {},
     "output_type": "display_data"
    },
    {
     "data": {
      "text/html": [
       "<style>\n",
       "    table.wandb td:nth-child(1) { padding: 0 10px; text-align: right }\n",
       "    .wandb-row { display: flex; flex-direction: row; flex-wrap: wrap; width: 100% }\n",
       "    .wandb-col { display: flex; flex-direction: column; flex-basis: 100%; flex: 1; padding: 10px; }\n",
       "    </style>\n",
       "<div class=\"wandb-row\"><div class=\"wandb-col\"><h3>Run history:</h3><br/><table class=\"wandb\"><tr><td>reward</td><td>▁</td></tr></table><br/></div><div class=\"wandb-col\"><h3>Run summary:</h3><br/><table class=\"wandb\"><tr><td>reward</td><td>-102.42</td></tr></table><br/></div></div>"
      ],
      "text/plain": [
       "<IPython.core.display.HTML object>"
      ]
     },
     "metadata": {},
     "output_type": "display_data"
    },
    {
     "data": {
      "text/html": [
       "Synced <strong style=\"color:#cdcd00\">peach-sweep-26</strong>: <a href=\"https://wandb.ai/hugoallegaert/uncategorized/runs/xsfmzwej\" target=\"_blank\">https://wandb.ai/hugoallegaert/uncategorized/runs/xsfmzwej</a><br/>Synced 5 W&B file(s), 0 media file(s), 0 artifact file(s) and 0 other file(s)"
      ],
      "text/plain": [
       "<IPython.core.display.HTML object>"
      ]
     },
     "metadata": {},
     "output_type": "display_data"
    },
    {
     "data": {
      "text/html": [
       "Find logs at: <code>./wandb/run-20220603_152524-xsfmzwej/logs</code>"
      ],
      "text/plain": [
       "<IPython.core.display.HTML object>"
      ]
     },
     "metadata": {},
     "output_type": "display_data"
    },
    {
     "name": "stderr",
     "output_type": "stream",
     "text": [
      "\u001b[34m\u001b[1mwandb\u001b[0m: Sweep Agent: Waiting for job.\n",
      "\u001b[34m\u001b[1mwandb\u001b[0m: Job received.\n",
      "\u001b[34m\u001b[1mwandb\u001b[0m: Agent Starting Run: uqeordky with config:\n",
      "\u001b[34m\u001b[1mwandb\u001b[0m: \tbatch_size: 364\n",
      "\u001b[34m\u001b[1mwandb\u001b[0m: \tepochs: 900\n",
      "\u001b[34m\u001b[1mwandb\u001b[0m: \teps_decay: 171\n",
      "\u001b[34m\u001b[1mwandb\u001b[0m: \tgamma: 0.26822084374388067\n",
      "\u001b[34m\u001b[1mwandb\u001b[0m: \tloss: mae\n",
      "\u001b[34m\u001b[1mwandb\u001b[0m: \tlr_decay: 260\n",
      "\u001b[34m\u001b[1mwandb\u001b[0m: \tmemory_size: 10000\n",
      "\u001b[34m\u001b[1mwandb\u001b[0m: \ttarget_update: 37\n"
     ]
    },
    {
     "data": {
      "text/html": [
       "wandb version 0.12.17 is available!  To upgrade, please run:\n",
       " $ pip install wandb --upgrade"
      ],
      "text/plain": [
       "<IPython.core.display.HTML object>"
      ]
     },
     "metadata": {},
     "output_type": "display_data"
    },
    {
     "data": {
      "text/html": [
       "Tracking run with wandb version 0.12.11"
      ],
      "text/plain": [
       "<IPython.core.display.HTML object>"
      ]
     },
     "metadata": {},
     "output_type": "display_data"
    },
    {
     "data": {
      "text/html": [
       "Run data is saved locally in <code>/Users/utilisateur/Epitech/T_AIA_902_msc2022_group-44/wandb/run-20220603_152907-uqeordky</code>"
      ],
      "text/plain": [
       "<IPython.core.display.HTML object>"
      ]
     },
     "metadata": {},
     "output_type": "display_data"
    },
    {
     "data": {
      "text/html": [
       "Syncing run <strong><a href=\"https://wandb.ai/hugoallegaert/uncategorized/runs/uqeordky\" target=\"_blank\">smart-sweep-27</a></strong> to <a href=\"https://wandb.ai/hugoallegaert/uncategorized\" target=\"_blank\">Weights & Biases</a> (<a href=\"https://wandb.me/run\" target=\"_blank\">docs</a>)<br/>Sweep page:  <a href=\"https://wandb.ai/hugoallegaert/uncategorized/sweeps/vhfjmlpf\" target=\"_blank\">https://wandb.ai/hugoallegaert/uncategorized/sweeps/vhfjmlpf</a>"
      ],
      "text/plain": [
       "<IPython.core.display.HTML object>"
      ]
     },
     "metadata": {},
     "output_type": "display_data"
    },
    {
     "name": "stdout",
     "output_type": "stream",
     "text": [
      "Training episode: 1/900\n",
      "Episode 0\tAverage Score: -406.00\n",
      "Training episode: 101/900\n",
      "Episode 100\tAverage Score: -398.34\n",
      "Training episode: 201/900\n",
      "Episode 200\tAverage Score: -393.73\n",
      "Training episode: 301/900\n",
      "Episode 300\tAverage Score: -192.04\n",
      "Training episode: 401/900\n",
      "Episode 400\tAverage Score: -105.72\n",
      "Training episode: 501/900\n",
      "Episode 500\tAverage Score: -101.68\n",
      "Training episode: 601/900\n",
      "Episode 600\tAverage Score: -101.92\n",
      "Training episode: 701/900\n",
      "Episode 700\tAverage Score: -101.65\n",
      "Training episode: 801/900\n",
      "Episode 800\tAverage Score: -103.14\n",
      "Training episode: 900/900\n"
     ]
    },
    {
     "data": {
      "text/html": [
       "Waiting for W&B process to finish... <strong style=\"color:green\">(success).</strong>"
      ],
      "text/plain": [
       "<IPython.core.display.HTML object>"
      ]
     },
     "metadata": {},
     "output_type": "display_data"
    },
    {
     "data": {
      "application/vnd.jupyter.widget-view+json": {
       "model_id": "",
       "version_major": 2,
       "version_minor": 0
      },
      "text/plain": [
       "VBox(children=(Label(value='0.001 MB of 0.001 MB uploaded (0.000 MB deduped)\\r'), FloatProgress(value=1.0, max…"
      ]
     },
     "metadata": {},
     "output_type": "display_data"
    },
    {
     "data": {
      "text/html": [
       "<style>\n",
       "    table.wandb td:nth-child(1) { padding: 0 10px; text-align: right }\n",
       "    .wandb-row { display: flex; flex-direction: row; flex-wrap: wrap; width: 100% }\n",
       "    .wandb-col { display: flex; flex-direction: column; flex-basis: 100%; flex: 1; padding: 10px; }\n",
       "    </style>\n",
       "<div class=\"wandb-row\"><div class=\"wandb-col\"><h3>Run history:</h3><br/><table class=\"wandb\"><tr><td>reward</td><td>▁</td></tr></table><br/></div><div class=\"wandb-col\"><h3>Run summary:</h3><br/><table class=\"wandb\"><tr><td>reward</td><td>-102.1</td></tr></table><br/></div></div>"
      ],
      "text/plain": [
       "<IPython.core.display.HTML object>"
      ]
     },
     "metadata": {},
     "output_type": "display_data"
    },
    {
     "data": {
      "text/html": [
       "Synced <strong style=\"color:#cdcd00\">smart-sweep-27</strong>: <a href=\"https://wandb.ai/hugoallegaert/uncategorized/runs/uqeordky\" target=\"_blank\">https://wandb.ai/hugoallegaert/uncategorized/runs/uqeordky</a><br/>Synced 5 W&B file(s), 0 media file(s), 0 artifact file(s) and 0 other file(s)"
      ],
      "text/plain": [
       "<IPython.core.display.HTML object>"
      ]
     },
     "metadata": {},
     "output_type": "display_data"
    },
    {
     "data": {
      "text/html": [
       "Find logs at: <code>./wandb/run-20220603_152907-uqeordky/logs</code>"
      ],
      "text/plain": [
       "<IPython.core.display.HTML object>"
      ]
     },
     "metadata": {},
     "output_type": "display_data"
    },
    {
     "name": "stderr",
     "output_type": "stream",
     "text": [
      "\u001b[34m\u001b[1mwandb\u001b[0m: Agent Starting Run: lqf4ojwo with config:\n",
      "\u001b[34m\u001b[1mwandb\u001b[0m: \tbatch_size: 343\n",
      "\u001b[34m\u001b[1mwandb\u001b[0m: \tepochs: 900\n",
      "\u001b[34m\u001b[1mwandb\u001b[0m: \teps_decay: 281\n",
      "\u001b[34m\u001b[1mwandb\u001b[0m: \tgamma: 0.3290558008455571\n",
      "\u001b[34m\u001b[1mwandb\u001b[0m: \tloss: huber\n",
      "\u001b[34m\u001b[1mwandb\u001b[0m: \tlr_decay: 389\n",
      "\u001b[34m\u001b[1mwandb\u001b[0m: \tmemory_size: 1025\n",
      "\u001b[34m\u001b[1mwandb\u001b[0m: \ttarget_update: 1\n"
     ]
    },
    {
     "data": {
      "text/html": [
       "wandb version 0.12.17 is available!  To upgrade, please run:\n",
       " $ pip install wandb --upgrade"
      ],
      "text/plain": [
       "<IPython.core.display.HTML object>"
      ]
     },
     "metadata": {},
     "output_type": "display_data"
    },
    {
     "data": {
      "text/html": [
       "Tracking run with wandb version 0.12.11"
      ],
      "text/plain": [
       "<IPython.core.display.HTML object>"
      ]
     },
     "metadata": {},
     "output_type": "display_data"
    },
    {
     "data": {
      "text/html": [
       "Run data is saved locally in <code>/Users/utilisateur/Epitech/T_AIA_902_msc2022_group-44/wandb/run-20220603_153240-lqf4ojwo</code>"
      ],
      "text/plain": [
       "<IPython.core.display.HTML object>"
      ]
     },
     "metadata": {},
     "output_type": "display_data"
    },
    {
     "data": {
      "text/html": [
       "Syncing run <strong><a href=\"https://wandb.ai/hugoallegaert/uncategorized/runs/lqf4ojwo\" target=\"_blank\">woven-sweep-28</a></strong> to <a href=\"https://wandb.ai/hugoallegaert/uncategorized\" target=\"_blank\">Weights & Biases</a> (<a href=\"https://wandb.me/run\" target=\"_blank\">docs</a>)<br/>Sweep page:  <a href=\"https://wandb.ai/hugoallegaert/uncategorized/sweeps/vhfjmlpf\" target=\"_blank\">https://wandb.ai/hugoallegaert/uncategorized/sweeps/vhfjmlpf</a>"
      ],
      "text/plain": [
       "<IPython.core.display.HTML object>"
      ]
     },
     "metadata": {},
     "output_type": "display_data"
    },
    {
     "name": "stdout",
     "output_type": "stream",
     "text": [
      "Training episode: 1/900\n",
      "Episode 0\tAverage Score: -361.00\n",
      "Training episode: 101/900\n",
      "Episode 100\tAverage Score: -390.70\n",
      "Training episode: 201/900\n",
      "Episode 200\tAverage Score: -382.42\n",
      "Training episode: 301/900\n",
      "Episode 300\tAverage Score: -240.71\n",
      "Training episode: 401/900\n",
      "Episode 400\tAverage Score: -131.14\n",
      "Training episode: 501/900\n",
      "Episode 500\tAverage Score: -108.28\n",
      "Training episode: 601/900\n",
      "Episode 600\tAverage Score: -103.78\n",
      "Training episode: 701/900\n",
      "Episode 700\tAverage Score: -102.70\n",
      "Training episode: 801/900\n",
      "Episode 800\tAverage Score: -103.33\n",
      "Training episode: 900/900\n"
     ]
    },
    {
     "data": {
      "text/html": [
       "Waiting for W&B process to finish... <strong style=\"color:green\">(success).</strong>"
      ],
      "text/plain": [
       "<IPython.core.display.HTML object>"
      ]
     },
     "metadata": {},
     "output_type": "display_data"
    },
    {
     "data": {
      "application/vnd.jupyter.widget-view+json": {
       "model_id": "",
       "version_major": 2,
       "version_minor": 0
      },
      "text/plain": [
       "VBox(children=(Label(value='0.001 MB of 0.001 MB uploaded (0.000 MB deduped)\\r'), FloatProgress(value=1.0, max…"
      ]
     },
     "metadata": {},
     "output_type": "display_data"
    },
    {
     "data": {
      "text/html": [
       "<style>\n",
       "    table.wandb td:nth-child(1) { padding: 0 10px; text-align: right }\n",
       "    .wandb-row { display: flex; flex-direction: row; flex-wrap: wrap; width: 100% }\n",
       "    .wandb-col { display: flex; flex-direction: column; flex-basis: 100%; flex: 1; padding: 10px; }\n",
       "    </style>\n",
       "<div class=\"wandb-row\"><div class=\"wandb-col\"><h3>Run history:</h3><br/><table class=\"wandb\"><tr><td>reward</td><td>▁</td></tr></table><br/></div><div class=\"wandb-col\"><h3>Run summary:</h3><br/><table class=\"wandb\"><tr><td>reward</td><td>-103.15</td></tr></table><br/></div></div>"
      ],
      "text/plain": [
       "<IPython.core.display.HTML object>"
      ]
     },
     "metadata": {},
     "output_type": "display_data"
    },
    {
     "data": {
      "text/html": [
       "Synced <strong style=\"color:#cdcd00\">woven-sweep-28</strong>: <a href=\"https://wandb.ai/hugoallegaert/uncategorized/runs/lqf4ojwo\" target=\"_blank\">https://wandb.ai/hugoallegaert/uncategorized/runs/lqf4ojwo</a><br/>Synced 5 W&B file(s), 0 media file(s), 0 artifact file(s) and 0 other file(s)"
      ],
      "text/plain": [
       "<IPython.core.display.HTML object>"
      ]
     },
     "metadata": {},
     "output_type": "display_data"
    },
    {
     "data": {
      "text/html": [
       "Find logs at: <code>./wandb/run-20220603_153240-lqf4ojwo/logs</code>"
      ],
      "text/plain": [
       "<IPython.core.display.HTML object>"
      ]
     },
     "metadata": {},
     "output_type": "display_data"
    },
    {
     "name": "stderr",
     "output_type": "stream",
     "text": [
      "\u001b[34m\u001b[1mwandb\u001b[0m: Agent Starting Run: iibjakg9 with config:\n",
      "\u001b[34m\u001b[1mwandb\u001b[0m: \tbatch_size: 229\n",
      "\u001b[34m\u001b[1mwandb\u001b[0m: \tepochs: 900\n",
      "\u001b[34m\u001b[1mwandb\u001b[0m: \teps_decay: 190\n",
      "\u001b[34m\u001b[1mwandb\u001b[0m: \tgamma: 0.7400558300329381\n",
      "\u001b[34m\u001b[1mwandb\u001b[0m: \tloss: huber\n",
      "\u001b[34m\u001b[1mwandb\u001b[0m: \tlr_decay: 127\n",
      "\u001b[34m\u001b[1mwandb\u001b[0m: \tmemory_size: 1025\n",
      "\u001b[34m\u001b[1mwandb\u001b[0m: \ttarget_update: 10\n"
     ]
    },
    {
     "data": {
      "text/html": [
       "wandb version 0.12.17 is available!  To upgrade, please run:\n",
       " $ pip install wandb --upgrade"
      ],
      "text/plain": [
       "<IPython.core.display.HTML object>"
      ]
     },
     "metadata": {},
     "output_type": "display_data"
    },
    {
     "data": {
      "text/html": [
       "Tracking run with wandb version 0.12.11"
      ],
      "text/plain": [
       "<IPython.core.display.HTML object>"
      ]
     },
     "metadata": {},
     "output_type": "display_data"
    },
    {
     "data": {
      "text/html": [
       "Run data is saved locally in <code>/Users/utilisateur/Epitech/T_AIA_902_msc2022_group-44/wandb/run-20220603_153609-iibjakg9</code>"
      ],
      "text/plain": [
       "<IPython.core.display.HTML object>"
      ]
     },
     "metadata": {},
     "output_type": "display_data"
    },
    {
     "data": {
      "text/html": [
       "Syncing run <strong><a href=\"https://wandb.ai/hugoallegaert/uncategorized/runs/iibjakg9\" target=\"_blank\">ancient-sweep-29</a></strong> to <a href=\"https://wandb.ai/hugoallegaert/uncategorized\" target=\"_blank\">Weights & Biases</a> (<a href=\"https://wandb.me/run\" target=\"_blank\">docs</a>)<br/>Sweep page:  <a href=\"https://wandb.ai/hugoallegaert/uncategorized/sweeps/vhfjmlpf\" target=\"_blank\">https://wandb.ai/hugoallegaert/uncategorized/sweeps/vhfjmlpf</a>"
      ],
      "text/plain": [
       "<IPython.core.display.HTML object>"
      ]
     },
     "metadata": {},
     "output_type": "display_data"
    },
    {
     "name": "stdout",
     "output_type": "stream",
     "text": [
      "Training episode: 1/900\n",
      "Episode 0\tAverage Score: -397.00\n",
      "Training episode: 101/900\n",
      "Episode 100\tAverage Score: -396.68\n",
      "Training episode: 201/900\n",
      "Episode 200\tAverage Score: -397.01\n",
      "Training episode: 301/900\n",
      "Episode 300\tAverage Score: -214.13\n",
      "Training episode: 401/900\n",
      "Episode 400\tAverage Score: -110.89\n",
      "Training episode: 501/900\n",
      "Episode 500\tAverage Score: -103.87\n",
      "Training episode: 601/900\n",
      "Episode 600\tAverage Score: -103.60\n",
      "Training episode: 701/900\n",
      "Episode 700\tAverage Score: -103.24\n",
      "Training episode: 801/900\n",
      "Episode 800\tAverage Score: -102.88\n",
      "Training episode: 900/900\n"
     ]
    },
    {
     "data": {
      "text/html": [
       "Waiting for W&B process to finish... <strong style=\"color:green\">(success).</strong>"
      ],
      "text/plain": [
       "<IPython.core.display.HTML object>"
      ]
     },
     "metadata": {},
     "output_type": "display_data"
    },
    {
     "data": {
      "application/vnd.jupyter.widget-view+json": {
       "model_id": "",
       "version_major": 2,
       "version_minor": 0
      },
      "text/plain": [
       "VBox(children=(Label(value='0.001 MB of 0.001 MB uploaded (0.000 MB deduped)\\r'), FloatProgress(value=1.0, max…"
      ]
     },
     "metadata": {},
     "output_type": "display_data"
    },
    {
     "data": {
      "text/html": [
       "<style>\n",
       "    table.wandb td:nth-child(1) { padding: 0 10px; text-align: right }\n",
       "    .wandb-row { display: flex; flex-direction: row; flex-wrap: wrap; width: 100% }\n",
       "    .wandb-col { display: flex; flex-direction: column; flex-basis: 100%; flex: 1; padding: 10px; }\n",
       "    </style>\n",
       "<div class=\"wandb-row\"><div class=\"wandb-col\"><h3>Run history:</h3><br/><table class=\"wandb\"><tr><td>reward</td><td>▁</td></tr></table><br/></div><div class=\"wandb-col\"><h3>Run summary:</h3><br/><table class=\"wandb\"><tr><td>reward</td><td>-103.51</td></tr></table><br/></div></div>"
      ],
      "text/plain": [
       "<IPython.core.display.HTML object>"
      ]
     },
     "metadata": {},
     "output_type": "display_data"
    },
    {
     "data": {
      "text/html": [
       "Synced <strong style=\"color:#cdcd00\">ancient-sweep-29</strong>: <a href=\"https://wandb.ai/hugoallegaert/uncategorized/runs/iibjakg9\" target=\"_blank\">https://wandb.ai/hugoallegaert/uncategorized/runs/iibjakg9</a><br/>Synced 5 W&B file(s), 0 media file(s), 0 artifact file(s) and 0 other file(s)"
      ],
      "text/plain": [
       "<IPython.core.display.HTML object>"
      ]
     },
     "metadata": {},
     "output_type": "display_data"
    },
    {
     "data": {
      "text/html": [
       "Find logs at: <code>./wandb/run-20220603_153609-iibjakg9/logs</code>"
      ],
      "text/plain": [
       "<IPython.core.display.HTML object>"
      ]
     },
     "metadata": {},
     "output_type": "display_data"
    },
    {
     "name": "stderr",
     "output_type": "stream",
     "text": [
      "\u001b[34m\u001b[1mwandb\u001b[0m: Agent Starting Run: 3yq26x7r with config:\n",
      "\u001b[34m\u001b[1mwandb\u001b[0m: \tbatch_size: 98\n",
      "\u001b[34m\u001b[1mwandb\u001b[0m: \tepochs: 900\n",
      "\u001b[34m\u001b[1mwandb\u001b[0m: \teps_decay: 314\n",
      "\u001b[34m\u001b[1mwandb\u001b[0m: \tgamma: 0.9576075009678694\n",
      "\u001b[34m\u001b[1mwandb\u001b[0m: \tloss: mse\n",
      "\u001b[34m\u001b[1mwandb\u001b[0m: \tlr_decay: 112\n",
      "\u001b[34m\u001b[1mwandb\u001b[0m: \tmemory_size: 2048\n",
      "\u001b[34m\u001b[1mwandb\u001b[0m: \ttarget_update: 30\n"
     ]
    },
    {
     "data": {
      "text/html": [
       "wandb version 0.12.17 is available!  To upgrade, please run:\n",
       " $ pip install wandb --upgrade"
      ],
      "text/plain": [
       "<IPython.core.display.HTML object>"
      ]
     },
     "metadata": {},
     "output_type": "display_data"
    },
    {
     "data": {
      "text/html": [
       "Tracking run with wandb version 0.12.11"
      ],
      "text/plain": [
       "<IPython.core.display.HTML object>"
      ]
     },
     "metadata": {},
     "output_type": "display_data"
    },
    {
     "data": {
      "text/html": [
       "Run data is saved locally in <code>/Users/utilisateur/Epitech/T_AIA_902_msc2022_group-44/wandb/run-20220603_153912-3yq26x7r</code>"
      ],
      "text/plain": [
       "<IPython.core.display.HTML object>"
      ]
     },
     "metadata": {},
     "output_type": "display_data"
    },
    {
     "data": {
      "text/html": [
       "Syncing run <strong><a href=\"https://wandb.ai/hugoallegaert/uncategorized/runs/3yq26x7r\" target=\"_blank\">stoic-sweep-30</a></strong> to <a href=\"https://wandb.ai/hugoallegaert/uncategorized\" target=\"_blank\">Weights & Biases</a> (<a href=\"https://wandb.me/run\" target=\"_blank\">docs</a>)<br/>Sweep page:  <a href=\"https://wandb.ai/hugoallegaert/uncategorized/sweeps/vhfjmlpf\" target=\"_blank\">https://wandb.ai/hugoallegaert/uncategorized/sweeps/vhfjmlpf</a>"
      ],
      "text/plain": [
       "<IPython.core.display.HTML object>"
      ]
     },
     "metadata": {},
     "output_type": "display_data"
    },
    {
     "name": "stdout",
     "output_type": "stream",
     "text": [
      "Training episode: 1/900\n",
      "Episode 0\tAverage Score: -397.00\n",
      "Training episode: 101/900\n",
      "Episode 100\tAverage Score: -390.87\n",
      "Training episode: 201/900\n",
      "Episode 200\tAverage Score: -389.55\n",
      "Training episode: 301/900\n",
      "Episode 300\tAverage Score: -251.97\n",
      "Training episode: 401/900\n",
      "Episode 400\tAverage Score: -132.13\n",
      "Training episode: 501/900\n",
      "Episode 500\tAverage Score: -108.91\n",
      "Training episode: 601/900\n",
      "Episode 600\tAverage Score: -104.05\n",
      "Training episode: 701/900\n",
      "Episode 700\tAverage Score: -102.43\n",
      "Training episode: 801/900\n",
      "Episode 800\tAverage Score: -102.70\n",
      "Training episode: 900/900\n"
     ]
    },
    {
     "data": {
      "text/html": [
       "Waiting for W&B process to finish... <strong style=\"color:green\">(success).</strong>"
      ],
      "text/plain": [
       "<IPython.core.display.HTML object>"
      ]
     },
     "metadata": {},
     "output_type": "display_data"
    },
    {
     "data": {
      "application/vnd.jupyter.widget-view+json": {
       "model_id": "",
       "version_major": 2,
       "version_minor": 0
      },
      "text/plain": [
       "VBox(children=(Label(value='0.001 MB of 0.001 MB uploaded (0.000 MB deduped)\\r'), FloatProgress(value=1.0, max…"
      ]
     },
     "metadata": {},
     "output_type": "display_data"
    },
    {
     "data": {
      "text/html": [
       "<style>\n",
       "    table.wandb td:nth-child(1) { padding: 0 10px; text-align: right }\n",
       "    .wandb-row { display: flex; flex-direction: row; flex-wrap: wrap; width: 100% }\n",
       "    .wandb-col { display: flex; flex-direction: column; flex-basis: 100%; flex: 1; padding: 10px; }\n",
       "    </style>\n",
       "<div class=\"wandb-row\"><div class=\"wandb-col\"><h3>Run history:</h3><br/><table class=\"wandb\"><tr><td>reward</td><td>▁</td></tr></table><br/></div><div class=\"wandb-col\"><h3>Run summary:</h3><br/><table class=\"wandb\"><tr><td>reward</td><td>-102.34</td></tr></table><br/></div></div>"
      ],
      "text/plain": [
       "<IPython.core.display.HTML object>"
      ]
     },
     "metadata": {},
     "output_type": "display_data"
    },
    {
     "data": {
      "text/html": [
       "Synced <strong style=\"color:#cdcd00\">stoic-sweep-30</strong>: <a href=\"https://wandb.ai/hugoallegaert/uncategorized/runs/3yq26x7r\" target=\"_blank\">https://wandb.ai/hugoallegaert/uncategorized/runs/3yq26x7r</a><br/>Synced 5 W&B file(s), 0 media file(s), 0 artifact file(s) and 0 other file(s)"
      ],
      "text/plain": [
       "<IPython.core.display.HTML object>"
      ]
     },
     "metadata": {},
     "output_type": "display_data"
    },
    {
     "data": {
      "text/html": [
       "Find logs at: <code>./wandb/run-20220603_153912-3yq26x7r/logs</code>"
      ],
      "text/plain": [
       "<IPython.core.display.HTML object>"
      ]
     },
     "metadata": {},
     "output_type": "display_data"
    },
    {
     "name": "stderr",
     "output_type": "stream",
     "text": [
      "\u001b[34m\u001b[1mwandb\u001b[0m: Agent Starting Run: 1xr87scz with config:\n",
      "\u001b[34m\u001b[1mwandb\u001b[0m: \tbatch_size: 64\n",
      "\u001b[34m\u001b[1mwandb\u001b[0m: \tepochs: 900\n",
      "\u001b[34m\u001b[1mwandb\u001b[0m: \teps_decay: 323\n",
      "\u001b[34m\u001b[1mwandb\u001b[0m: \tgamma: 0.06388981031779906\n",
      "\u001b[34m\u001b[1mwandb\u001b[0m: \tloss: mae\n",
      "\u001b[34m\u001b[1mwandb\u001b[0m: \tlr_decay: 32\n",
      "\u001b[34m\u001b[1mwandb\u001b[0m: \tmemory_size: 40000\n",
      "\u001b[34m\u001b[1mwandb\u001b[0m: \ttarget_update: 1\n"
     ]
    },
    {
     "data": {
      "text/html": [
       "wandb version 0.12.17 is available!  To upgrade, please run:\n",
       " $ pip install wandb --upgrade"
      ],
      "text/plain": [
       "<IPython.core.display.HTML object>"
      ]
     },
     "metadata": {},
     "output_type": "display_data"
    },
    {
     "data": {
      "text/html": [
       "Tracking run with wandb version 0.12.11"
      ],
      "text/plain": [
       "<IPython.core.display.HTML object>"
      ]
     },
     "metadata": {},
     "output_type": "display_data"
    },
    {
     "data": {
      "text/html": [
       "Run data is saved locally in <code>/Users/utilisateur/Epitech/T_AIA_902_msc2022_group-44/wandb/run-20220603_154137-1xr87scz</code>"
      ],
      "text/plain": [
       "<IPython.core.display.HTML object>"
      ]
     },
     "metadata": {},
     "output_type": "display_data"
    },
    {
     "data": {
      "text/html": [
       "Syncing run <strong><a href=\"https://wandb.ai/hugoallegaert/uncategorized/runs/1xr87scz\" target=\"_blank\">driven-sweep-31</a></strong> to <a href=\"https://wandb.ai/hugoallegaert/uncategorized\" target=\"_blank\">Weights & Biases</a> (<a href=\"https://wandb.me/run\" target=\"_blank\">docs</a>)<br/>Sweep page:  <a href=\"https://wandb.ai/hugoallegaert/uncategorized/sweeps/vhfjmlpf\" target=\"_blank\">https://wandb.ai/hugoallegaert/uncategorized/sweeps/vhfjmlpf</a>"
      ],
      "text/plain": [
       "<IPython.core.display.HTML object>"
      ]
     },
     "metadata": {},
     "output_type": "display_data"
    },
    {
     "name": "stdout",
     "output_type": "stream",
     "text": [
      "Training episode: 1/900\n",
      "Episode 0\tAverage Score: -406.00\n",
      "Training episode: 101/900\n",
      "Episode 100\tAverage Score: -386.32\n",
      "Training episode: 201/900\n",
      "Episode 200\tAverage Score: -391.39\n",
      "Training episode: 301/900\n",
      "Episode 300\tAverage Score: -254.73\n",
      "Training episode: 401/900\n",
      "Episode 400\tAverage Score: -137.88\n",
      "Training episode: 501/900\n",
      "Episode 500\tAverage Score: -111.45\n",
      "Training episode: 601/900\n",
      "Episode 600\tAverage Score: -103.02\n",
      "Training episode: 701/900\n",
      "Episode 700\tAverage Score: -101.58\n",
      "Training episode: 801/900\n",
      "Episode 800\tAverage Score: -101.55\n",
      "Training episode: 900/900\n"
     ]
    },
    {
     "data": {
      "text/html": [
       "Waiting for W&B process to finish... <strong style=\"color:green\">(success).</strong>"
      ],
      "text/plain": [
       "<IPython.core.display.HTML object>"
      ]
     },
     "metadata": {},
     "output_type": "display_data"
    },
    {
     "data": {
      "application/vnd.jupyter.widget-view+json": {
       "model_id": "",
       "version_major": 2,
       "version_minor": 0
      },
      "text/plain": [
       "VBox(children=(Label(value='0.001 MB of 0.001 MB uploaded (0.000 MB deduped)\\r'), FloatProgress(value=1.0, max…"
      ]
     },
     "metadata": {},
     "output_type": "display_data"
    },
    {
     "data": {
      "text/html": [
       "<style>\n",
       "    table.wandb td:nth-child(1) { padding: 0 10px; text-align: right }\n",
       "    .wandb-row { display: flex; flex-direction: row; flex-wrap: wrap; width: 100% }\n",
       "    .wandb-col { display: flex; flex-direction: column; flex-basis: 100%; flex: 1; padding: 10px; }\n",
       "    </style>\n",
       "<div class=\"wandb-row\"><div class=\"wandb-col\"><h3>Run history:</h3><br/><table class=\"wandb\"><tr><td>reward</td><td>▁</td></tr></table><br/></div><div class=\"wandb-col\"><h3>Run summary:</h3><br/><table class=\"wandb\"><tr><td>reward</td><td>-101.42</td></tr></table><br/></div></div>"
      ],
      "text/plain": [
       "<IPython.core.display.HTML object>"
      ]
     },
     "metadata": {},
     "output_type": "display_data"
    },
    {
     "data": {
      "text/html": [
       "Synced <strong style=\"color:#cdcd00\">driven-sweep-31</strong>: <a href=\"https://wandb.ai/hugoallegaert/uncategorized/runs/1xr87scz\" target=\"_blank\">https://wandb.ai/hugoallegaert/uncategorized/runs/1xr87scz</a><br/>Synced 5 W&B file(s), 0 media file(s), 0 artifact file(s) and 0 other file(s)"
      ],
      "text/plain": [
       "<IPython.core.display.HTML object>"
      ]
     },
     "metadata": {},
     "output_type": "display_data"
    },
    {
     "data": {
      "text/html": [
       "Find logs at: <code>./wandb/run-20220603_154137-1xr87scz/logs</code>"
      ],
      "text/plain": [
       "<IPython.core.display.HTML object>"
      ]
     },
     "metadata": {},
     "output_type": "display_data"
    },
    {
     "name": "stderr",
     "output_type": "stream",
     "text": [
      "\u001b[34m\u001b[1mwandb\u001b[0m: Agent Starting Run: h9mhy1vb with config:\n",
      "\u001b[34m\u001b[1mwandb\u001b[0m: \tbatch_size: 355\n",
      "\u001b[34m\u001b[1mwandb\u001b[0m: \tepochs: 900\n",
      "\u001b[34m\u001b[1mwandb\u001b[0m: \teps_decay: 127\n",
      "\u001b[34m\u001b[1mwandb\u001b[0m: \tgamma: 0.18519524129977377\n",
      "\u001b[34m\u001b[1mwandb\u001b[0m: \tloss: huber\n",
      "\u001b[34m\u001b[1mwandb\u001b[0m: \tlr_decay: 44\n",
      "\u001b[34m\u001b[1mwandb\u001b[0m: \tmemory_size: 10000\n",
      "\u001b[34m\u001b[1mwandb\u001b[0m: \ttarget_update: 49\n"
     ]
    },
    {
     "data": {
      "text/html": [
       "wandb version 0.12.17 is available!  To upgrade, please run:\n",
       " $ pip install wandb --upgrade"
      ],
      "text/plain": [
       "<IPython.core.display.HTML object>"
      ]
     },
     "metadata": {},
     "output_type": "display_data"
    },
    {
     "data": {
      "text/html": [
       "Tracking run with wandb version 0.12.11"
      ],
      "text/plain": [
       "<IPython.core.display.HTML object>"
      ]
     },
     "metadata": {},
     "output_type": "display_data"
    },
    {
     "data": {
      "text/html": [
       "Run data is saved locally in <code>/Users/utilisateur/Epitech/T_AIA_902_msc2022_group-44/wandb/run-20220603_154439-h9mhy1vb</code>"
      ],
      "text/plain": [
       "<IPython.core.display.HTML object>"
      ]
     },
     "metadata": {},
     "output_type": "display_data"
    },
    {
     "data": {
      "text/html": [
       "Syncing run <strong><a href=\"https://wandb.ai/hugoallegaert/uncategorized/runs/h9mhy1vb\" target=\"_blank\">driven-sweep-32</a></strong> to <a href=\"https://wandb.ai/hugoallegaert/uncategorized\" target=\"_blank\">Weights & Biases</a> (<a href=\"https://wandb.me/run\" target=\"_blank\">docs</a>)<br/>Sweep page:  <a href=\"https://wandb.ai/hugoallegaert/uncategorized/sweeps/vhfjmlpf\" target=\"_blank\">https://wandb.ai/hugoallegaert/uncategorized/sweeps/vhfjmlpf</a>"
      ],
      "text/plain": [
       "<IPython.core.display.HTML object>"
      ]
     },
     "metadata": {},
     "output_type": "display_data"
    },
    {
     "name": "stdout",
     "output_type": "stream",
     "text": [
      "Training episode: 1/900\n",
      "Episode 0\tAverage Score: -361.00\n",
      "Training episode: 101/900\n",
      "Episode 100\tAverage Score: -381.09\n",
      "Training episode: 201/900\n",
      "Episode 200\tAverage Score: -389.17\n",
      "Training episode: 301/900\n",
      "Episode 300\tAverage Score: -171.37\n",
      "Training episode: 401/900\n",
      "Episode 400\tAverage Score: -104.32\n",
      "Training episode: 501/900\n",
      "Episode 500\tAverage Score: -102.97\n",
      "Training episode: 601/900\n",
      "Episode 600\tAverage Score: -103.06\n",
      "Training episode: 701/900\n",
      "Episode 700\tAverage Score: -102.88\n",
      "Training episode: 801/900\n",
      "Episode 800\tAverage Score: -102.61\n",
      "Training episode: 900/900\n"
     ]
    },
    {
     "data": {
      "text/html": [
       "Waiting for W&B process to finish... <strong style=\"color:green\">(success).</strong>"
      ],
      "text/plain": [
       "<IPython.core.display.HTML object>"
      ]
     },
     "metadata": {},
     "output_type": "display_data"
    },
    {
     "data": {
      "application/vnd.jupyter.widget-view+json": {
       "model_id": "",
       "version_major": 2,
       "version_minor": 0
      },
      "text/plain": [
       "VBox(children=(Label(value='0.001 MB of 0.001 MB uploaded (0.000 MB deduped)\\r'), FloatProgress(value=1.0, max…"
      ]
     },
     "metadata": {},
     "output_type": "display_data"
    },
    {
     "data": {
      "text/html": [
       "<style>\n",
       "    table.wandb td:nth-child(1) { padding: 0 10px; text-align: right }\n",
       "    .wandb-row { display: flex; flex-direction: row; flex-wrap: wrap; width: 100% }\n",
       "    .wandb-col { display: flex; flex-direction: column; flex-basis: 100%; flex: 1; padding: 10px; }\n",
       "    </style>\n",
       "<div class=\"wandb-row\"><div class=\"wandb-col\"><h3>Run history:</h3><br/><table class=\"wandb\"><tr><td>reward</td><td>▁</td></tr></table><br/></div><div class=\"wandb-col\"><h3>Run summary:</h3><br/><table class=\"wandb\"><tr><td>reward</td><td>-102.97</td></tr></table><br/></div></div>"
      ],
      "text/plain": [
       "<IPython.core.display.HTML object>"
      ]
     },
     "metadata": {},
     "output_type": "display_data"
    },
    {
     "data": {
      "text/html": [
       "Synced <strong style=\"color:#cdcd00\">driven-sweep-32</strong>: <a href=\"https://wandb.ai/hugoallegaert/uncategorized/runs/h9mhy1vb\" target=\"_blank\">https://wandb.ai/hugoallegaert/uncategorized/runs/h9mhy1vb</a><br/>Synced 5 W&B file(s), 0 media file(s), 0 artifact file(s) and 0 other file(s)"
      ],
      "text/plain": [
       "<IPython.core.display.HTML object>"
      ]
     },
     "metadata": {},
     "output_type": "display_data"
    },
    {
     "data": {
      "text/html": [
       "Find logs at: <code>./wandb/run-20220603_154439-h9mhy1vb/logs</code>"
      ],
      "text/plain": [
       "<IPython.core.display.HTML object>"
      ]
     },
     "metadata": {},
     "output_type": "display_data"
    },
    {
     "name": "stderr",
     "output_type": "stream",
     "text": [
      "\u001b[34m\u001b[1mwandb\u001b[0m: Agent Starting Run: y6093v0q with config:\n",
      "\u001b[34m\u001b[1mwandb\u001b[0m: \tbatch_size: 52\n",
      "\u001b[34m\u001b[1mwandb\u001b[0m: \tepochs: 900\n",
      "\u001b[34m\u001b[1mwandb\u001b[0m: \teps_decay: 300\n",
      "\u001b[34m\u001b[1mwandb\u001b[0m: \tgamma: 0.020481896252430156\n",
      "\u001b[34m\u001b[1mwandb\u001b[0m: \tloss: huber\n",
      "\u001b[34m\u001b[1mwandb\u001b[0m: \tlr_decay: 338\n",
      "\u001b[34m\u001b[1mwandb\u001b[0m: \tmemory_size: 60000\n",
      "\u001b[34m\u001b[1mwandb\u001b[0m: \ttarget_update: 19\n"
     ]
    },
    {
     "data": {
      "text/html": [
       "wandb version 0.12.17 is available!  To upgrade, please run:\n",
       " $ pip install wandb --upgrade"
      ],
      "text/plain": [
       "<IPython.core.display.HTML object>"
      ]
     },
     "metadata": {},
     "output_type": "display_data"
    },
    {
     "data": {
      "text/html": [
       "Tracking run with wandb version 0.12.11"
      ],
      "text/plain": [
       "<IPython.core.display.HTML object>"
      ]
     },
     "metadata": {},
     "output_type": "display_data"
    },
    {
     "data": {
      "text/html": [
       "Run data is saved locally in <code>/Users/utilisateur/Epitech/T_AIA_902_msc2022_group-44/wandb/run-20220603_154907-y6093v0q</code>"
      ],
      "text/plain": [
       "<IPython.core.display.HTML object>"
      ]
     },
     "metadata": {},
     "output_type": "display_data"
    },
    {
     "data": {
      "text/html": [
       "Syncing run <strong><a href=\"https://wandb.ai/hugoallegaert/uncategorized/runs/y6093v0q\" target=\"_blank\">revived-sweep-33</a></strong> to <a href=\"https://wandb.ai/hugoallegaert/uncategorized\" target=\"_blank\">Weights & Biases</a> (<a href=\"https://wandb.me/run\" target=\"_blank\">docs</a>)<br/>Sweep page:  <a href=\"https://wandb.ai/hugoallegaert/uncategorized/sweeps/vhfjmlpf\" target=\"_blank\">https://wandb.ai/hugoallegaert/uncategorized/sweeps/vhfjmlpf</a>"
      ],
      "text/plain": [
       "<IPython.core.display.HTML object>"
      ]
     },
     "metadata": {},
     "output_type": "display_data"
    },
    {
     "name": "stdout",
     "output_type": "stream",
     "text": [
      "Training episode: 1/900\n",
      "Episode 0\tAverage Score: -397.00\n",
      "Training episode: 101/900\n",
      "Episode 100\tAverage Score: -396.82\n",
      "Training episode: 201/900\n",
      "Episode 200\tAverage Score: -386.03\n",
      "Training episode: 301/900\n",
      "Episode 300\tAverage Score: -243.10\n",
      "Training episode: 401/900\n",
      "Episode 400\tAverage Score: -131.21\n",
      "Training episode: 501/900\n",
      "Episode 500\tAverage Score: -108.96\n",
      "Training episode: 601/900\n",
      "Episode 600\tAverage Score: -104.59\n",
      "Training episode: 701/900\n",
      "Episode 700\tAverage Score: -101.88\n",
      "Training episode: 801/900\n",
      "Episode 800\tAverage Score: -102.93\n",
      "Training episode: 900/900\n"
     ]
    },
    {
     "data": {
      "text/html": [
       "Waiting for W&B process to finish... <strong style=\"color:green\">(success).</strong>"
      ],
      "text/plain": [
       "<IPython.core.display.HTML object>"
      ]
     },
     "metadata": {},
     "output_type": "display_data"
    },
    {
     "data": {
      "application/vnd.jupyter.widget-view+json": {
       "model_id": "",
       "version_major": 2,
       "version_minor": 0
      },
      "text/plain": [
       "VBox(children=(Label(value='0.001 MB of 0.001 MB uploaded (0.000 MB deduped)\\r'), FloatProgress(value=1.0, max…"
      ]
     },
     "metadata": {},
     "output_type": "display_data"
    },
    {
     "data": {
      "text/html": [
       "<style>\n",
       "    table.wandb td:nth-child(1) { padding: 0 10px; text-align: right }\n",
       "    .wandb-row { display: flex; flex-direction: row; flex-wrap: wrap; width: 100% }\n",
       "    .wandb-col { display: flex; flex-direction: column; flex-basis: 100%; flex: 1; padding: 10px; }\n",
       "    </style>\n",
       "<div class=\"wandb-row\"><div class=\"wandb-col\"><h3>Run history:</h3><br/><table class=\"wandb\"><tr><td>reward</td><td>▁</td></tr></table><br/></div><div class=\"wandb-col\"><h3>Run summary:</h3><br/><table class=\"wandb\"><tr><td>reward</td><td>-102.43</td></tr></table><br/></div></div>"
      ],
      "text/plain": [
       "<IPython.core.display.HTML object>"
      ]
     },
     "metadata": {},
     "output_type": "display_data"
    },
    {
     "data": {
      "text/html": [
       "Synced <strong style=\"color:#cdcd00\">revived-sweep-33</strong>: <a href=\"https://wandb.ai/hugoallegaert/uncategorized/runs/y6093v0q\" target=\"_blank\">https://wandb.ai/hugoallegaert/uncategorized/runs/y6093v0q</a><br/>Synced 5 W&B file(s), 0 media file(s), 0 artifact file(s) and 0 other file(s)"
      ],
      "text/plain": [
       "<IPython.core.display.HTML object>"
      ]
     },
     "metadata": {},
     "output_type": "display_data"
    },
    {
     "data": {
      "text/html": [
       "Find logs at: <code>./wandb/run-20220603_154907-y6093v0q/logs</code>"
      ],
      "text/plain": [
       "<IPython.core.display.HTML object>"
      ]
     },
     "metadata": {},
     "output_type": "display_data"
    },
    {
     "name": "stderr",
     "output_type": "stream",
     "text": [
      "\u001b[34m\u001b[1mwandb\u001b[0m: Agent Starting Run: 6s4yxiz0 with config:\n",
      "\u001b[34m\u001b[1mwandb\u001b[0m: \tbatch_size: 232\n",
      "\u001b[34m\u001b[1mwandb\u001b[0m: \tepochs: 900\n",
      "\u001b[34m\u001b[1mwandb\u001b[0m: \teps_decay: 296\n",
      "\u001b[34m\u001b[1mwandb\u001b[0m: \tgamma: 0.6684150339615155\n",
      "\u001b[34m\u001b[1mwandb\u001b[0m: \tloss: mae\n",
      "\u001b[34m\u001b[1mwandb\u001b[0m: \tlr_decay: 23\n",
      "\u001b[34m\u001b[1mwandb\u001b[0m: \tmemory_size: 512\n",
      "\u001b[34m\u001b[1mwandb\u001b[0m: \ttarget_update: 3\n"
     ]
    },
    {
     "data": {
      "text/html": [
       "wandb version 0.12.17 is available!  To upgrade, please run:\n",
       " $ pip install wandb --upgrade"
      ],
      "text/plain": [
       "<IPython.core.display.HTML object>"
      ]
     },
     "metadata": {},
     "output_type": "display_data"
    },
    {
     "data": {
      "text/html": [
       "Tracking run with wandb version 0.12.11"
      ],
      "text/plain": [
       "<IPython.core.display.HTML object>"
      ]
     },
     "metadata": {},
     "output_type": "display_data"
    },
    {
     "data": {
      "text/html": [
       "Run data is saved locally in <code>/Users/utilisateur/Epitech/T_AIA_902_msc2022_group-44/wandb/run-20220603_155335-6s4yxiz0</code>"
      ],
      "text/plain": [
       "<IPython.core.display.HTML object>"
      ]
     },
     "metadata": {},
     "output_type": "display_data"
    },
    {
     "data": {
      "text/html": [
       "Syncing run <strong><a href=\"https://wandb.ai/hugoallegaert/uncategorized/runs/6s4yxiz0\" target=\"_blank\">jumping-sweep-34</a></strong> to <a href=\"https://wandb.ai/hugoallegaert/uncategorized\" target=\"_blank\">Weights & Biases</a> (<a href=\"https://wandb.me/run\" target=\"_blank\">docs</a>)<br/>Sweep page:  <a href=\"https://wandb.ai/hugoallegaert/uncategorized/sweeps/vhfjmlpf\" target=\"_blank\">https://wandb.ai/hugoallegaert/uncategorized/sweeps/vhfjmlpf</a>"
      ],
      "text/plain": [
       "<IPython.core.display.HTML object>"
      ]
     },
     "metadata": {},
     "output_type": "display_data"
    },
    {
     "name": "stdout",
     "output_type": "stream",
     "text": [
      "Training episode: 1/900\n",
      "Episode 0\tAverage Score: -469.00\n",
      "Training episode: 101/900\n",
      "Episode 100\tAverage Score: -391.44\n",
      "Training episode: 201/900\n",
      "Episode 200\tAverage Score: -390.30\n",
      "Training episode: 301/900\n",
      "Episode 300\tAverage Score: -242.98\n",
      "Training episode: 401/900\n",
      "Episode 400\tAverage Score: -133.21\n",
      "Training episode: 501/900\n",
      "Episode 500\tAverage Score: -110.17\n",
      "Training episode: 601/900\n",
      "Episode 600\tAverage Score: -104.23\n",
      "Training episode: 701/900\n",
      "Episode 700\tAverage Score: -102.52\n",
      "Training episode: 801/900\n",
      "Episode 800\tAverage Score: -103.42\n",
      "Training episode: 900/900\n"
     ]
    },
    {
     "data": {
      "text/html": [
       "Waiting for W&B process to finish... <strong style=\"color:green\">(success).</strong>"
      ],
      "text/plain": [
       "<IPython.core.display.HTML object>"
      ]
     },
     "metadata": {},
     "output_type": "display_data"
    },
    {
     "data": {
      "application/vnd.jupyter.widget-view+json": {
       "model_id": "",
       "version_major": 2,
       "version_minor": 0
      },
      "text/plain": [
       "VBox(children=(Label(value='0.001 MB of 0.001 MB uploaded (0.000 MB deduped)\\r'), FloatProgress(value=1.0, max…"
      ]
     },
     "metadata": {},
     "output_type": "display_data"
    },
    {
     "data": {
      "text/html": [
       "<style>\n",
       "    table.wandb td:nth-child(1) { padding: 0 10px; text-align: right }\n",
       "    .wandb-row { display: flex; flex-direction: row; flex-wrap: wrap; width: 100% }\n",
       "    .wandb-col { display: flex; flex-direction: column; flex-basis: 100%; flex: 1; padding: 10px; }\n",
       "    </style>\n",
       "<div class=\"wandb-row\"><div class=\"wandb-col\"><h3>Run history:</h3><br/><table class=\"wandb\"><tr><td>reward</td><td>▁</td></tr></table><br/></div><div class=\"wandb-col\"><h3>Run summary:</h3><br/><table class=\"wandb\"><tr><td>reward</td><td>-103.51</td></tr></table><br/></div></div>"
      ],
      "text/plain": [
       "<IPython.core.display.HTML object>"
      ]
     },
     "metadata": {},
     "output_type": "display_data"
    },
    {
     "data": {
      "text/html": [
       "Synced <strong style=\"color:#cdcd00\">jumping-sweep-34</strong>: <a href=\"https://wandb.ai/hugoallegaert/uncategorized/runs/6s4yxiz0\" target=\"_blank\">https://wandb.ai/hugoallegaert/uncategorized/runs/6s4yxiz0</a><br/>Synced 5 W&B file(s), 0 media file(s), 0 artifact file(s) and 0 other file(s)"
      ],
      "text/plain": [
       "<IPython.core.display.HTML object>"
      ]
     },
     "metadata": {},
     "output_type": "display_data"
    },
    {
     "data": {
      "text/html": [
       "Find logs at: <code>./wandb/run-20220603_155335-6s4yxiz0/logs</code>"
      ],
      "text/plain": [
       "<IPython.core.display.HTML object>"
      ]
     },
     "metadata": {},
     "output_type": "display_data"
    },
    {
     "name": "stderr",
     "output_type": "stream",
     "text": [
      "\u001b[34m\u001b[1mwandb\u001b[0m: Sweep Agent: Waiting for job.\n",
      "\u001b[34m\u001b[1mwandb\u001b[0m: Job received.\n",
      "\u001b[34m\u001b[1mwandb\u001b[0m: Agent Starting Run: 8h0gy4zs with config:\n",
      "\u001b[34m\u001b[1mwandb\u001b[0m: \tbatch_size: 415\n",
      "\u001b[34m\u001b[1mwandb\u001b[0m: \tepochs: 900\n",
      "\u001b[34m\u001b[1mwandb\u001b[0m: \teps_decay: 243\n",
      "\u001b[34m\u001b[1mwandb\u001b[0m: \tgamma: 0.47384881652527666\n",
      "\u001b[34m\u001b[1mwandb\u001b[0m: \tloss: mae\n",
      "\u001b[34m\u001b[1mwandb\u001b[0m: \tlr_decay: 197\n",
      "\u001b[34m\u001b[1mwandb\u001b[0m: \tmemory_size: 2048\n",
      "\u001b[34m\u001b[1mwandb\u001b[0m: \ttarget_update: 47\n"
     ]
    },
    {
     "data": {
      "text/html": [
       "wandb version 0.12.17 is available!  To upgrade, please run:\n",
       " $ pip install wandb --upgrade"
      ],
      "text/plain": [
       "<IPython.core.display.HTML object>"
      ]
     },
     "metadata": {},
     "output_type": "display_data"
    },
    {
     "data": {
      "text/html": [
       "Tracking run with wandb version 0.12.11"
      ],
      "text/plain": [
       "<IPython.core.display.HTML object>"
      ]
     },
     "metadata": {},
     "output_type": "display_data"
    },
    {
     "data": {
      "text/html": [
       "Run data is saved locally in <code>/Users/utilisateur/Epitech/T_AIA_902_msc2022_group-44/wandb/run-20220603_155718-8h0gy4zs</code>"
      ],
      "text/plain": [
       "<IPython.core.display.HTML object>"
      ]
     },
     "metadata": {},
     "output_type": "display_data"
    },
    {
     "data": {
      "text/html": [
       "Syncing run <strong><a href=\"https://wandb.ai/hugoallegaert/uncategorized/runs/8h0gy4zs\" target=\"_blank\">sleek-sweep-35</a></strong> to <a href=\"https://wandb.ai/hugoallegaert/uncategorized\" target=\"_blank\">Weights & Biases</a> (<a href=\"https://wandb.me/run\" target=\"_blank\">docs</a>)<br/>Sweep page:  <a href=\"https://wandb.ai/hugoallegaert/uncategorized/sweeps/vhfjmlpf\" target=\"_blank\">https://wandb.ai/hugoallegaert/uncategorized/sweeps/vhfjmlpf</a>"
      ],
      "text/plain": [
       "<IPython.core.display.HTML object>"
      ]
     },
     "metadata": {},
     "output_type": "display_data"
    },
    {
     "name": "stdout",
     "output_type": "stream",
     "text": [
      "Training episode: 1/900\n",
      "Episode 0\tAverage Score: -298.00\n",
      "Training episode: 101/900\n",
      "Episode 100\tAverage Score: -394.52\n",
      "Training episode: 201/900\n",
      "Episode 200\tAverage Score: -399.63\n",
      "Training episode: 301/900\n",
      "Episode 300\tAverage Score: -229.27\n",
      "Training episode: 401/900\n",
      "Episode 400\tAverage Score: -122.05\n",
      "Training episode: 501/900\n",
      "Episode 500\tAverage Score: -106.39\n",
      "Training episode: 601/900\n",
      "Episode 600\tAverage Score: -103.60\n",
      "Training episode: 701/900\n",
      "Episode 700\tAverage Score: -102.52\n",
      "Training episode: 801/900\n",
      "Episode 800\tAverage Score: -103.24\n",
      "Training episode: 900/900\n"
     ]
    },
    {
     "data": {
      "text/html": [
       "Waiting for W&B process to finish... <strong style=\"color:green\">(success).</strong>"
      ],
      "text/plain": [
       "<IPython.core.display.HTML object>"
      ]
     },
     "metadata": {},
     "output_type": "display_data"
    },
    {
     "data": {
      "application/vnd.jupyter.widget-view+json": {
       "model_id": "",
       "version_major": 2,
       "version_minor": 0
      },
      "text/plain": [
       "VBox(children=(Label(value='0.001 MB of 0.001 MB uploaded (0.000 MB deduped)\\r'), FloatProgress(value=1.0, max…"
      ]
     },
     "metadata": {},
     "output_type": "display_data"
    },
    {
     "data": {
      "text/html": [
       "<style>\n",
       "    table.wandb td:nth-child(1) { padding: 0 10px; text-align: right }\n",
       "    .wandb-row { display: flex; flex-direction: row; flex-wrap: wrap; width: 100% }\n",
       "    .wandb-col { display: flex; flex-direction: column; flex-basis: 100%; flex: 1; padding: 10px; }\n",
       "    </style>\n",
       "<div class=\"wandb-row\"><div class=\"wandb-col\"><h3>Run history:</h3><br/><table class=\"wandb\"><tr><td>reward</td><td>▁</td></tr></table><br/></div><div class=\"wandb-col\"><h3>Run summary:</h3><br/><table class=\"wandb\"><tr><td>reward</td><td>-102.61</td></tr></table><br/></div></div>"
      ],
      "text/plain": [
       "<IPython.core.display.HTML object>"
      ]
     },
     "metadata": {},
     "output_type": "display_data"
    },
    {
     "data": {
      "text/html": [
       "Synced <strong style=\"color:#cdcd00\">sleek-sweep-35</strong>: <a href=\"https://wandb.ai/hugoallegaert/uncategorized/runs/8h0gy4zs\" target=\"_blank\">https://wandb.ai/hugoallegaert/uncategorized/runs/8h0gy4zs</a><br/>Synced 5 W&B file(s), 0 media file(s), 0 artifact file(s) and 0 other file(s)"
      ],
      "text/plain": [
       "<IPython.core.display.HTML object>"
      ]
     },
     "metadata": {},
     "output_type": "display_data"
    },
    {
     "data": {
      "text/html": [
       "Find logs at: <code>./wandb/run-20220603_155718-8h0gy4zs/logs</code>"
      ],
      "text/plain": [
       "<IPython.core.display.HTML object>"
      ]
     },
     "metadata": {},
     "output_type": "display_data"
    },
    {
     "name": "stderr",
     "output_type": "stream",
     "text": [
      "\u001b[34m\u001b[1mwandb\u001b[0m: Agent Starting Run: 8sk49pxc with config:\n",
      "\u001b[34m\u001b[1mwandb\u001b[0m: \tbatch_size: 225\n",
      "\u001b[34m\u001b[1mwandb\u001b[0m: \tepochs: 900\n",
      "\u001b[34m\u001b[1mwandb\u001b[0m: \teps_decay: 221\n",
      "\u001b[34m\u001b[1mwandb\u001b[0m: \tgamma: 0.4895963794957548\n",
      "\u001b[34m\u001b[1mwandb\u001b[0m: \tloss: huber\n",
      "\u001b[34m\u001b[1mwandb\u001b[0m: \tlr_decay: 301\n",
      "\u001b[34m\u001b[1mwandb\u001b[0m: \tmemory_size: 2048\n",
      "\u001b[34m\u001b[1mwandb\u001b[0m: \ttarget_update: 30\n"
     ]
    },
    {
     "data": {
      "text/html": [
       "wandb version 0.12.17 is available!  To upgrade, please run:\n",
       " $ pip install wandb --upgrade"
      ],
      "text/plain": [
       "<IPython.core.display.HTML object>"
      ]
     },
     "metadata": {},
     "output_type": "display_data"
    },
    {
     "data": {
      "text/html": [
       "Tracking run with wandb version 0.12.11"
      ],
      "text/plain": [
       "<IPython.core.display.HTML object>"
      ]
     },
     "metadata": {},
     "output_type": "display_data"
    },
    {
     "data": {
      "text/html": [
       "Run data is saved locally in <code>/Users/utilisateur/Epitech/T_AIA_902_msc2022_group-44/wandb/run-20220603_160137-8sk49pxc</code>"
      ],
      "text/plain": [
       "<IPython.core.display.HTML object>"
      ]
     },
     "metadata": {},
     "output_type": "display_data"
    },
    {
     "data": {
      "text/html": [
       "Syncing run <strong><a href=\"https://wandb.ai/hugoallegaert/uncategorized/runs/8sk49pxc\" target=\"_blank\">firm-sweep-36</a></strong> to <a href=\"https://wandb.ai/hugoallegaert/uncategorized\" target=\"_blank\">Weights & Biases</a> (<a href=\"https://wandb.me/run\" target=\"_blank\">docs</a>)<br/>Sweep page:  <a href=\"https://wandb.ai/hugoallegaert/uncategorized/sweeps/vhfjmlpf\" target=\"_blank\">https://wandb.ai/hugoallegaert/uncategorized/sweeps/vhfjmlpf</a>"
      ],
      "text/plain": [
       "<IPython.core.display.HTML object>"
      ]
     },
     "metadata": {},
     "output_type": "display_data"
    },
    {
     "name": "stdout",
     "output_type": "stream",
     "text": [
      "Training episode: 1/900\n",
      "Episode 0\tAverage Score: -388.00\n",
      "Training episode: 101/900\n",
      "Episode 100\tAverage Score: -378.11\n",
      "Training episode: 201/900\n",
      "Episode 200\tAverage Score: -391.78\n",
      "Training episode: 301/900\n",
      "Episode 300\tAverage Score: -224.02\n",
      "Training episode: 401/900\n",
      "Episode 400\tAverage Score: -115.03\n",
      "Training episode: 501/900\n",
      "Episode 500\tAverage Score: -106.30\n",
      "Training episode: 601/900\n",
      "Episode 600\tAverage Score: -101.62\n",
      "Training episode: 701/900\n",
      "Episode 700\tAverage Score: -104.86\n",
      "Training episode: 801/900\n",
      "Episode 800\tAverage Score: -104.50\n",
      "Training episode: 900/900\n"
     ]
    },
    {
     "data": {
      "text/html": [
       "Waiting for W&B process to finish... <strong style=\"color:green\">(success).</strong>"
      ],
      "text/plain": [
       "<IPython.core.display.HTML object>"
      ]
     },
     "metadata": {},
     "output_type": "display_data"
    },
    {
     "data": {
      "application/vnd.jupyter.widget-view+json": {
       "model_id": "",
       "version_major": 2,
       "version_minor": 0
      },
      "text/plain": [
       "VBox(children=(Label(value='0.001 MB of 0.001 MB uploaded (0.000 MB deduped)\\r'), FloatProgress(value=1.0, max…"
      ]
     },
     "metadata": {},
     "output_type": "display_data"
    },
    {
     "data": {
      "text/html": [
       "<style>\n",
       "    table.wandb td:nth-child(1) { padding: 0 10px; text-align: right }\n",
       "    .wandb-row { display: flex; flex-direction: row; flex-wrap: wrap; width: 100% }\n",
       "    .wandb-col { display: flex; flex-direction: column; flex-basis: 100%; flex: 1; padding: 10px; }\n",
       "    </style>\n",
       "<div class=\"wandb-row\"><div class=\"wandb-col\"><h3>Run history:</h3><br/><table class=\"wandb\"><tr><td>reward</td><td>▁</td></tr></table><br/></div><div class=\"wandb-col\"><h3>Run summary:</h3><br/><table class=\"wandb\"><tr><td>reward</td><td>-103.78</td></tr></table><br/></div></div>"
      ],
      "text/plain": [
       "<IPython.core.display.HTML object>"
      ]
     },
     "metadata": {},
     "output_type": "display_data"
    },
    {
     "data": {
      "text/html": [
       "Synced <strong style=\"color:#cdcd00\">firm-sweep-36</strong>: <a href=\"https://wandb.ai/hugoallegaert/uncategorized/runs/8sk49pxc\" target=\"_blank\">https://wandb.ai/hugoallegaert/uncategorized/runs/8sk49pxc</a><br/>Synced 5 W&B file(s), 0 media file(s), 0 artifact file(s) and 0 other file(s)"
      ],
      "text/plain": [
       "<IPython.core.display.HTML object>"
      ]
     },
     "metadata": {},
     "output_type": "display_data"
    },
    {
     "data": {
      "text/html": [
       "Find logs at: <code>./wandb/run-20220603_160137-8sk49pxc/logs</code>"
      ],
      "text/plain": [
       "<IPython.core.display.HTML object>"
      ]
     },
     "metadata": {},
     "output_type": "display_data"
    },
    {
     "name": "stderr",
     "output_type": "stream",
     "text": [
      "\u001b[34m\u001b[1mwandb\u001b[0m: Agent Starting Run: 2ljh2tzz with config:\n",
      "\u001b[34m\u001b[1mwandb\u001b[0m: \tbatch_size: 18\n",
      "\u001b[34m\u001b[1mwandb\u001b[0m: \tepochs: 900\n",
      "\u001b[34m\u001b[1mwandb\u001b[0m: \teps_decay: 58\n",
      "\u001b[34m\u001b[1mwandb\u001b[0m: \tgamma: 0.3668805620320955\n",
      "\u001b[34m\u001b[1mwandb\u001b[0m: \tloss: huber\n",
      "\u001b[34m\u001b[1mwandb\u001b[0m: \tlr_decay: 203\n",
      "\u001b[34m\u001b[1mwandb\u001b[0m: \tmemory_size: 40000\n",
      "\u001b[34m\u001b[1mwandb\u001b[0m: \ttarget_update: 25\n"
     ]
    },
    {
     "data": {
      "text/html": [
       "wandb version 0.12.17 is available!  To upgrade, please run:\n",
       " $ pip install wandb --upgrade"
      ],
      "text/plain": [
       "<IPython.core.display.HTML object>"
      ]
     },
     "metadata": {},
     "output_type": "display_data"
    },
    {
     "data": {
      "text/html": [
       "Tracking run with wandb version 0.12.11"
      ],
      "text/plain": [
       "<IPython.core.display.HTML object>"
      ]
     },
     "metadata": {},
     "output_type": "display_data"
    },
    {
     "data": {
      "text/html": [
       "Run data is saved locally in <code>/Users/utilisateur/Epitech/T_AIA_902_msc2022_group-44/wandb/run-20220603_160500-2ljh2tzz</code>"
      ],
      "text/plain": [
       "<IPython.core.display.HTML object>"
      ]
     },
     "metadata": {},
     "output_type": "display_data"
    },
    {
     "data": {
      "text/html": [
       "Syncing run <strong><a href=\"https://wandb.ai/hugoallegaert/uncategorized/runs/2ljh2tzz\" target=\"_blank\">likely-sweep-37</a></strong> to <a href=\"https://wandb.ai/hugoallegaert/uncategorized\" target=\"_blank\">Weights & Biases</a> (<a href=\"https://wandb.me/run\" target=\"_blank\">docs</a>)<br/>Sweep page:  <a href=\"https://wandb.ai/hugoallegaert/uncategorized/sweeps/vhfjmlpf\" target=\"_blank\">https://wandb.ai/hugoallegaert/uncategorized/sweeps/vhfjmlpf</a>"
      ],
      "text/plain": [
       "<IPython.core.display.HTML object>"
      ]
     },
     "metadata": {},
     "output_type": "display_data"
    },
    {
     "name": "stdout",
     "output_type": "stream",
     "text": [
      "Training episode: 1/900\n",
      "Episode 0\tAverage Score: -379.00\n",
      "Training episode: 101/900\n",
      "Episode 100\tAverage Score: -397.87\n",
      "Training episode: 201/900\n",
      "Episode 200\tAverage Score: -403.66\n",
      "Training episode: 301/900\n",
      "Episode 300\tAverage Score: -134.29\n",
      "Training episode: 401/900\n",
      "Episode 400\tAverage Score: -103.69\n",
      "Training episode: 501/900\n",
      "Episode 500\tAverage Score: -102.18\n",
      "Training episode: 601/900\n",
      "Episode 600\tAverage Score: -103.60\n",
      "Training episode: 701/900\n",
      "Episode 700\tAverage Score: -102.71\n",
      "Training episode: 801/900\n",
      "Episode 800\tAverage Score: -101.33\n",
      "Training episode: 900/900\n"
     ]
    },
    {
     "data": {
      "text/html": [
       "Waiting for W&B process to finish... <strong style=\"color:green\">(success).</strong>"
      ],
      "text/plain": [
       "<IPython.core.display.HTML object>"
      ]
     },
     "metadata": {},
     "output_type": "display_data"
    },
    {
     "data": {
      "application/vnd.jupyter.widget-view+json": {
       "model_id": "",
       "version_major": 2,
       "version_minor": 0
      },
      "text/plain": [
       "VBox(children=(Label(value='0.001 MB of 0.001 MB uploaded (0.000 MB deduped)\\r'), FloatProgress(value=1.0, max…"
      ]
     },
     "metadata": {},
     "output_type": "display_data"
    },
    {
     "data": {
      "text/html": [
       "<style>\n",
       "    table.wandb td:nth-child(1) { padding: 0 10px; text-align: right }\n",
       "    .wandb-row { display: flex; flex-direction: row; flex-wrap: wrap; width: 100% }\n",
       "    .wandb-col { display: flex; flex-direction: column; flex-basis: 100%; flex: 1; padding: 10px; }\n",
       "    </style>\n",
       "<div class=\"wandb-row\"><div class=\"wandb-col\"><h3>Run history:</h3><br/><table class=\"wandb\"><tr><td>reward</td><td>▁</td></tr></table><br/></div><div class=\"wandb-col\"><h3>Run summary:</h3><br/><table class=\"wandb\"><tr><td>reward</td><td>-100.73</td></tr></table><br/></div></div>"
      ],
      "text/plain": [
       "<IPython.core.display.HTML object>"
      ]
     },
     "metadata": {},
     "output_type": "display_data"
    },
    {
     "data": {
      "text/html": [
       "Synced <strong style=\"color:#cdcd00\">likely-sweep-37</strong>: <a href=\"https://wandb.ai/hugoallegaert/uncategorized/runs/2ljh2tzz\" target=\"_blank\">https://wandb.ai/hugoallegaert/uncategorized/runs/2ljh2tzz</a><br/>Synced 5 W&B file(s), 0 media file(s), 0 artifact file(s) and 0 other file(s)"
      ],
      "text/plain": [
       "<IPython.core.display.HTML object>"
      ]
     },
     "metadata": {},
     "output_type": "display_data"
    },
    {
     "data": {
      "text/html": [
       "Find logs at: <code>./wandb/run-20220603_160500-2ljh2tzz/logs</code>"
      ],
      "text/plain": [
       "<IPython.core.display.HTML object>"
      ]
     },
     "metadata": {},
     "output_type": "display_data"
    },
    {
     "name": "stderr",
     "output_type": "stream",
     "text": [
      "\u001b[34m\u001b[1mwandb\u001b[0m: Agent Starting Run: ks7yyzg8 with config:\n",
      "\u001b[34m\u001b[1mwandb\u001b[0m: \tbatch_size: 160\n",
      "\u001b[34m\u001b[1mwandb\u001b[0m: \tepochs: 900\n",
      "\u001b[34m\u001b[1mwandb\u001b[0m: \teps_decay: 228\n",
      "\u001b[34m\u001b[1mwandb\u001b[0m: \tgamma: 0.8454798857565531\n",
      "\u001b[34m\u001b[1mwandb\u001b[0m: \tloss: mse\n",
      "\u001b[34m\u001b[1mwandb\u001b[0m: \tlr_decay: 234\n",
      "\u001b[34m\u001b[1mwandb\u001b[0m: \tmemory_size: 40000\n",
      "\u001b[34m\u001b[1mwandb\u001b[0m: \ttarget_update: 16\n"
     ]
    },
    {
     "data": {
      "text/html": [
       "wandb version 0.12.17 is available!  To upgrade, please run:\n",
       " $ pip install wandb --upgrade"
      ],
      "text/plain": [
       "<IPython.core.display.HTML object>"
      ]
     },
     "metadata": {},
     "output_type": "display_data"
    },
    {
     "data": {
      "text/html": [
       "Tracking run with wandb version 0.12.11"
      ],
      "text/plain": [
       "<IPython.core.display.HTML object>"
      ]
     },
     "metadata": {},
     "output_type": "display_data"
    },
    {
     "data": {
      "text/html": [
       "Run data is saved locally in <code>/Users/utilisateur/Epitech/T_AIA_902_msc2022_group-44/wandb/run-20220603_160725-ks7yyzg8</code>"
      ],
      "text/plain": [
       "<IPython.core.display.HTML object>"
      ]
     },
     "metadata": {},
     "output_type": "display_data"
    },
    {
     "data": {
      "text/html": [
       "Syncing run <strong><a href=\"https://wandb.ai/hugoallegaert/uncategorized/runs/ks7yyzg8\" target=\"_blank\">smart-sweep-38</a></strong> to <a href=\"https://wandb.ai/hugoallegaert/uncategorized\" target=\"_blank\">Weights & Biases</a> (<a href=\"https://wandb.me/run\" target=\"_blank\">docs</a>)<br/>Sweep page:  <a href=\"https://wandb.ai/hugoallegaert/uncategorized/sweeps/vhfjmlpf\" target=\"_blank\">https://wandb.ai/hugoallegaert/uncategorized/sweeps/vhfjmlpf</a>"
      ],
      "text/plain": [
       "<IPython.core.display.HTML object>"
      ]
     },
     "metadata": {},
     "output_type": "display_data"
    },
    {
     "name": "stdout",
     "output_type": "stream",
     "text": [
      "Training episode: 1/900\n",
      "Episode 0\tAverage Score: -361.00\n",
      "Training episode: 101/900\n",
      "Episode 100\tAverage Score: -385.18\n",
      "Training episode: 201/900\n",
      "Episode 200\tAverage Score: -394.92\n",
      "Training episode: 301/900\n",
      "Episode 300\tAverage Score: -215.11\n",
      "Training episode: 401/900\n",
      "Episode 400\tAverage Score: -87.50\n",
      "Training episode: 501/900\n",
      "Episode 500\tAverage Score: -53.61\n",
      "Training episode: 601/900\n",
      "Episode 600\tAverage Score: -54.06\n",
      "Training episode: 701/900\n",
      "Episode 700\tAverage Score: -54.36\n",
      "Training episode: 801/900\n",
      "Episode 800\tAverage Score: -43.09\n",
      "Training episode: 900/900\n"
     ]
    },
    {
     "data": {
      "text/html": [
       "Waiting for W&B process to finish... <strong style=\"color:green\">(success).</strong>"
      ],
      "text/plain": [
       "<IPython.core.display.HTML object>"
      ]
     },
     "metadata": {},
     "output_type": "display_data"
    },
    {
     "data": {
      "application/vnd.jupyter.widget-view+json": {
       "model_id": "",
       "version_major": 2,
       "version_minor": 0
      },
      "text/plain": [
       "VBox(children=(Label(value='0.001 MB of 0.001 MB uploaded (0.000 MB deduped)\\r'), FloatProgress(value=1.0, max…"
      ]
     },
     "metadata": {},
     "output_type": "display_data"
    },
    {
     "data": {
      "text/html": [
       "<style>\n",
       "    table.wandb td:nth-child(1) { padding: 0 10px; text-align: right }\n",
       "    .wandb-row { display: flex; flex-direction: row; flex-wrap: wrap; width: 100% }\n",
       "    .wandb-col { display: flex; flex-direction: column; flex-basis: 100%; flex: 1; padding: 10px; }\n",
       "    </style>\n",
       "<div class=\"wandb-row\"><div class=\"wandb-col\"><h3>Run history:</h3><br/><table class=\"wandb\"><tr><td>reward</td><td>▁</td></tr></table><br/></div><div class=\"wandb-col\"><h3>Run summary:</h3><br/><table class=\"wandb\"><tr><td>reward</td><td>-50.87</td></tr></table><br/></div></div>"
      ],
      "text/plain": [
       "<IPython.core.display.HTML object>"
      ]
     },
     "metadata": {},
     "output_type": "display_data"
    },
    {
     "data": {
      "text/html": [
       "Synced <strong style=\"color:#cdcd00\">smart-sweep-38</strong>: <a href=\"https://wandb.ai/hugoallegaert/uncategorized/runs/ks7yyzg8\" target=\"_blank\">https://wandb.ai/hugoallegaert/uncategorized/runs/ks7yyzg8</a><br/>Synced 5 W&B file(s), 0 media file(s), 0 artifact file(s) and 0 other file(s)"
      ],
      "text/plain": [
       "<IPython.core.display.HTML object>"
      ]
     },
     "metadata": {},
     "output_type": "display_data"
    },
    {
     "data": {
      "text/html": [
       "Find logs at: <code>./wandb/run-20220603_160725-ks7yyzg8/logs</code>"
      ],
      "text/plain": [
       "<IPython.core.display.HTML object>"
      ]
     },
     "metadata": {},
     "output_type": "display_data"
    },
    {
     "name": "stderr",
     "output_type": "stream",
     "text": [
      "\u001b[34m\u001b[1mwandb\u001b[0m: Agent Starting Run: 6913045o with config:\n",
      "\u001b[34m\u001b[1mwandb\u001b[0m: \tbatch_size: 138\n",
      "\u001b[34m\u001b[1mwandb\u001b[0m: \tepochs: 900\n",
      "\u001b[34m\u001b[1mwandb\u001b[0m: \teps_decay: 263\n",
      "\u001b[34m\u001b[1mwandb\u001b[0m: \tgamma: 0.28079407168880594\n",
      "\u001b[34m\u001b[1mwandb\u001b[0m: \tloss: huber\n",
      "\u001b[34m\u001b[1mwandb\u001b[0m: \tlr_decay: 252\n",
      "\u001b[34m\u001b[1mwandb\u001b[0m: \tmemory_size: 2048\n",
      "\u001b[34m\u001b[1mwandb\u001b[0m: \ttarget_update: 10\n"
     ]
    },
    {
     "data": {
      "text/html": [
       "wandb version 0.12.17 is available!  To upgrade, please run:\n",
       " $ pip install wandb --upgrade"
      ],
      "text/plain": [
       "<IPython.core.display.HTML object>"
      ]
     },
     "metadata": {},
     "output_type": "display_data"
    },
    {
     "data": {
      "text/html": [
       "Tracking run with wandb version 0.12.11"
      ],
      "text/plain": [
       "<IPython.core.display.HTML object>"
      ]
     },
     "metadata": {},
     "output_type": "display_data"
    },
    {
     "data": {
      "text/html": [
       "Run data is saved locally in <code>/Users/utilisateur/Epitech/T_AIA_902_msc2022_group-44/wandb/run-20220603_161022-6913045o</code>"
      ],
      "text/plain": [
       "<IPython.core.display.HTML object>"
      ]
     },
     "metadata": {},
     "output_type": "display_data"
    },
    {
     "data": {
      "text/html": [
       "Syncing run <strong><a href=\"https://wandb.ai/hugoallegaert/uncategorized/runs/6913045o\" target=\"_blank\">vivid-sweep-39</a></strong> to <a href=\"https://wandb.ai/hugoallegaert/uncategorized\" target=\"_blank\">Weights & Biases</a> (<a href=\"https://wandb.me/run\" target=\"_blank\">docs</a>)<br/>Sweep page:  <a href=\"https://wandb.ai/hugoallegaert/uncategorized/sweeps/vhfjmlpf\" target=\"_blank\">https://wandb.ai/hugoallegaert/uncategorized/sweeps/vhfjmlpf</a>"
      ],
      "text/plain": [
       "<IPython.core.display.HTML object>"
      ]
     },
     "metadata": {},
     "output_type": "display_data"
    },
    {
     "name": "stdout",
     "output_type": "stream",
     "text": [
      "Training episode: 1/900\n",
      "Episode 0\tAverage Score: -415.00\n",
      "Training episode: 101/900\n",
      "Episode 100\tAverage Score: -384.10\n",
      "Training episode: 201/900\n",
      "Episode 200\tAverage Score: -387.79\n",
      "Training episode: 301/900\n",
      "Episode 300\tAverage Score: -233.07\n",
      "Training episode: 401/900\n",
      "Episode 400\tAverage Score: -124.39\n",
      "Training episode: 501/900\n",
      "Episode 500\tAverage Score: -105.67\n",
      "Training episode: 601/900\n",
      "Episode 600\tAverage Score: -102.61\n",
      "Training episode: 701/900\n",
      "Episode 700\tAverage Score: -102.88\n",
      "Training episode: 801/900\n",
      "Episode 800\tAverage Score: -103.06\n",
      "Training episode: 900/900\n"
     ]
    },
    {
     "data": {
      "text/html": [
       "Waiting for W&B process to finish... <strong style=\"color:green\">(success).</strong>"
      ],
      "text/plain": [
       "<IPython.core.display.HTML object>"
      ]
     },
     "metadata": {},
     "output_type": "display_data"
    },
    {
     "data": {
      "application/vnd.jupyter.widget-view+json": {
       "model_id": "",
       "version_major": 2,
       "version_minor": 0
      },
      "text/plain": [
       "VBox(children=(Label(value='0.001 MB of 0.001 MB uploaded (0.000 MB deduped)\\r'), FloatProgress(value=1.0, max…"
      ]
     },
     "metadata": {},
     "output_type": "display_data"
    },
    {
     "data": {
      "text/html": [
       "<style>\n",
       "    table.wandb td:nth-child(1) { padding: 0 10px; text-align: right }\n",
       "    .wandb-row { display: flex; flex-direction: row; flex-wrap: wrap; width: 100% }\n",
       "    .wandb-col { display: flex; flex-direction: column; flex-basis: 100%; flex: 1; padding: 10px; }\n",
       "    </style>\n",
       "<div class=\"wandb-row\"><div class=\"wandb-col\"><h3>Run history:</h3><br/><table class=\"wandb\"><tr><td>reward</td><td>▁</td></tr></table><br/></div><div class=\"wandb-col\"><h3>Run summary:</h3><br/><table class=\"wandb\"><tr><td>reward</td><td>-102.7</td></tr></table><br/></div></div>"
      ],
      "text/plain": [
       "<IPython.core.display.HTML object>"
      ]
     },
     "metadata": {},
     "output_type": "display_data"
    },
    {
     "data": {
      "text/html": [
       "Synced <strong style=\"color:#cdcd00\">vivid-sweep-39</strong>: <a href=\"https://wandb.ai/hugoallegaert/uncategorized/runs/6913045o\" target=\"_blank\">https://wandb.ai/hugoallegaert/uncategorized/runs/6913045o</a><br/>Synced 5 W&B file(s), 0 media file(s), 0 artifact file(s) and 0 other file(s)"
      ],
      "text/plain": [
       "<IPython.core.display.HTML object>"
      ]
     },
     "metadata": {},
     "output_type": "display_data"
    },
    {
     "data": {
      "text/html": [
       "Find logs at: <code>./wandb/run-20220603_161022-6913045o/logs</code>"
      ],
      "text/plain": [
       "<IPython.core.display.HTML object>"
      ]
     },
     "metadata": {},
     "output_type": "display_data"
    },
    {
     "name": "stderr",
     "output_type": "stream",
     "text": [
      "\u001b[34m\u001b[1mwandb\u001b[0m: Agent Starting Run: mtirv3ha with config:\n",
      "\u001b[34m\u001b[1mwandb\u001b[0m: \tbatch_size: 21\n",
      "\u001b[34m\u001b[1mwandb\u001b[0m: \tepochs: 900\n",
      "\u001b[34m\u001b[1mwandb\u001b[0m: \teps_decay: 420\n",
      "\u001b[34m\u001b[1mwandb\u001b[0m: \tgamma: 0.22621032296840227\n",
      "\u001b[34m\u001b[1mwandb\u001b[0m: \tloss: mse\n",
      "\u001b[34m\u001b[1mwandb\u001b[0m: \tlr_decay: 277\n",
      "\u001b[34m\u001b[1mwandb\u001b[0m: \tmemory_size: 512\n",
      "\u001b[34m\u001b[1mwandb\u001b[0m: \ttarget_update: 32\n"
     ]
    },
    {
     "data": {
      "text/html": [
       "wandb version 0.12.17 is available!  To upgrade, please run:\n",
       " $ pip install wandb --upgrade"
      ],
      "text/plain": [
       "<IPython.core.display.HTML object>"
      ]
     },
     "metadata": {},
     "output_type": "display_data"
    },
    {
     "data": {
      "text/html": [
       "Tracking run with wandb version 0.12.11"
      ],
      "text/plain": [
       "<IPython.core.display.HTML object>"
      ]
     },
     "metadata": {},
     "output_type": "display_data"
    },
    {
     "data": {
      "text/html": [
       "Run data is saved locally in <code>/Users/utilisateur/Epitech/T_AIA_902_msc2022_group-44/wandb/run-20220603_161308-mtirv3ha</code>"
      ],
      "text/plain": [
       "<IPython.core.display.HTML object>"
      ]
     },
     "metadata": {},
     "output_type": "display_data"
    },
    {
     "data": {
      "text/html": [
       "Syncing run <strong><a href=\"https://wandb.ai/hugoallegaert/uncategorized/runs/mtirv3ha\" target=\"_blank\">olive-sweep-40</a></strong> to <a href=\"https://wandb.ai/hugoallegaert/uncategorized\" target=\"_blank\">Weights & Biases</a> (<a href=\"https://wandb.me/run\" target=\"_blank\">docs</a>)<br/>Sweep page:  <a href=\"https://wandb.ai/hugoallegaert/uncategorized/sweeps/vhfjmlpf\" target=\"_blank\">https://wandb.ai/hugoallegaert/uncategorized/sweeps/vhfjmlpf</a>"
      ],
      "text/plain": [
       "<IPython.core.display.HTML object>"
      ]
     },
     "metadata": {},
     "output_type": "display_data"
    },
    {
     "name": "stdout",
     "output_type": "stream",
     "text": [
      "Training episode: 1/900\n",
      "Episode 0\tAverage Score: -424.00\n",
      "Training episode: 101/900\n",
      "Episode 100\tAverage Score: -382.11\n",
      "Training episode: 201/900\n",
      "Episode 200\tAverage Score: -399.48\n",
      "Training episode: 301/900\n",
      "Episode 300\tAverage Score: -278.55\n",
      "Training episode: 401/900\n",
      "Episode 400\tAverage Score: -160.66\n",
      "Training episode: 501/900\n",
      "Episode 500\tAverage Score: -122.77\n",
      "Training episode: 601/900\n",
      "Episode 600\tAverage Score: -109.00\n",
      "Training episode: 701/900\n",
      "Episode 700\tAverage Score: -104.59\n",
      "Training episode: 801/900\n",
      "Episode 800\tAverage Score: -103.06\n",
      "Training episode: 900/900\n"
     ]
    },
    {
     "data": {
      "text/html": [
       "Waiting for W&B process to finish... <strong style=\"color:green\">(success).</strong>"
      ],
      "text/plain": [
       "<IPython.core.display.HTML object>"
      ]
     },
     "metadata": {},
     "output_type": "display_data"
    },
    {
     "data": {
      "application/vnd.jupyter.widget-view+json": {
       "model_id": "",
       "version_major": 2,
       "version_minor": 0
      },
      "text/plain": [
       "VBox(children=(Label(value='0.001 MB of 0.001 MB uploaded (0.000 MB deduped)\\r'), FloatProgress(value=1.0, max…"
      ]
     },
     "metadata": {},
     "output_type": "display_data"
    },
    {
     "data": {
      "text/html": [
       "<style>\n",
       "    table.wandb td:nth-child(1) { padding: 0 10px; text-align: right }\n",
       "    .wandb-row { display: flex; flex-direction: row; flex-wrap: wrap; width: 100% }\n",
       "    .wandb-col { display: flex; flex-direction: column; flex-basis: 100%; flex: 1; padding: 10px; }\n",
       "    </style>\n",
       "<div class=\"wandb-row\"><div class=\"wandb-col\"><h3>Run history:</h3><br/><table class=\"wandb\"><tr><td>reward</td><td>▁</td></tr></table><br/></div><div class=\"wandb-col\"><h3>Run summary:</h3><br/><table class=\"wandb\"><tr><td>reward</td><td>-102.88</td></tr></table><br/></div></div>"
      ],
      "text/plain": [
       "<IPython.core.display.HTML object>"
      ]
     },
     "metadata": {},
     "output_type": "display_data"
    },
    {
     "data": {
      "text/html": [
       "Synced <strong style=\"color:#cdcd00\">olive-sweep-40</strong>: <a href=\"https://wandb.ai/hugoallegaert/uncategorized/runs/mtirv3ha\" target=\"_blank\">https://wandb.ai/hugoallegaert/uncategorized/runs/mtirv3ha</a><br/>Synced 5 W&B file(s), 0 media file(s), 0 artifact file(s) and 0 other file(s)"
      ],
      "text/plain": [
       "<IPython.core.display.HTML object>"
      ]
     },
     "metadata": {},
     "output_type": "display_data"
    },
    {
     "data": {
      "text/html": [
       "Find logs at: <code>./wandb/run-20220603_161308-mtirv3ha/logs</code>"
      ],
      "text/plain": [
       "<IPython.core.display.HTML object>"
      ]
     },
     "metadata": {},
     "output_type": "display_data"
    },
    {
     "name": "stderr",
     "output_type": "stream",
     "text": [
      "\u001b[34m\u001b[1mwandb\u001b[0m: Sweep Agent: Waiting for job.\n",
      "\u001b[34m\u001b[1mwandb\u001b[0m: Job received.\n",
      "\u001b[34m\u001b[1mwandb\u001b[0m: Agent Starting Run: rm9igsi5 with config:\n",
      "\u001b[34m\u001b[1mwandb\u001b[0m: \tbatch_size: 337\n",
      "\u001b[34m\u001b[1mwandb\u001b[0m: \tepochs: 900\n",
      "\u001b[34m\u001b[1mwandb\u001b[0m: \teps_decay: 262\n",
      "\u001b[34m\u001b[1mwandb\u001b[0m: \tgamma: 0.43101006573175094\n",
      "\u001b[34m\u001b[1mwandb\u001b[0m: \tloss: mse\n",
      "\u001b[34m\u001b[1mwandb\u001b[0m: \tlr_decay: 26\n",
      "\u001b[34m\u001b[1mwandb\u001b[0m: \tmemory_size: 2048\n",
      "\u001b[34m\u001b[1mwandb\u001b[0m: \ttarget_update: 9\n"
     ]
    },
    {
     "data": {
      "text/html": [
       "wandb version 0.12.17 is available!  To upgrade, please run:\n",
       " $ pip install wandb --upgrade"
      ],
      "text/plain": [
       "<IPython.core.display.HTML object>"
      ]
     },
     "metadata": {},
     "output_type": "display_data"
    },
    {
     "data": {
      "text/html": [
       "Tracking run with wandb version 0.12.11"
      ],
      "text/plain": [
       "<IPython.core.display.HTML object>"
      ]
     },
     "metadata": {},
     "output_type": "display_data"
    },
    {
     "data": {
      "text/html": [
       "Run data is saved locally in <code>/Users/utilisateur/Epitech/T_AIA_902_msc2022_group-44/wandb/run-20220603_161537-rm9igsi5</code>"
      ],
      "text/plain": [
       "<IPython.core.display.HTML object>"
      ]
     },
     "metadata": {},
     "output_type": "display_data"
    },
    {
     "data": {
      "text/html": [
       "Syncing run <strong><a href=\"https://wandb.ai/hugoallegaert/uncategorized/runs/rm9igsi5\" target=\"_blank\">lucky-sweep-41</a></strong> to <a href=\"https://wandb.ai/hugoallegaert/uncategorized\" target=\"_blank\">Weights & Biases</a> (<a href=\"https://wandb.me/run\" target=\"_blank\">docs</a>)<br/>Sweep page:  <a href=\"https://wandb.ai/hugoallegaert/uncategorized/sweeps/vhfjmlpf\" target=\"_blank\">https://wandb.ai/hugoallegaert/uncategorized/sweeps/vhfjmlpf</a>"
      ],
      "text/plain": [
       "<IPython.core.display.HTML object>"
      ]
     },
     "metadata": {},
     "output_type": "display_data"
    },
    {
     "name": "stdout",
     "output_type": "stream",
     "text": [
      "Training episode: 1/900\n",
      "Episode 0\tAverage Score: -406.00\n",
      "Training episode: 101/900\n",
      "Episode 100\tAverage Score: -384.01\n",
      "Training episode: 201/900\n",
      "Episode 200\tAverage Score: -386.56\n",
      "Training episode: 301/900\n",
      "Episode 300\tAverage Score: -240.31\n",
      "Training episode: 401/900\n",
      "Episode 400\tAverage Score: -121.32\n",
      "Training episode: 501/900\n",
      "Episode 500\tAverage Score: -106.84\n",
      "Training episode: 601/900\n",
      "Episode 600\tAverage Score: -103.33\n",
      "Training episode: 701/900\n",
      "Episode 700\tAverage Score: -102.25\n",
      "Training episode: 801/900\n",
      "Episode 800\tAverage Score: -102.79\n",
      "Training episode: 900/900\n"
     ]
    },
    {
     "data": {
      "text/html": [
       "Waiting for W&B process to finish... <strong style=\"color:green\">(success).</strong>"
      ],
      "text/plain": [
       "<IPython.core.display.HTML object>"
      ]
     },
     "metadata": {},
     "output_type": "display_data"
    },
    {
     "data": {
      "application/vnd.jupyter.widget-view+json": {
       "model_id": "",
       "version_major": 2,
       "version_minor": 0
      },
      "text/plain": [
       "VBox(children=(Label(value='0.001 MB of 0.001 MB uploaded (0.000 MB deduped)\\r'), FloatProgress(value=1.0, max…"
      ]
     },
     "metadata": {},
     "output_type": "display_data"
    },
    {
     "data": {
      "text/html": [
       "<style>\n",
       "    table.wandb td:nth-child(1) { padding: 0 10px; text-align: right }\n",
       "    .wandb-row { display: flex; flex-direction: row; flex-wrap: wrap; width: 100% }\n",
       "    .wandb-col { display: flex; flex-direction: column; flex-basis: 100%; flex: 1; padding: 10px; }\n",
       "    </style>\n",
       "<div class=\"wandb-row\"><div class=\"wandb-col\"><h3>Run history:</h3><br/><table class=\"wandb\"><tr><td>reward</td><td>▁</td></tr></table><br/></div><div class=\"wandb-col\"><h3>Run summary:</h3><br/><table class=\"wandb\"><tr><td>reward</td><td>-103.06</td></tr></table><br/></div></div>"
      ],
      "text/plain": [
       "<IPython.core.display.HTML object>"
      ]
     },
     "metadata": {},
     "output_type": "display_data"
    },
    {
     "data": {
      "text/html": [
       "Synced <strong style=\"color:#cdcd00\">lucky-sweep-41</strong>: <a href=\"https://wandb.ai/hugoallegaert/uncategorized/runs/rm9igsi5\" target=\"_blank\">https://wandb.ai/hugoallegaert/uncategorized/runs/rm9igsi5</a><br/>Synced 5 W&B file(s), 0 media file(s), 0 artifact file(s) and 0 other file(s)"
      ],
      "text/plain": [
       "<IPython.core.display.HTML object>"
      ]
     },
     "metadata": {},
     "output_type": "display_data"
    },
    {
     "data": {
      "text/html": [
       "Find logs at: <code>./wandb/run-20220603_161537-rm9igsi5/logs</code>"
      ],
      "text/plain": [
       "<IPython.core.display.HTML object>"
      ]
     },
     "metadata": {},
     "output_type": "display_data"
    },
    {
     "name": "stderr",
     "output_type": "stream",
     "text": [
      "\u001b[34m\u001b[1mwandb\u001b[0m: Agent Starting Run: pqy1irp0 with config:\n",
      "\u001b[34m\u001b[1mwandb\u001b[0m: \tbatch_size: 48\n",
      "\u001b[34m\u001b[1mwandb\u001b[0m: \tepochs: 900\n",
      "\u001b[34m\u001b[1mwandb\u001b[0m: \teps_decay: 336\n",
      "\u001b[34m\u001b[1mwandb\u001b[0m: \tgamma: 0.5413775949650805\n",
      "\u001b[34m\u001b[1mwandb\u001b[0m: \tloss: mae\n",
      "\u001b[34m\u001b[1mwandb\u001b[0m: \tlr_decay: 91\n",
      "\u001b[34m\u001b[1mwandb\u001b[0m: \tmemory_size: 40000\n",
      "\u001b[34m\u001b[1mwandb\u001b[0m: \ttarget_update: 10\n"
     ]
    },
    {
     "data": {
      "text/html": [
       "wandb version 0.12.17 is available!  To upgrade, please run:\n",
       " $ pip install wandb --upgrade"
      ],
      "text/plain": [
       "<IPython.core.display.HTML object>"
      ]
     },
     "metadata": {},
     "output_type": "display_data"
    },
    {
     "data": {
      "text/html": [
       "Tracking run with wandb version 0.12.11"
      ],
      "text/plain": [
       "<IPython.core.display.HTML object>"
      ]
     },
     "metadata": {},
     "output_type": "display_data"
    },
    {
     "data": {
      "text/html": [
       "Run data is saved locally in <code>/Users/utilisateur/Epitech/T_AIA_902_msc2022_group-44/wandb/run-20220603_161917-pqy1irp0</code>"
      ],
      "text/plain": [
       "<IPython.core.display.HTML object>"
      ]
     },
     "metadata": {},
     "output_type": "display_data"
    },
    {
     "data": {
      "text/html": [
       "Syncing run <strong><a href=\"https://wandb.ai/hugoallegaert/uncategorized/runs/pqy1irp0\" target=\"_blank\">worthy-sweep-42</a></strong> to <a href=\"https://wandb.ai/hugoallegaert/uncategorized\" target=\"_blank\">Weights & Biases</a> (<a href=\"https://wandb.me/run\" target=\"_blank\">docs</a>)<br/>Sweep page:  <a href=\"https://wandb.ai/hugoallegaert/uncategorized/sweeps/vhfjmlpf\" target=\"_blank\">https://wandb.ai/hugoallegaert/uncategorized/sweeps/vhfjmlpf</a>"
      ],
      "text/plain": [
       "<IPython.core.display.HTML object>"
      ]
     },
     "metadata": {},
     "output_type": "display_data"
    },
    {
     "name": "stdout",
     "output_type": "stream",
     "text": [
      "Training episode: 1/900\n",
      "Episode 0\tAverage Score: -379.00\n",
      "Training episode: 101/900\n",
      "Episode 100\tAverage Score: -403.75\n",
      "Training episode: 201/900\n",
      "Episode 200\tAverage Score: -385.88\n",
      "Training episode: 301/900\n",
      "Episode 300\tAverage Score: -253.08\n",
      "Training episode: 401/900\n",
      "Episode 400\tAverage Score: -130.83\n",
      "Training episode: 501/900\n",
      "Episode 500\tAverage Score: -97.25\n",
      "Training episode: 601/900\n",
      "Episode 600\tAverage Score: -80.60\n",
      "Training episode: 701/900\n",
      "Episode 700\tAverage Score: -69.87\n",
      "Training episode: 801/900\n",
      "Episode 800\tAverage Score: -65.03\n",
      "Training episode: 900/900\n"
     ]
    },
    {
     "data": {
      "text/html": [
       "Waiting for W&B process to finish... <strong style=\"color:green\">(success).</strong>"
      ],
      "text/plain": [
       "<IPython.core.display.HTML object>"
      ]
     },
     "metadata": {},
     "output_type": "display_data"
    },
    {
     "data": {
      "application/vnd.jupyter.widget-view+json": {
       "model_id": "",
       "version_major": 2,
       "version_minor": 0
      },
      "text/plain": [
       "VBox(children=(Label(value='0.001 MB of 0.001 MB uploaded (0.000 MB deduped)\\r'), FloatProgress(value=1.0, max…"
      ]
     },
     "metadata": {},
     "output_type": "display_data"
    },
    {
     "data": {
      "text/html": [
       "<style>\n",
       "    table.wandb td:nth-child(1) { padding: 0 10px; text-align: right }\n",
       "    .wandb-row { display: flex; flex-direction: row; flex-wrap: wrap; width: 100% }\n",
       "    .wandb-col { display: flex; flex-direction: column; flex-basis: 100%; flex: 1; padding: 10px; }\n",
       "    </style>\n",
       "<div class=\"wandb-row\"><div class=\"wandb-col\"><h3>Run history:</h3><br/><table class=\"wandb\"><tr><td>reward</td><td>▁</td></tr></table><br/></div><div class=\"wandb-col\"><h3>Run summary:</h3><br/><table class=\"wandb\"><tr><td>reward</td><td>-46.77</td></tr></table><br/></div></div>"
      ],
      "text/plain": [
       "<IPython.core.display.HTML object>"
      ]
     },
     "metadata": {},
     "output_type": "display_data"
    },
    {
     "data": {
      "text/html": [
       "Synced <strong style=\"color:#cdcd00\">worthy-sweep-42</strong>: <a href=\"https://wandb.ai/hugoallegaert/uncategorized/runs/pqy1irp0\" target=\"_blank\">https://wandb.ai/hugoallegaert/uncategorized/runs/pqy1irp0</a><br/>Synced 5 W&B file(s), 0 media file(s), 0 artifact file(s) and 0 other file(s)"
      ],
      "text/plain": [
       "<IPython.core.display.HTML object>"
      ]
     },
     "metadata": {},
     "output_type": "display_data"
    },
    {
     "data": {
      "text/html": [
       "Find logs at: <code>./wandb/run-20220603_161917-pqy1irp0/logs</code>"
      ],
      "text/plain": [
       "<IPython.core.display.HTML object>"
      ]
     },
     "metadata": {},
     "output_type": "display_data"
    },
    {
     "name": "stderr",
     "output_type": "stream",
     "text": [
      "\u001b[34m\u001b[1mwandb\u001b[0m: Agent Starting Run: v8y32gtp with config:\n",
      "\u001b[34m\u001b[1mwandb\u001b[0m: \tbatch_size: 354\n",
      "\u001b[34m\u001b[1mwandb\u001b[0m: \tepochs: 900\n",
      "\u001b[34m\u001b[1mwandb\u001b[0m: \teps_decay: 459\n",
      "\u001b[34m\u001b[1mwandb\u001b[0m: \tgamma: 0.3404690081228552\n",
      "\u001b[34m\u001b[1mwandb\u001b[0m: \tloss: huber\n",
      "\u001b[34m\u001b[1mwandb\u001b[0m: \tlr_decay: 15\n",
      "\u001b[34m\u001b[1mwandb\u001b[0m: \tmemory_size: 512\n",
      "\u001b[34m\u001b[1mwandb\u001b[0m: \ttarget_update: 38\n"
     ]
    },
    {
     "data": {
      "text/html": [
       "wandb version 0.12.17 is available!  To upgrade, please run:\n",
       " $ pip install wandb --upgrade"
      ],
      "text/plain": [
       "<IPython.core.display.HTML object>"
      ]
     },
     "metadata": {},
     "output_type": "display_data"
    },
    {
     "data": {
      "text/html": [
       "Tracking run with wandb version 0.12.11"
      ],
      "text/plain": [
       "<IPython.core.display.HTML object>"
      ]
     },
     "metadata": {},
     "output_type": "display_data"
    },
    {
     "data": {
      "text/html": [
       "Run data is saved locally in <code>/Users/utilisateur/Epitech/T_AIA_902_msc2022_group-44/wandb/run-20220603_162125-v8y32gtp</code>"
      ],
      "text/plain": [
       "<IPython.core.display.HTML object>"
      ]
     },
     "metadata": {},
     "output_type": "display_data"
    },
    {
     "data": {
      "text/html": [
       "Syncing run <strong><a href=\"https://wandb.ai/hugoallegaert/uncategorized/runs/v8y32gtp\" target=\"_blank\">winter-sweep-43</a></strong> to <a href=\"https://wandb.ai/hugoallegaert/uncategorized\" target=\"_blank\">Weights & Biases</a> (<a href=\"https://wandb.me/run\" target=\"_blank\">docs</a>)<br/>Sweep page:  <a href=\"https://wandb.ai/hugoallegaert/uncategorized/sweeps/vhfjmlpf\" target=\"_blank\">https://wandb.ai/hugoallegaert/uncategorized/sweeps/vhfjmlpf</a>"
      ],
      "text/plain": [
       "<IPython.core.display.HTML object>"
      ]
     },
     "metadata": {},
     "output_type": "display_data"
    },
    {
     "name": "stdout",
     "output_type": "stream",
     "text": [
      "Training episode: 1/900\n",
      "Episode 0\tAverage Score: -379.00\n",
      "Training episode: 101/900\n",
      "Episode 100\tAverage Score: -387.43\n",
      "Training episode: 201/900\n",
      "Episode 200\tAverage Score: -395.88\n",
      "Training episode: 301/900\n",
      "Episode 300\tAverage Score: -290.93\n",
      "Training episode: 401/900\n",
      "Episode 400\tAverage Score: -172.18\n",
      "Training episode: 501/900\n",
      "Episode 500\tAverage Score: -126.28\n",
      "Training episode: 601/900\n",
      "Episode 600\tAverage Score: -110.44\n",
      "Training episode: 701/900\n",
      "Episode 700\tAverage Score: -106.66\n",
      "Training episode: 801/900\n",
      "Episode 800\tAverage Score: -103.78\n",
      "Training episode: 900/900\n"
     ]
    },
    {
     "data": {
      "text/html": [
       "Waiting for W&B process to finish... <strong style=\"color:green\">(success).</strong>"
      ],
      "text/plain": [
       "<IPython.core.display.HTML object>"
      ]
     },
     "metadata": {},
     "output_type": "display_data"
    },
    {
     "data": {
      "application/vnd.jupyter.widget-view+json": {
       "model_id": "",
       "version_major": 2,
       "version_minor": 0
      },
      "text/plain": [
       "VBox(children=(Label(value='0.001 MB of 0.001 MB uploaded (0.000 MB deduped)\\r'), FloatProgress(value=1.0, max…"
      ]
     },
     "metadata": {},
     "output_type": "display_data"
    },
    {
     "data": {
      "text/html": [
       "<style>\n",
       "    table.wandb td:nth-child(1) { padding: 0 10px; text-align: right }\n",
       "    .wandb-row { display: flex; flex-direction: row; flex-wrap: wrap; width: 100% }\n",
       "    .wandb-col { display: flex; flex-direction: column; flex-basis: 100%; flex: 1; padding: 10px; }\n",
       "    </style>\n",
       "<div class=\"wandb-row\"><div class=\"wandb-col\"><h3>Run history:</h3><br/><table class=\"wandb\"><tr><td>reward</td><td>▁</td></tr></table><br/></div><div class=\"wandb-col\"><h3>Run summary:</h3><br/><table class=\"wandb\"><tr><td>reward</td><td>-102.61</td></tr></table><br/></div></div>"
      ],
      "text/plain": [
       "<IPython.core.display.HTML object>"
      ]
     },
     "metadata": {},
     "output_type": "display_data"
    },
    {
     "data": {
      "text/html": [
       "Synced <strong style=\"color:#cdcd00\">winter-sweep-43</strong>: <a href=\"https://wandb.ai/hugoallegaert/uncategorized/runs/v8y32gtp\" target=\"_blank\">https://wandb.ai/hugoallegaert/uncategorized/runs/v8y32gtp</a><br/>Synced 5 W&B file(s), 0 media file(s), 0 artifact file(s) and 0 other file(s)"
      ],
      "text/plain": [
       "<IPython.core.display.HTML object>"
      ]
     },
     "metadata": {},
     "output_type": "display_data"
    },
    {
     "data": {
      "text/html": [
       "Find logs at: <code>./wandb/run-20220603_162125-v8y32gtp/logs</code>"
      ],
      "text/plain": [
       "<IPython.core.display.HTML object>"
      ]
     },
     "metadata": {},
     "output_type": "display_data"
    },
    {
     "name": "stderr",
     "output_type": "stream",
     "text": [
      "\u001b[34m\u001b[1mwandb\u001b[0m: Sweep Agent: Waiting for job.\n",
      "\u001b[34m\u001b[1mwandb\u001b[0m: Job received.\n",
      "\u001b[34m\u001b[1mwandb\u001b[0m: Agent Starting Run: al5j5914 with config:\n",
      "\u001b[34m\u001b[1mwandb\u001b[0m: \tbatch_size: 458\n",
      "\u001b[34m\u001b[1mwandb\u001b[0m: \tepochs: 900\n",
      "\u001b[34m\u001b[1mwandb\u001b[0m: \teps_decay: 161\n",
      "\u001b[34m\u001b[1mwandb\u001b[0m: \tgamma: 0.9873471168853172\n",
      "\u001b[34m\u001b[1mwandb\u001b[0m: \tloss: mse\n",
      "\u001b[34m\u001b[1mwandb\u001b[0m: \tlr_decay: 374\n",
      "\u001b[34m\u001b[1mwandb\u001b[0m: \tmemory_size: 60000\n",
      "\u001b[34m\u001b[1mwandb\u001b[0m: \ttarget_update: 30\n"
     ]
    },
    {
     "data": {
      "text/html": [
       "wandb version 0.12.17 is available!  To upgrade, please run:\n",
       " $ pip install wandb --upgrade"
      ],
      "text/plain": [
       "<IPython.core.display.HTML object>"
      ]
     },
     "metadata": {},
     "output_type": "display_data"
    },
    {
     "data": {
      "text/html": [
       "Tracking run with wandb version 0.12.11"
      ],
      "text/plain": [
       "<IPython.core.display.HTML object>"
      ]
     },
     "metadata": {},
     "output_type": "display_data"
    },
    {
     "data": {
      "text/html": [
       "Run data is saved locally in <code>/Users/utilisateur/Epitech/T_AIA_902_msc2022_group-44/wandb/run-20220603_162501-al5j5914</code>"
      ],
      "text/plain": [
       "<IPython.core.display.HTML object>"
      ]
     },
     "metadata": {},
     "output_type": "display_data"
    },
    {
     "data": {
      "text/html": [
       "Syncing run <strong><a href=\"https://wandb.ai/hugoallegaert/uncategorized/runs/al5j5914\" target=\"_blank\">absurd-sweep-44</a></strong> to <a href=\"https://wandb.ai/hugoallegaert/uncategorized\" target=\"_blank\">Weights & Biases</a> (<a href=\"https://wandb.me/run\" target=\"_blank\">docs</a>)<br/>Sweep page:  <a href=\"https://wandb.ai/hugoallegaert/uncategorized/sweeps/vhfjmlpf\" target=\"_blank\">https://wandb.ai/hugoallegaert/uncategorized/sweeps/vhfjmlpf</a>"
      ],
      "text/plain": [
       "<IPython.core.display.HTML object>"
      ]
     },
     "metadata": {},
     "output_type": "display_data"
    },
    {
     "name": "stdout",
     "output_type": "stream",
     "text": [
      "Training episode: 1/900\n",
      "Episode 0\tAverage Score: -406.00\n",
      "Training episode: 101/900\n",
      "Episode 100\tAverage Score: -389.38\n",
      "Training episode: 201/900\n",
      "Episode 200\tAverage Score: -385.32\n",
      "Training episode: 301/900\n",
      "Episode 300\tAverage Score: -196.21\n",
      "Training episode: 401/900\n",
      "Episode 400\tAverage Score: -109.72\n",
      "Training episode: 501/900\n",
      "Episode 500\tAverage Score: -100.70\n",
      "Training episode: 601/900\n",
      "Episode 600\tAverage Score: -90.54\n",
      "Training episode: 701/900\n",
      "Episode 700\tAverage Score: -88.24\n",
      "Training episode: 801/900\n",
      "Episode 800\tAverage Score: -69.53\n",
      "Training episode: 900/900\n"
     ]
    },
    {
     "data": {
      "text/html": [
       "Waiting for W&B process to finish... <strong style=\"color:green\">(success).</strong>"
      ],
      "text/plain": [
       "<IPython.core.display.HTML object>"
      ]
     },
     "metadata": {},
     "output_type": "display_data"
    },
    {
     "data": {
      "application/vnd.jupyter.widget-view+json": {
       "model_id": "",
       "version_major": 2,
       "version_minor": 0
      },
      "text/plain": [
       "VBox(children=(Label(value='0.001 MB of 0.001 MB uploaded (0.000 MB deduped)\\r'), FloatProgress(value=1.0, max…"
      ]
     },
     "metadata": {},
     "output_type": "display_data"
    },
    {
     "data": {
      "text/html": [
       "<style>\n",
       "    table.wandb td:nth-child(1) { padding: 0 10px; text-align: right }\n",
       "    .wandb-row { display: flex; flex-direction: row; flex-wrap: wrap; width: 100% }\n",
       "    .wandb-col { display: flex; flex-direction: column; flex-basis: 100%; flex: 1; padding: 10px; }\n",
       "    </style>\n",
       "<div class=\"wandb-row\"><div class=\"wandb-col\"><h3>Run history:</h3><br/><table class=\"wandb\"><tr><td>reward</td><td>▁</td></tr></table><br/></div><div class=\"wandb-col\"><h3>Run summary:</h3><br/><table class=\"wandb\"><tr><td>reward</td><td>-88.92</td></tr></table><br/></div></div>"
      ],
      "text/plain": [
       "<IPython.core.display.HTML object>"
      ]
     },
     "metadata": {},
     "output_type": "display_data"
    },
    {
     "data": {
      "text/html": [
       "Synced <strong style=\"color:#cdcd00\">absurd-sweep-44</strong>: <a href=\"https://wandb.ai/hugoallegaert/uncategorized/runs/al5j5914\" target=\"_blank\">https://wandb.ai/hugoallegaert/uncategorized/runs/al5j5914</a><br/>Synced 5 W&B file(s), 0 media file(s), 0 artifact file(s) and 0 other file(s)"
      ],
      "text/plain": [
       "<IPython.core.display.HTML object>"
      ]
     },
     "metadata": {},
     "output_type": "display_data"
    },
    {
     "data": {
      "text/html": [
       "Find logs at: <code>./wandb/run-20220603_162501-al5j5914/logs</code>"
      ],
      "text/plain": [
       "<IPython.core.display.HTML object>"
      ]
     },
     "metadata": {},
     "output_type": "display_data"
    },
    {
     "name": "stderr",
     "output_type": "stream",
     "text": [
      "\u001b[34m\u001b[1mwandb\u001b[0m: Agent Starting Run: hicdfeh1 with config:\n",
      "\u001b[34m\u001b[1mwandb\u001b[0m: \tbatch_size: 118\n",
      "\u001b[34m\u001b[1mwandb\u001b[0m: \tepochs: 900\n",
      "\u001b[34m\u001b[1mwandb\u001b[0m: \teps_decay: 92\n",
      "\u001b[34m\u001b[1mwandb\u001b[0m: \tgamma: 0.5190345213953869\n",
      "\u001b[34m\u001b[1mwandb\u001b[0m: \tloss: mse\n",
      "\u001b[34m\u001b[1mwandb\u001b[0m: \tlr_decay: 326\n",
      "\u001b[34m\u001b[1mwandb\u001b[0m: \tmemory_size: 1025\n",
      "\u001b[34m\u001b[1mwandb\u001b[0m: \ttarget_update: 34\n"
     ]
    },
    {
     "data": {
      "text/html": [
       "wandb version 0.12.17 is available!  To upgrade, please run:\n",
       " $ pip install wandb --upgrade"
      ],
      "text/plain": [
       "<IPython.core.display.HTML object>"
      ]
     },
     "metadata": {},
     "output_type": "display_data"
    },
    {
     "data": {
      "text/html": [
       "Tracking run with wandb version 0.12.11"
      ],
      "text/plain": [
       "<IPython.core.display.HTML object>"
      ]
     },
     "metadata": {},
     "output_type": "display_data"
    },
    {
     "data": {
      "text/html": [
       "Run data is saved locally in <code>/Users/utilisateur/Epitech/T_AIA_902_msc2022_group-44/wandb/run-20220603_162945-hicdfeh1</code>"
      ],
      "text/plain": [
       "<IPython.core.display.HTML object>"
      ]
     },
     "metadata": {},
     "output_type": "display_data"
    },
    {
     "data": {
      "text/html": [
       "Syncing run <strong><a href=\"https://wandb.ai/hugoallegaert/uncategorized/runs/hicdfeh1\" target=\"_blank\">polar-sweep-45</a></strong> to <a href=\"https://wandb.ai/hugoallegaert/uncategorized\" target=\"_blank\">Weights & Biases</a> (<a href=\"https://wandb.me/run\" target=\"_blank\">docs</a>)<br/>Sweep page:  <a href=\"https://wandb.ai/hugoallegaert/uncategorized/sweeps/vhfjmlpf\" target=\"_blank\">https://wandb.ai/hugoallegaert/uncategorized/sweeps/vhfjmlpf</a>"
      ],
      "text/plain": [
       "<IPython.core.display.HTML object>"
      ]
     },
     "metadata": {},
     "output_type": "display_data"
    },
    {
     "name": "stdout",
     "output_type": "stream",
     "text": [
      "Training episode: 1/900\n",
      "Episode 0\tAverage Score: -325.00\n",
      "Training episode: 101/900\n",
      "Episode 100\tAverage Score: -381.52\n",
      "Training episode: 201/900\n",
      "Episode 200\tAverage Score: -383.75\n",
      "Training episode: 301/900\n",
      "Episode 300\tAverage Score: -155.14\n",
      "Training episode: 401/900\n",
      "Episode 400\tAverage Score: -103.42\n",
      "Training episode: 501/900\n",
      "Episode 500\tAverage Score: -102.52\n",
      "Training episode: 601/900\n",
      "Episode 600\tAverage Score: -102.16\n",
      "Training episode: 701/900\n",
      "Episode 700\tAverage Score: -103.15\n",
      "Training episode: 801/900\n",
      "Episode 800\tAverage Score: -102.97\n",
      "Training episode: 900/900\n"
     ]
    },
    {
     "data": {
      "text/html": [
       "Waiting for W&B process to finish... <strong style=\"color:green\">(success).</strong>"
      ],
      "text/plain": [
       "<IPython.core.display.HTML object>"
      ]
     },
     "metadata": {},
     "output_type": "display_data"
    },
    {
     "data": {
      "application/vnd.jupyter.widget-view+json": {
       "model_id": "",
       "version_major": 2,
       "version_minor": 0
      },
      "text/plain": [
       "VBox(children=(Label(value='0.001 MB of 0.001 MB uploaded (0.000 MB deduped)\\r'), FloatProgress(value=1.0, max…"
      ]
     },
     "metadata": {},
     "output_type": "display_data"
    },
    {
     "data": {
      "text/html": [
       "<style>\n",
       "    table.wandb td:nth-child(1) { padding: 0 10px; text-align: right }\n",
       "    .wandb-row { display: flex; flex-direction: row; flex-wrap: wrap; width: 100% }\n",
       "    .wandb-col { display: flex; flex-direction: column; flex-basis: 100%; flex: 1; padding: 10px; }\n",
       "    </style>\n",
       "<div class=\"wandb-row\"><div class=\"wandb-col\"><h3>Run history:</h3><br/><table class=\"wandb\"><tr><td>reward</td><td>▁</td></tr></table><br/></div><div class=\"wandb-col\"><h3>Run summary:</h3><br/><table class=\"wandb\"><tr><td>reward</td><td>-102.43</td></tr></table><br/></div></div>"
      ],
      "text/plain": [
       "<IPython.core.display.HTML object>"
      ]
     },
     "metadata": {},
     "output_type": "display_data"
    },
    {
     "data": {
      "text/html": [
       "Synced <strong style=\"color:#cdcd00\">polar-sweep-45</strong>: <a href=\"https://wandb.ai/hugoallegaert/uncategorized/runs/hicdfeh1\" target=\"_blank\">https://wandb.ai/hugoallegaert/uncategorized/runs/hicdfeh1</a><br/>Synced 5 W&B file(s), 0 media file(s), 0 artifact file(s) and 0 other file(s)"
      ],
      "text/plain": [
       "<IPython.core.display.HTML object>"
      ]
     },
     "metadata": {},
     "output_type": "display_data"
    },
    {
     "data": {
      "text/html": [
       "Find logs at: <code>./wandb/run-20220603_162945-hicdfeh1/logs</code>"
      ],
      "text/plain": [
       "<IPython.core.display.HTML object>"
      ]
     },
     "metadata": {},
     "output_type": "display_data"
    },
    {
     "name": "stderr",
     "output_type": "stream",
     "text": [
      "\u001b[34m\u001b[1mwandb\u001b[0m: Agent Starting Run: djwztov4 with config:\n",
      "\u001b[34m\u001b[1mwandb\u001b[0m: \tbatch_size: 242\n",
      "\u001b[34m\u001b[1mwandb\u001b[0m: \tepochs: 900\n",
      "\u001b[34m\u001b[1mwandb\u001b[0m: \teps_decay: 485\n",
      "\u001b[34m\u001b[1mwandb\u001b[0m: \tgamma: 0.37805371480914407\n",
      "\u001b[34m\u001b[1mwandb\u001b[0m: \tloss: mae\n",
      "\u001b[34m\u001b[1mwandb\u001b[0m: \tlr_decay: 186\n",
      "\u001b[34m\u001b[1mwandb\u001b[0m: \tmemory_size: 2048\n",
      "\u001b[34m\u001b[1mwandb\u001b[0m: \ttarget_update: 4\n"
     ]
    },
    {
     "data": {
      "text/html": [
       "wandb version 0.12.17 is available!  To upgrade, please run:\n",
       " $ pip install wandb --upgrade"
      ],
      "text/plain": [
       "<IPython.core.display.HTML object>"
      ]
     },
     "metadata": {},
     "output_type": "display_data"
    },
    {
     "data": {
      "text/html": [
       "Tracking run with wandb version 0.12.11"
      ],
      "text/plain": [
       "<IPython.core.display.HTML object>"
      ]
     },
     "metadata": {},
     "output_type": "display_data"
    },
    {
     "data": {
      "text/html": [
       "Run data is saved locally in <code>/Users/utilisateur/Epitech/T_AIA_902_msc2022_group-44/wandb/run-20220603_163237-djwztov4</code>"
      ],
      "text/plain": [
       "<IPython.core.display.HTML object>"
      ]
     },
     "metadata": {},
     "output_type": "display_data"
    },
    {
     "data": {
      "text/html": [
       "Syncing run <strong><a href=\"https://wandb.ai/hugoallegaert/uncategorized/runs/djwztov4\" target=\"_blank\">glowing-sweep-46</a></strong> to <a href=\"https://wandb.ai/hugoallegaert/uncategorized\" target=\"_blank\">Weights & Biases</a> (<a href=\"https://wandb.me/run\" target=\"_blank\">docs</a>)<br/>Sweep page:  <a href=\"https://wandb.ai/hugoallegaert/uncategorized/sweeps/vhfjmlpf\" target=\"_blank\">https://wandb.ai/hugoallegaert/uncategorized/sweeps/vhfjmlpf</a>"
      ],
      "text/plain": [
       "<IPython.core.display.HTML object>"
      ]
     },
     "metadata": {},
     "output_type": "display_data"
    },
    {
     "name": "stdout",
     "output_type": "stream",
     "text": [
      "Training episode: 1/900\n",
      "Episode 0\tAverage Score: -370.00\n",
      "Training episode: 101/900\n",
      "Episode 100\tAverage Score: -390.86\n",
      "Training episode: 201/900\n",
      "Episode 200\tAverage Score: -389.89\n",
      "Training episode: 301/900\n",
      "Episode 300\tAverage Score: -286.12\n",
      "Training episode: 401/900\n",
      "Episode 400\tAverage Score: -176.39\n",
      "Training episode: 501/900\n",
      "Episode 500\tAverage Score: -128.08\n",
      "Training episode: 601/900\n",
      "Episode 600\tAverage Score: -113.68\n",
      "Training episode: 701/900\n",
      "Episode 700\tAverage Score: -106.39\n",
      "Training episode: 801/900\n",
      "Episode 800\tAverage Score: -104.68\n",
      "Training episode: 900/900\n"
     ]
    },
    {
     "data": {
      "text/html": [
       "Waiting for W&B process to finish... <strong style=\"color:green\">(success).</strong>"
      ],
      "text/plain": [
       "<IPython.core.display.HTML object>"
      ]
     },
     "metadata": {},
     "output_type": "display_data"
    },
    {
     "data": {
      "application/vnd.jupyter.widget-view+json": {
       "model_id": "",
       "version_major": 2,
       "version_minor": 0
      },
      "text/plain": [
       "VBox(children=(Label(value='0.001 MB of 0.001 MB uploaded (0.000 MB deduped)\\r'), FloatProgress(value=1.0, max…"
      ]
     },
     "metadata": {},
     "output_type": "display_data"
    },
    {
     "data": {
      "text/html": [
       "<style>\n",
       "    table.wandb td:nth-child(1) { padding: 0 10px; text-align: right }\n",
       "    .wandb-row { display: flex; flex-direction: row; flex-wrap: wrap; width: 100% }\n",
       "    .wandb-col { display: flex; flex-direction: column; flex-basis: 100%; flex: 1; padding: 10px; }\n",
       "    </style>\n",
       "<div class=\"wandb-row\"><div class=\"wandb-col\"><h3>Run history:</h3><br/><table class=\"wandb\"><tr><td>reward</td><td>▁</td></tr></table><br/></div><div class=\"wandb-col\"><h3>Run summary:</h3><br/><table class=\"wandb\"><tr><td>reward</td><td>-105.58</td></tr></table><br/></div></div>"
      ],
      "text/plain": [
       "<IPython.core.display.HTML object>"
      ]
     },
     "metadata": {},
     "output_type": "display_data"
    },
    {
     "data": {
      "text/html": [
       "Synced <strong style=\"color:#cdcd00\">glowing-sweep-46</strong>: <a href=\"https://wandb.ai/hugoallegaert/uncategorized/runs/djwztov4\" target=\"_blank\">https://wandb.ai/hugoallegaert/uncategorized/runs/djwztov4</a><br/>Synced 5 W&B file(s), 0 media file(s), 0 artifact file(s) and 0 other file(s)"
      ],
      "text/plain": [
       "<IPython.core.display.HTML object>"
      ]
     },
     "metadata": {},
     "output_type": "display_data"
    },
    {
     "data": {
      "text/html": [
       "Find logs at: <code>./wandb/run-20220603_163237-djwztov4/logs</code>"
      ],
      "text/plain": [
       "<IPython.core.display.HTML object>"
      ]
     },
     "metadata": {},
     "output_type": "display_data"
    },
    {
     "name": "stderr",
     "output_type": "stream",
     "text": [
      "\u001b[34m\u001b[1mwandb\u001b[0m: Agent Starting Run: tw9bmpdg with config:\n",
      "\u001b[34m\u001b[1mwandb\u001b[0m: \tbatch_size: 181\n",
      "\u001b[34m\u001b[1mwandb\u001b[0m: \tepochs: 900\n",
      "\u001b[34m\u001b[1mwandb\u001b[0m: \teps_decay: 344\n",
      "\u001b[34m\u001b[1mwandb\u001b[0m: \tgamma: 0.21048862497411747\n",
      "\u001b[34m\u001b[1mwandb\u001b[0m: \tloss: mse\n",
      "\u001b[34m\u001b[1mwandb\u001b[0m: \tlr_decay: 191\n",
      "\u001b[34m\u001b[1mwandb\u001b[0m: \tmemory_size: 2048\n",
      "\u001b[34m\u001b[1mwandb\u001b[0m: \ttarget_update: 5\n"
     ]
    },
    {
     "data": {
      "text/html": [
       "wandb version 0.12.17 is available!  To upgrade, please run:\n",
       " $ pip install wandb --upgrade"
      ],
      "text/plain": [
       "<IPython.core.display.HTML object>"
      ]
     },
     "metadata": {},
     "output_type": "display_data"
    },
    {
     "data": {
      "text/html": [
       "Tracking run with wandb version 0.12.11"
      ],
      "text/plain": [
       "<IPython.core.display.HTML object>"
      ]
     },
     "metadata": {},
     "output_type": "display_data"
    },
    {
     "data": {
      "text/html": [
       "Run data is saved locally in <code>/Users/utilisateur/Epitech/T_AIA_902_msc2022_group-44/wandb/run-20220603_163607-tw9bmpdg</code>"
      ],
      "text/plain": [
       "<IPython.core.display.HTML object>"
      ]
     },
     "metadata": {},
     "output_type": "display_data"
    },
    {
     "data": {
      "text/html": [
       "Syncing run <strong><a href=\"https://wandb.ai/hugoallegaert/uncategorized/runs/tw9bmpdg\" target=\"_blank\">gentle-sweep-47</a></strong> to <a href=\"https://wandb.ai/hugoallegaert/uncategorized\" target=\"_blank\">Weights & Biases</a> (<a href=\"https://wandb.me/run\" target=\"_blank\">docs</a>)<br/>Sweep page:  <a href=\"https://wandb.ai/hugoallegaert/uncategorized/sweeps/vhfjmlpf\" target=\"_blank\">https://wandb.ai/hugoallegaert/uncategorized/sweeps/vhfjmlpf</a>"
      ],
      "text/plain": [
       "<IPython.core.display.HTML object>"
      ]
     },
     "metadata": {},
     "output_type": "display_data"
    },
    {
     "name": "stdout",
     "output_type": "stream",
     "text": [
      "Training episode: 1/900\n",
      "Episode 0\tAverage Score: -424.00\n",
      "Training episode: 101/900\n",
      "Episode 100\tAverage Score: -395.57\n",
      "Training episode: 201/900\n",
      "Episode 200\tAverage Score: -387.43\n",
      "Training episode: 301/900\n",
      "Episode 300\tAverage Score: -258.68\n",
      "Training episode: 401/900\n",
      "Episode 400\tAverage Score: -143.72\n",
      "Training episode: 501/900\n",
      "Episode 500\tAverage Score: -112.27\n",
      "Training episode: 601/900\n",
      "Episode 600\tAverage Score: -103.57\n",
      "Training episode: 701/900\n",
      "Episode 700\tAverage Score: -101.57\n",
      "Training episode: 801/900\n",
      "Episode 800\tAverage Score: -103.06\n",
      "Training episode: 900/900\n"
     ]
    },
    {
     "data": {
      "text/html": [
       "Waiting for W&B process to finish... <strong style=\"color:green\">(success).</strong>"
      ],
      "text/plain": [
       "<IPython.core.display.HTML object>"
      ]
     },
     "metadata": {},
     "output_type": "display_data"
    },
    {
     "data": {
      "application/vnd.jupyter.widget-view+json": {
       "model_id": "",
       "version_major": 2,
       "version_minor": 0
      },
      "text/plain": [
       "VBox(children=(Label(value='0.001 MB of 0.001 MB uploaded (0.000 MB deduped)\\r'), FloatProgress(value=1.0, max…"
      ]
     },
     "metadata": {},
     "output_type": "display_data"
    },
    {
     "data": {
      "text/html": [
       "<style>\n",
       "    table.wandb td:nth-child(1) { padding: 0 10px; text-align: right }\n",
       "    .wandb-row { display: flex; flex-direction: row; flex-wrap: wrap; width: 100% }\n",
       "    .wandb-col { display: flex; flex-direction: column; flex-basis: 100%; flex: 1; padding: 10px; }\n",
       "    </style>\n",
       "<div class=\"wandb-row\"><div class=\"wandb-col\"><h3>Run history:</h3><br/><table class=\"wandb\"><tr><td>reward</td><td>▁</td></tr></table><br/></div><div class=\"wandb-col\"><h3>Run summary:</h3><br/><table class=\"wandb\"><tr><td>reward</td><td>-102.25</td></tr></table><br/></div></div>"
      ],
      "text/plain": [
       "<IPython.core.display.HTML object>"
      ]
     },
     "metadata": {},
     "output_type": "display_data"
    },
    {
     "data": {
      "text/html": [
       "Synced <strong style=\"color:#cdcd00\">gentle-sweep-47</strong>: <a href=\"https://wandb.ai/hugoallegaert/uncategorized/runs/tw9bmpdg\" target=\"_blank\">https://wandb.ai/hugoallegaert/uncategorized/runs/tw9bmpdg</a><br/>Synced 5 W&B file(s), 0 media file(s), 0 artifact file(s) and 0 other file(s)"
      ],
      "text/plain": [
       "<IPython.core.display.HTML object>"
      ]
     },
     "metadata": {},
     "output_type": "display_data"
    },
    {
     "data": {
      "text/html": [
       "Find logs at: <code>./wandb/run-20220603_163607-tw9bmpdg/logs</code>"
      ],
      "text/plain": [
       "<IPython.core.display.HTML object>"
      ]
     },
     "metadata": {},
     "output_type": "display_data"
    },
    {
     "name": "stderr",
     "output_type": "stream",
     "text": [
      "\u001b[34m\u001b[1mwandb\u001b[0m: Agent Starting Run: c2ct5oe2 with config:\n",
      "\u001b[34m\u001b[1mwandb\u001b[0m: \tbatch_size: 409\n",
      "\u001b[34m\u001b[1mwandb\u001b[0m: \tepochs: 900\n",
      "\u001b[34m\u001b[1mwandb\u001b[0m: \teps_decay: 137\n",
      "\u001b[34m\u001b[1mwandb\u001b[0m: \tgamma: 0.9616054536600162\n",
      "\u001b[34m\u001b[1mwandb\u001b[0m: \tloss: mse\n",
      "\u001b[34m\u001b[1mwandb\u001b[0m: \tlr_decay: 271\n",
      "\u001b[34m\u001b[1mwandb\u001b[0m: \tmemory_size: 60000\n",
      "\u001b[34m\u001b[1mwandb\u001b[0m: \ttarget_update: 21\n"
     ]
    },
    {
     "data": {
      "text/html": [
       "wandb version 0.12.17 is available!  To upgrade, please run:\n",
       " $ pip install wandb --upgrade"
      ],
      "text/plain": [
       "<IPython.core.display.HTML object>"
      ]
     },
     "metadata": {},
     "output_type": "display_data"
    },
    {
     "data": {
      "text/html": [
       "Tracking run with wandb version 0.12.11"
      ],
      "text/plain": [
       "<IPython.core.display.HTML object>"
      ]
     },
     "metadata": {},
     "output_type": "display_data"
    },
    {
     "data": {
      "text/html": [
       "Run data is saved locally in <code>/Users/utilisateur/Epitech/T_AIA_902_msc2022_group-44/wandb/run-20220603_163924-c2ct5oe2</code>"
      ],
      "text/plain": [
       "<IPython.core.display.HTML object>"
      ]
     },
     "metadata": {},
     "output_type": "display_data"
    },
    {
     "data": {
      "text/html": [
       "Syncing run <strong><a href=\"https://wandb.ai/hugoallegaert/uncategorized/runs/c2ct5oe2\" target=\"_blank\">valiant-sweep-48</a></strong> to <a href=\"https://wandb.ai/hugoallegaert/uncategorized\" target=\"_blank\">Weights & Biases</a> (<a href=\"https://wandb.me/run\" target=\"_blank\">docs</a>)<br/>Sweep page:  <a href=\"https://wandb.ai/hugoallegaert/uncategorized/sweeps/vhfjmlpf\" target=\"_blank\">https://wandb.ai/hugoallegaert/uncategorized/sweeps/vhfjmlpf</a>"
      ],
      "text/plain": [
       "<IPython.core.display.HTML object>"
      ]
     },
     "metadata": {},
     "output_type": "display_data"
    },
    {
     "name": "stdout",
     "output_type": "stream",
     "text": [
      "Training episode: 1/900\n",
      "Episode 0\tAverage Score: -397.00\n",
      "Training episode: 101/900\n",
      "Episode 100\tAverage Score: -411.15\n",
      "Training episode: 201/900\n",
      "Episode 200\tAverage Score: -408.41\n",
      "Training episode: 301/900\n",
      "Episode 300\tAverage Score: -176.73\n",
      "Training episode: 401/900\n",
      "Episode 400\tAverage Score: -102.19\n",
      "Training episode: 501/900\n",
      "Episode 500\tAverage Score: -94.50\n",
      "Training episode: 601/900\n",
      "Episode 600\tAverage Score: -80.42\n",
      "Training episode: 701/900\n",
      "Episode 700\tAverage Score: -80.80\n",
      "Training episode: 801/900\n",
      "Episode 800\tAverage Score: -73.18\n",
      "Training episode: 900/900\n"
     ]
    },
    {
     "data": {
      "text/html": [
       "Waiting for W&B process to finish... <strong style=\"color:green\">(success).</strong>"
      ],
      "text/plain": [
       "<IPython.core.display.HTML object>"
      ]
     },
     "metadata": {},
     "output_type": "display_data"
    },
    {
     "data": {
      "application/vnd.jupyter.widget-view+json": {
       "model_id": "",
       "version_major": 2,
       "version_minor": 0
      },
      "text/plain": [
       "VBox(children=(Label(value='0.001 MB of 0.001 MB uploaded (0.000 MB deduped)\\r'), FloatProgress(value=1.0, max…"
      ]
     },
     "metadata": {},
     "output_type": "display_data"
    },
    {
     "data": {
      "text/html": [
       "<style>\n",
       "    table.wandb td:nth-child(1) { padding: 0 10px; text-align: right }\n",
       "    .wandb-row { display: flex; flex-direction: row; flex-wrap: wrap; width: 100% }\n",
       "    .wandb-col { display: flex; flex-direction: column; flex-basis: 100%; flex: 1; padding: 10px; }\n",
       "    </style>\n",
       "<div class=\"wandb-row\"><div class=\"wandb-col\"><h3>Run history:</h3><br/><table class=\"wandb\"><tr><td>reward</td><td>▁</td></tr></table><br/></div><div class=\"wandb-col\"><h3>Run summary:</h3><br/><table class=\"wandb\"><tr><td>reward</td><td>-83.03</td></tr></table><br/></div></div>"
      ],
      "text/plain": [
       "<IPython.core.display.HTML object>"
      ]
     },
     "metadata": {},
     "output_type": "display_data"
    },
    {
     "data": {
      "text/html": [
       "Synced <strong style=\"color:#cdcd00\">valiant-sweep-48</strong>: <a href=\"https://wandb.ai/hugoallegaert/uncategorized/runs/c2ct5oe2\" target=\"_blank\">https://wandb.ai/hugoallegaert/uncategorized/runs/c2ct5oe2</a><br/>Synced 5 W&B file(s), 0 media file(s), 0 artifact file(s) and 0 other file(s)"
      ],
      "text/plain": [
       "<IPython.core.display.HTML object>"
      ]
     },
     "metadata": {},
     "output_type": "display_data"
    },
    {
     "data": {
      "text/html": [
       "Find logs at: <code>./wandb/run-20220603_163924-c2ct5oe2/logs</code>"
      ],
      "text/plain": [
       "<IPython.core.display.HTML object>"
      ]
     },
     "metadata": {},
     "output_type": "display_data"
    },
    {
     "name": "stderr",
     "output_type": "stream",
     "text": [
      "\u001b[34m\u001b[1mwandb\u001b[0m: Sweep Agent: Waiting for job.\n",
      "\u001b[34m\u001b[1mwandb\u001b[0m: Job received.\n",
      "\u001b[34m\u001b[1mwandb\u001b[0m: Agent Starting Run: m5gfn0ef with config:\n",
      "\u001b[34m\u001b[1mwandb\u001b[0m: \tbatch_size: 166\n",
      "\u001b[34m\u001b[1mwandb\u001b[0m: \tepochs: 900\n",
      "\u001b[34m\u001b[1mwandb\u001b[0m: \teps_decay: 444\n",
      "\u001b[34m\u001b[1mwandb\u001b[0m: \tgamma: 0.8859243332411497\n",
      "\u001b[34m\u001b[1mwandb\u001b[0m: \tloss: mse\n",
      "\u001b[34m\u001b[1mwandb\u001b[0m: \tlr_decay: 203\n",
      "\u001b[34m\u001b[1mwandb\u001b[0m: \tmemory_size: 1025\n",
      "\u001b[34m\u001b[1mwandb\u001b[0m: \ttarget_update: 28\n"
     ]
    },
    {
     "data": {
      "text/html": [
       "wandb version 0.12.17 is available!  To upgrade, please run:\n",
       " $ pip install wandb --upgrade"
      ],
      "text/plain": [
       "<IPython.core.display.HTML object>"
      ]
     },
     "metadata": {},
     "output_type": "display_data"
    },
    {
     "data": {
      "text/html": [
       "Tracking run with wandb version 0.12.11"
      ],
      "text/plain": [
       "<IPython.core.display.HTML object>"
      ]
     },
     "metadata": {},
     "output_type": "display_data"
    },
    {
     "data": {
      "text/html": [
       "Run data is saved locally in <code>/Users/utilisateur/Epitech/T_AIA_902_msc2022_group-44/wandb/run-20220603_164356-m5gfn0ef</code>"
      ],
      "text/plain": [
       "<IPython.core.display.HTML object>"
      ]
     },
     "metadata": {},
     "output_type": "display_data"
    },
    {
     "data": {
      "text/html": [
       "Syncing run <strong><a href=\"https://wandb.ai/hugoallegaert/uncategorized/runs/m5gfn0ef\" target=\"_blank\">balmy-sweep-49</a></strong> to <a href=\"https://wandb.ai/hugoallegaert/uncategorized\" target=\"_blank\">Weights & Biases</a> (<a href=\"https://wandb.me/run\" target=\"_blank\">docs</a>)<br/>Sweep page:  <a href=\"https://wandb.ai/hugoallegaert/uncategorized/sweeps/vhfjmlpf\" target=\"_blank\">https://wandb.ai/hugoallegaert/uncategorized/sweeps/vhfjmlpf</a>"
      ],
      "text/plain": [
       "<IPython.core.display.HTML object>"
      ]
     },
     "metadata": {},
     "output_type": "display_data"
    },
    {
     "name": "stdout",
     "output_type": "stream",
     "text": [
      "Training episode: 1/900\n",
      "Episode 0\tAverage Score: -388.00\n",
      "Training episode: 101/900\n",
      "Episode 100\tAverage Score: -395.63\n",
      "Training episode: 201/900\n",
      "Episode 200\tAverage Score: -392.66\n",
      "Training episode: 301/900\n",
      "Episode 300\tAverage Score: -279.56\n",
      "Training episode: 401/900\n",
      "Episode 400\tAverage Score: -164.40\n",
      "Training episode: 501/900\n",
      "Episode 500\tAverage Score: -126.82\n",
      "Training episode: 601/900\n",
      "Episode 600\tAverage Score: -110.62\n",
      "Training episode: 701/900\n",
      "Episode 700\tAverage Score: -104.95\n",
      "Training episode: 801/900\n",
      "Episode 800\tAverage Score: -105.22\n",
      "Training episode: 900/900\n"
     ]
    },
    {
     "data": {
      "text/html": [
       "Waiting for W&B process to finish... <strong style=\"color:green\">(success).</strong>"
      ],
      "text/plain": [
       "<IPython.core.display.HTML object>"
      ]
     },
     "metadata": {},
     "output_type": "display_data"
    },
    {
     "data": {
      "application/vnd.jupyter.widget-view+json": {
       "model_id": "",
       "version_major": 2,
       "version_minor": 0
      },
      "text/plain": [
       "VBox(children=(Label(value='0.001 MB of 0.001 MB uploaded (0.000 MB deduped)\\r'), FloatProgress(value=1.0, max…"
      ]
     },
     "metadata": {},
     "output_type": "display_data"
    },
    {
     "data": {
      "text/html": [
       "<style>\n",
       "    table.wandb td:nth-child(1) { padding: 0 10px; text-align: right }\n",
       "    .wandb-row { display: flex; flex-direction: row; flex-wrap: wrap; width: 100% }\n",
       "    .wandb-col { display: flex; flex-direction: column; flex-basis: 100%; flex: 1; padding: 10px; }\n",
       "    </style>\n",
       "<div class=\"wandb-row\"><div class=\"wandb-col\"><h3>Run history:</h3><br/><table class=\"wandb\"><tr><td>reward</td><td>▁</td></tr></table><br/></div><div class=\"wandb-col\"><h3>Run summary:</h3><br/><table class=\"wandb\"><tr><td>reward</td><td>-103.42</td></tr></table><br/></div></div>"
      ],
      "text/plain": [
       "<IPython.core.display.HTML object>"
      ]
     },
     "metadata": {},
     "output_type": "display_data"
    },
    {
     "data": {
      "text/html": [
       "Synced <strong style=\"color:#cdcd00\">balmy-sweep-49</strong>: <a href=\"https://wandb.ai/hugoallegaert/uncategorized/runs/m5gfn0ef\" target=\"_blank\">https://wandb.ai/hugoallegaert/uncategorized/runs/m5gfn0ef</a><br/>Synced 5 W&B file(s), 0 media file(s), 0 artifact file(s) and 0 other file(s)"
      ],
      "text/plain": [
       "<IPython.core.display.HTML object>"
      ]
     },
     "metadata": {},
     "output_type": "display_data"
    },
    {
     "data": {
      "text/html": [
       "Find logs at: <code>./wandb/run-20220603_164356-m5gfn0ef/logs</code>"
      ],
      "text/plain": [
       "<IPython.core.display.HTML object>"
      ]
     },
     "metadata": {},
     "output_type": "display_data"
    },
    {
     "name": "stderr",
     "output_type": "stream",
     "text": [
      "\u001b[34m\u001b[1mwandb\u001b[0m: Agent Starting Run: umcmest5 with config:\n",
      "\u001b[34m\u001b[1mwandb\u001b[0m: \tbatch_size: 421\n",
      "\u001b[34m\u001b[1mwandb\u001b[0m: \tepochs: 900\n",
      "\u001b[34m\u001b[1mwandb\u001b[0m: \teps_decay: 402\n",
      "\u001b[34m\u001b[1mwandb\u001b[0m: \tgamma: 0.49159222641724026\n",
      "\u001b[34m\u001b[1mwandb\u001b[0m: \tloss: mse\n",
      "\u001b[34m\u001b[1mwandb\u001b[0m: \tlr_decay: 371\n",
      "\u001b[34m\u001b[1mwandb\u001b[0m: \tmemory_size: 60000\n",
      "\u001b[34m\u001b[1mwandb\u001b[0m: \ttarget_update: 48\n"
     ]
    },
    {
     "data": {
      "text/html": [
       "wandb version 0.12.17 is available!  To upgrade, please run:\n",
       " $ pip install wandb --upgrade"
      ],
      "text/plain": [
       "<IPython.core.display.HTML object>"
      ]
     },
     "metadata": {},
     "output_type": "display_data"
    },
    {
     "data": {
      "text/html": [
       "Tracking run with wandb version 0.12.11"
      ],
      "text/plain": [
       "<IPython.core.display.HTML object>"
      ]
     },
     "metadata": {},
     "output_type": "display_data"
    },
    {
     "data": {
      "text/html": [
       "Run data is saved locally in <code>/Users/utilisateur/Epitech/T_AIA_902_msc2022_group-44/wandb/run-20220603_164653-umcmest5</code>"
      ],
      "text/plain": [
       "<IPython.core.display.HTML object>"
      ]
     },
     "metadata": {},
     "output_type": "display_data"
    },
    {
     "data": {
      "text/html": [
       "Syncing run <strong><a href=\"https://wandb.ai/hugoallegaert/uncategorized/runs/umcmest5\" target=\"_blank\">olive-sweep-50</a></strong> to <a href=\"https://wandb.ai/hugoallegaert/uncategorized\" target=\"_blank\">Weights & Biases</a> (<a href=\"https://wandb.me/run\" target=\"_blank\">docs</a>)<br/>Sweep page:  <a href=\"https://wandb.ai/hugoallegaert/uncategorized/sweeps/vhfjmlpf\" target=\"_blank\">https://wandb.ai/hugoallegaert/uncategorized/sweeps/vhfjmlpf</a>"
      ],
      "text/plain": [
       "<IPython.core.display.HTML object>"
      ]
     },
     "metadata": {},
     "output_type": "display_data"
    },
    {
     "name": "stdout",
     "output_type": "stream",
     "text": [
      "Training episode: 1/900\n",
      "Episode 0\tAverage Score: -343.00\n",
      "Training episode: 101/900\n",
      "Episode 100\tAverage Score: -389.82\n",
      "Training episode: 201/900\n",
      "Episode 200\tAverage Score: -388.10\n",
      "Training episode: 301/900\n",
      "Episode 300\tAverage Score: -280.09\n",
      "Training episode: 401/900\n",
      "Episode 400\tAverage Score: -145.54\n",
      "Training episode: 501/900\n",
      "Episode 500\tAverage Score: -116.49\n",
      "Training episode: 601/900\n",
      "Episode 600\tAverage Score: -100.67\n",
      "Training episode: 701/900\n",
      "Episode 700\tAverage Score: -66.07\n",
      "Training episode: 801/900\n",
      "Episode 800\tAverage Score: -45.72\n",
      "Training episode: 900/900\n"
     ]
    },
    {
     "data": {
      "text/html": [
       "Waiting for W&B process to finish... <strong style=\"color:green\">(success).</strong>"
      ],
      "text/plain": [
       "<IPython.core.display.HTML object>"
      ]
     },
     "metadata": {},
     "output_type": "display_data"
    },
    {
     "data": {
      "application/vnd.jupyter.widget-view+json": {
       "model_id": "",
       "version_major": 2,
       "version_minor": 0
      },
      "text/plain": [
       "VBox(children=(Label(value='0.001 MB of 0.001 MB uploaded (0.000 MB deduped)\\r'), FloatProgress(value=1.0, max…"
      ]
     },
     "metadata": {},
     "output_type": "display_data"
    },
    {
     "data": {
      "text/html": [
       "<style>\n",
       "    table.wandb td:nth-child(1) { padding: 0 10px; text-align: right }\n",
       "    .wandb-row { display: flex; flex-direction: row; flex-wrap: wrap; width: 100% }\n",
       "    .wandb-col { display: flex; flex-direction: column; flex-basis: 100%; flex: 1; padding: 10px; }\n",
       "    </style>\n",
       "<div class=\"wandb-row\"><div class=\"wandb-col\"><h3>Run history:</h3><br/><table class=\"wandb\"><tr><td>reward</td><td>▁</td></tr></table><br/></div><div class=\"wandb-col\"><h3>Run summary:</h3><br/><table class=\"wandb\"><tr><td>reward</td><td>-29.79</td></tr></table><br/></div></div>"
      ],
      "text/plain": [
       "<IPython.core.display.HTML object>"
      ]
     },
     "metadata": {},
     "output_type": "display_data"
    },
    {
     "data": {
      "text/html": [
       "Synced <strong style=\"color:#cdcd00\">olive-sweep-50</strong>: <a href=\"https://wandb.ai/hugoallegaert/uncategorized/runs/umcmest5\" target=\"_blank\">https://wandb.ai/hugoallegaert/uncategorized/runs/umcmest5</a><br/>Synced 5 W&B file(s), 0 media file(s), 0 artifact file(s) and 0 other file(s)"
      ],
      "text/plain": [
       "<IPython.core.display.HTML object>"
      ]
     },
     "metadata": {},
     "output_type": "display_data"
    },
    {
     "data": {
      "text/html": [
       "Find logs at: <code>./wandb/run-20220603_164653-umcmest5/logs</code>"
      ],
      "text/plain": [
       "<IPython.core.display.HTML object>"
      ]
     },
     "metadata": {},
     "output_type": "display_data"
    }
   ],
   "source": [
    "def train():\n",
    "    with wandb.init() as run:\n",
    "        config = wandb.config\n",
    "        ac = Config(target_update=config[\"target_update\"], \n",
    "                lr=0.01, \n",
    "                lr_min=0.001, \n",
    "                lr_decay=config[\"lr_decay\"], \n",
    "                gamma=config[\"gamma\"],\n",
    "                loss=config[\"loss\"], \n",
    "                memory_size=config[\"memory_size\"], \n",
    "                batch_size=config[\"batch_size\"], \n",
    "                eps_start=1, \n",
    "                eps_min=0.01, \n",
    "                eps_decay=config[\"eps_decay\"],\n",
    "                learning_start=200,\n",
    "                double_dqn=True)\n",
    "        model = DQNAgent(env=env, config=ac)\n",
    "        reward = model.fit(wandb_log=False, epochs=config[\"epochs\"], save=False)  #  model training \n",
    "        wandb.log({\"reward\": reward})\n",
    "        #wandb.log({\"target_update\": ac.target_update, \"epochs\": config[\"epochs\"], \"lr\": ac.lr, \"gamma\": ac.gamma, \"loss_type\": ac.loss, \"memory_size\": ac.memory_size, \"batch_size\": ac.batch_size})\n",
    "\n",
    "count = 50 # number of runs to execute\n",
    "wandb.agent(sweep_id, function=train, count=count)"
   ]
  },
  {
   "cell_type": "code",
   "execution_count": null,
   "id": "cf72bdb8",
   "metadata": {},
   "outputs": [],
   "source": []
  }
 ],
 "metadata": {
  "kernelspec": {
   "display_name": "Python 3",
   "language": "python",
   "name": "python3"
  },
  "language_info": {
   "codemirror_mode": {
    "name": "ipython",
    "version": 3
   },
   "file_extension": ".py",
   "mimetype": "text/x-python",
   "name": "python",
   "nbconvert_exporter": "python",
   "pygments_lexer": "ipython3",
   "version": "3.8.6"
  }
 },
 "nbformat": 4,
 "nbformat_minor": 5
}
