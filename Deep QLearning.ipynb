{
 "cells": [
  {
   "cell_type": "code",
   "execution_count": 4,
   "id": "4136ec7e",
   "metadata": {},
   "outputs": [],
   "source": [
    "import gym\n",
    "import torch\n",
    "import torch.nn as nn\n",
    "import random\n",
    "from collections import namedtuple\n",
    "import math\n",
    "import numpy as np\n",
    "import time\n",
    "from IPython.display import clear_output\n",
    "import matplotlib\n",
    "import matplotlib.pyplot as plt\n",
    "from IPython import display"
   ]
  },
  {
   "cell_type": "code",
   "execution_count": 19,
   "id": "7b607d98",
   "metadata": {},
   "outputs": [
    {
     "data": {
      "text/html": [
       "Finishing last run (ID:3i0v0z9m) before initializing another..."
      ],
      "text/plain": [
       "<IPython.core.display.HTML object>"
      ]
     },
     "metadata": {},
     "output_type": "display_data"
    },
    {
     "name": "stdout",
     "output_type": "stream",
     "text": [
      "\n"
     ]
    },
    {
     "data": {
      "text/html": [
       "Waiting for W&B process to finish... <strong style=\"color:green\">(success).</strong>"
      ],
      "text/plain": [
       "<IPython.core.display.HTML object>"
      ]
     },
     "metadata": {},
     "output_type": "display_data"
    },
    {
     "data": {
      "application/vnd.jupyter.widget-view+json": {
       "model_id": "",
       "version_major": 2,
       "version_minor": 0
      },
      "text/plain": [
       "VBox(children=(Label(value='0.001 MB of 0.001 MB uploaded (0.000 MB deduped)\\r'), FloatProgress(value=1.0, max…"
      ]
     },
     "metadata": {},
     "output_type": "display_data"
    },
    {
     "data": {
      "text/html": [
       "Synced <strong style=\"color:#cdcd00\">skilled-wind-44</strong>: <a href=\"https://wandb.ai/hugoallegaert/my-test-project/runs/3i0v0z9m\" target=\"_blank\">https://wandb.ai/hugoallegaert/my-test-project/runs/3i0v0z9m</a><br/>Synced 5 W&B file(s), 0 media file(s), 0 artifact file(s) and 0 other file(s)"
      ],
      "text/plain": [
       "<IPython.core.display.HTML object>"
      ]
     },
     "metadata": {},
     "output_type": "display_data"
    },
    {
     "data": {
      "text/html": [
       "Find logs at: <code>./wandb/run-20220529_154528-3i0v0z9m/logs</code>"
      ],
      "text/plain": [
       "<IPython.core.display.HTML object>"
      ]
     },
     "metadata": {},
     "output_type": "display_data"
    },
    {
     "data": {
      "text/html": [
       "Successfully finished last run (ID:3i0v0z9m). Initializing new run:<br/>"
      ],
      "text/plain": [
       "<IPython.core.display.HTML object>"
      ]
     },
     "metadata": {},
     "output_type": "display_data"
    },
    {
     "data": {
      "text/html": [
       "wandb version 0.12.17 is available!  To upgrade, please run:\n",
       " $ pip install wandb --upgrade"
      ],
      "text/plain": [
       "<IPython.core.display.HTML object>"
      ]
     },
     "metadata": {},
     "output_type": "display_data"
    },
    {
     "data": {
      "text/html": [
       "Tracking run with wandb version 0.12.11"
      ],
      "text/plain": [
       "<IPython.core.display.HTML object>"
      ]
     },
     "metadata": {},
     "output_type": "display_data"
    },
    {
     "data": {
      "text/html": [
       "Run data is saved locally in <code>/Users/utilisateur/Epitech/T_AIA_902_msc2022_group-44/wandb/run-20220529_175612-2ovon2xz</code>"
      ],
      "text/plain": [
       "<IPython.core.display.HTML object>"
      ]
     },
     "metadata": {},
     "output_type": "display_data"
    },
    {
     "data": {
      "text/html": [
       "Syncing run <strong><a href=\"https://wandb.ai/hugoallegaert/my-test-project/runs/2ovon2xz\" target=\"_blank\">zesty-bush-53</a></strong> to <a href=\"https://wandb.ai/hugoallegaert/my-test-project\" target=\"_blank\">Weights & Biases</a> (<a href=\"https://wandb.me/run\" target=\"_blank\">docs</a>)<br/>"
      ],
      "text/plain": [
       "<IPython.core.display.HTML object>"
      ]
     },
     "metadata": {},
     "output_type": "display_data"
    },
    {
     "data": {
      "text/html": [
       "<button onClick=\"this.nextSibling.style.display='block';this.style.display='none';\">Display W&B run</button><iframe src=\"https://wandb.ai/hugoallegaert/my-test-project/runs/2ovon2xz?jupyter=true\" style=\"border:none;width:100%;height:420px;display:none;\"></iframe>"
      ],
      "text/plain": [
       "<wandb.sdk.wandb_run.Run at 0x7febb55a62b0>"
      ]
     },
     "execution_count": 19,
     "metadata": {},
     "output_type": "execute_result"
    }
   ],
   "source": [
    "# Init Weights and Biases\n",
    "import wandb\n",
    "\n",
    "wandb.init(project=\"my-test-project\", entity=\"hugoallegaert\")"
   ]
  },
  {
   "cell_type": "code",
   "execution_count": 5,
   "id": "e2c9accb",
   "metadata": {},
   "outputs": [
    {
     "name": "stdout",
     "output_type": "stream",
     "text": [
      "Observation: 500 11 7\n",
      "Action: 6\n"
     ]
    }
   ],
   "source": [
    "env_name = \"Taxi-v3\"\n",
    "env = gym.make(env_name)\n",
    "print('Observation:', env.observation_space.n, env.desc.shape[1], env.desc.shape[0])\n",
    "print('Action:', env.action_space.n)"
   ]
  },
  {
   "cell_type": "markdown",
   "id": "db512049",
   "metadata": {},
   "source": [
    "### Deep QNetwork"
   ]
  },
  {
   "cell_type": "markdown",
   "id": "77d9eda8",
   "metadata": {},
   "source": [
    "nn.module = base for all neural network"
   ]
  },
  {
   "cell_type": "code",
   "execution_count": 6,
   "id": "0b457573",
   "metadata": {},
   "outputs": [],
   "source": [
    "class DQN(nn.Module):\n",
    "    def __init__(self, env):\n",
    "        super().__init__()\n",
    "        # init dqn layer\n",
    "        self.emb = nn.Embedding(500, 10)\n",
    "        self.fc1 = nn.Linear(in_features=10, out_features=50)\n",
    "        self.fc2 = nn.Linear(in_features=50, out_features=50)\n",
    "        self.out_features = nn.Linear(in_features=50, out_features=env.action_space.n)\n",
    "    \n",
    "    def forward(self, input_t):\n",
    "        #print(input_t)\n",
    "        input_t = nn.functional.relu(self.fc1(self.emb(input_t)))\n",
    "        #print(input_t)\n",
    "        #input_t = nn.functional.relu(self.fc1(input_t))\n",
    "        input_t = nn.functional.relu(self.fc2(input_t))\n",
    "        input_t = self.out_features(input_t)\n",
    "        return input_t"
   ]
  },
  {
   "cell_type": "markdown",
   "id": "483c8916",
   "metadata": {},
   "source": [
    "### Experience class"
   ]
  },
  {
   "cell_type": "code",
   "execution_count": 7,
   "id": "062d0925",
   "metadata": {},
   "outputs": [],
   "source": [
    "Experience = namedtuple('Experience', ('state', 'action', 'next_state', 'reward', 'done'))"
   ]
  },
  {
   "cell_type": "markdown",
   "id": "86a8100a",
   "metadata": {},
   "source": [
    "### Replay Memory class"
   ]
  },
  {
   "cell_type": "code",
   "execution_count": 8,
   "id": "0866dcb9",
   "metadata": {},
   "outputs": [],
   "source": [
    "class ReplayMemory():\n",
    "    def __init__(self, capacity):\n",
    "        self.capacity = capacity\n",
    "        self.memory = []\n",
    "        self.push_count = 0\n",
    "        \n",
    "    def push(self, experience):\n",
    "        if len(self.memory) < self.capacity:\n",
    "            self.memory.append(experience)\n",
    "        else:\n",
    "            self.memory[self.push_count % self.capacity] = experience\n",
    "        self.push_count += 1\n",
    "    \n",
    "    def sample(self, batch_size):\n",
    "        return random.sample(self.memory, batch_size)\n",
    "    \n",
    "    def can_provide_sample(self, batch_size):\n",
    "        return len(self.memory) >= batch_size"
   ]
  },
  {
   "cell_type": "markdown",
   "id": "f008b50f",
   "metadata": {},
   "source": [
    "### Epsilon Greedy Strategy class"
   ]
  },
  {
   "cell_type": "code",
   "execution_count": 9,
   "id": "25e8ade6",
   "metadata": {},
   "outputs": [],
   "source": [
    "class EpsilonGreedyStrategy():\n",
    "    def __init__(self, start, end, decay):\n",
    "        self.start = start\n",
    "        self.end = end\n",
    "        self.decay = decay\n",
    "    \n",
    "    def get_exploration_rate(self, current_step):\n",
    "        return self.end + (self.start - self.end) * math.exp(-1. * (current_step) * self.decay) # TODO fix it"
   ]
  },
  {
   "cell_type": "code",
   "execution_count": 462,
   "id": "63aec71a",
   "metadata": {},
   "outputs": [
    {
     "name": "stdout",
     "output_type": "stream",
     "text": [
      "0.0005\n",
      "63.245553203367585\n",
      "0.00344791986523163\n",
      "0.00344791986523163\n",
      "s: 0.00344791986523163\n",
      "0.0023025850929940454\n",
      "test: 0.001999930272878454\n"
     ]
    },
    {
     "data": {
      "image/png": "[encoded data removed]",
      "text/plain": [
       "<Figure size 432x288 with 1 Axes>"
      ]
     },
     "metadata": {
      "needs_background": "light"
     },
     "output_type": "display_data"
    }
   ],
   "source": [
    "def plot_test(e, r):\n",
    "        lines = []\n",
    "        fig = plt.figure(1, figsize=(15, 7))\n",
    "        plt.clf()\n",
    "        ax1 = fig.add_subplot(111)\n",
    "\n",
    "        plt.title('Training...')\n",
    "        ax1.set_xlabel('Episode')\n",
    "        ax1.set_ylabel('Duration & Rewards')\n",
    "        #ax1.set_ylim(-2 * max_steps_per_episode, max_steps_per_episode + 10)\n",
    "        ax1.plot(e, color=\"C1\", alpha=0.2)\n",
    "        ax1.plot(r, color=\"C2\", alpha=0.2)\n",
    "        #lines.append(ax1.plot(mean_steps, label=\"steps\", color=\"C1\")[0])\n",
    "        lines.append(ax1.plot(r, label=\"rate\", color=\"C2\")[0])\n",
    "        \n",
    "        #ax1.legend(lines, labs, loc=3)\n",
    "        display.clear_output(wait=True)\n",
    "        plt.pause(0.001)\n",
    "\n",
    "def test_decay(eps, eps_min, decay, episode):\n",
    "    return eps_min + (eps - eps_min) * math.exp(-1. * (episode) * decay)\n",
    "\n",
    "def log_decay(v_start, v_min, max_step, current_step):\n",
    "    rate = math.log(v_min/v_start)*-1/max_step\n",
    "    value = v_min + (v_start*(1-rate)**current_step)\n",
    "    return value\n",
    "\n",
    "eps = 1\n",
    "eps_min = 0.001\n",
    "#decay = 0.001\n",
    "decay = 2000\n",
    "\n",
    "half = eps / 2\n",
    "\n",
    "#rate = math.log(0.001 / 1) / 2000\n",
    "\n",
    "rate = 1 - (0.001 / 2000)\n",
    "rate = 0.0005\n",
    "print(rate)\n",
    "#print(eps * math.exp(-1. * (2000) * rate))\n",
    "#print(eps_min + (eps - (rate * 1000)))\n",
    "\n",
    "episode = 1000\n",
    "test = eps - rate * 1000\n",
    "#print('test:',test)\n",
    "#print(math.exp(-1. * (episode) * decay))\n",
    "#print(test_decay(eps, eps_min, decay, 1000))\n",
    "#print(eps * (1 - 0.00344791)**2000)\n",
    "print(2000*math.sqrt(0.001))\n",
    "\n",
    "r = (eps_min**(1/decay))\n",
    "r = eps - r\n",
    "print(r)\n",
    "print(r/eps)\n",
    "s = r / eps\n",
    "#s = eps - r / eps\n",
    "print('s:', s)\n",
    "\n",
    "x = []\n",
    "y = []\n",
    "z = []\n",
    "s = 0.0034538776394911\n",
    "s = 0.003800451229771\n",
    "eps = 0.1\n",
    "s = math.log(eps_min/eps)*-1/decay\n",
    "print(s)\n",
    "for step in range(5000):\n",
    "    rz = log_decay(0.01, 0.001, 100, step)\n",
    "    #r = eps - (rate * step)\n",
    "    #if r < eps_min:\n",
    "    #    r = eps_min\n",
    "    x.append(step)\n",
    "    z.append(rz)\n",
    "    y.append(r)\n",
    "print('test:',log_decay(0.01, 0.001, 5000, step))\n",
    "#plt.plot(x, y)\n",
    "plt.plot(x, z)\n",
    "plt.title('Linear vs log')\n",
    "plt.show()"
   ]
  },
  {
   "cell_type": "markdown",
   "id": "82823664",
   "metadata": {},
   "source": [
    "### Agent class"
   ]
  },
  {
   "cell_type": "code",
   "execution_count": 10,
   "id": "290a32ec",
   "metadata": {},
   "outputs": [],
   "source": [
    "class Agent():\n",
    "    def __init__(self, env, strategy): # TODO add device for torch\n",
    "        self.current_episode = 0\n",
    "        self.strategy = strategy\n",
    "        self.num_actions = env.action_space.n\n",
    "        self.device = torch.device(\"cpu\")\n",
    "        \n",
    "    def get_epsilon(self):\n",
    "        epsilon = self.strategy.get_exploration_rate(self.current_episode)\n",
    "        return epsilon\n",
    "    \n",
    "    def select_action(self, state, policy_network):\n",
    "        rate = self.strategy.get_exploration_rate(self.current_episode)\n",
    "        #print(rate)\n",
    "        # random.uniform(0, 1)?\n",
    "        if rate > random.random():\n",
    "            return random.randrange(self.num_actions) # explore\n",
    "        else:\n",
    "            with torch.no_grad(): # No grad because we use the model to select an action and not for training\n",
    "                predicted = policy_network(torch.tensor([state], device=self.device)) # TODO check diff no tensor\n",
    "                return predicted.argmax(dim=1).item() # exploit        "
   ]
  },
  {
   "cell_type": "markdown",
   "id": "eb5beb1b",
   "metadata": {},
   "source": [
    "### Usefull function"
   ]
  },
  {
   "cell_type": "code",
   "execution_count": 11,
   "id": "f2eaffe1",
   "metadata": {},
   "outputs": [],
   "source": [
    "def extract_tensors(experiences):\n",
    "    batch = Experience(*zip(*experiences))\n",
    "    tensor_state = torch.cat(batch.state)\n",
    "    tensor_action = torch.cat(batch.action)\n",
    "    tensor_reward = torch.cat(batch.reward)\n",
    "    tensor_next_state = torch.cat(batch.next_state)\n",
    "    tensor_done = torch.cat(batch.done)\n",
    "    return (tensor_state, tensor_action, tensor_reward, tensor_next_state, tensor_done)\n",
    "\n",
    "#https://www.youtube.com/watch?v=ewRw996uevM&list=PLZbbT5o_s2xoWNVdDudn51XM8lOuZ_Njv&index=18 15.00min\n",
    "class QValues():\n",
    "    device = torch.device(\"cpu\")\n",
    "    \n",
    "    @staticmethod\n",
    "    def get_current(policy_net, states, actions):\n",
    "        return policy_net(states).gather(dim=1, index=actions.unsqueeze(1)) # send all states and actions pairs and get list of qvalues\n",
    "    \n",
    "    @staticmethod\n",
    "    def get_next(target_net, next_states):\n",
    "        values = target_net(next_states).max(dim=1)[0]\n",
    "        return values\n",
    "        \n",
    "def get_game_state(env):\n",
    "    taxi_row, taxi_col, pass_idx, dest_idx = env.decode(env.s)\n",
    "    rend = env.desc.copy()\n",
    "    if pass_idx < 4:\n",
    "        rend[1 + env.locs[pass_idx][0]][2 * env.locs[pass_idx][1] + 1] = 'P'\n",
    "    rend[1 + env.locs[dest_idx][0]][2 * env.locs[dest_idx][1] + 1] = 'D'\n",
    "    rend[1 + taxi_row][2 * taxi_col + 1] = 'T'\n",
    "    rend = rend.view(np.uint8).astype(np.float32) # Char to float\n",
    "    rend = torch.tensor(rend) # numpy to tensor\n",
    "    #print(rend.unsqueeze(1))\n",
    "    return rend.unsqueeze(0)\n",
    "\n",
    "def moving_average(x, periods=5):\n",
    "        if len(x) < periods:\n",
    "            return x\n",
    "        cumsum = np.cumsum(np.insert(x, 0, 0)) \n",
    "        res = (cumsum[periods:] - cumsum[:-periods]) / periods\n",
    "        return np.hstack([x[:periods-1], res])\n",
    "\n",
    "\n",
    "def plot_durations(max_steps_per_episode, episode_durations, reward_in_episode, epsilon_vec):\n",
    "        lines = []\n",
    "        fig = plt.figure(1, figsize=(15, 7))\n",
    "        plt.clf()\n",
    "        ax1 = fig.add_subplot(111)\n",
    "\n",
    "        plt.title('Training...')\n",
    "        ax1.set_xlabel('Episode')\n",
    "        ax1.set_ylabel('Duration & Rewards')\n",
    "        ax1.set_ylim(-2 * max_steps_per_episode, max_steps_per_episode + 10)\n",
    "        ax1.plot(episode_durations, color=\"C1\", alpha=0.2)\n",
    "        ax1.plot(reward_in_episode, color=\"C2\", alpha=0.2)\n",
    "        mean_steps = moving_average(episode_durations, periods=5)\n",
    "        mean_reward = moving_average(reward_in_episode, periods=5)\n",
    "        lines.append(ax1.plot(mean_steps, label=\"steps\", color=\"C1\")[0])\n",
    "        lines.append(ax1.plot(mean_reward, label=\"rewards\", color=\"C2\")[0])\n",
    "        \n",
    "\n",
    "        ax2 = ax1.twinx()\n",
    "        ax2.set_ylabel('Epsilon')\n",
    "        lines.append(ax2.plot(epsilon_vec, label=\"epsilon\", color=\"C3\")[0])\n",
    "        labs = [l.get_label() for l in lines]\n",
    "        ax1.legend(lines, labs, loc=3)\n",
    "        display.clear_output(wait=True)\n",
    "        plt.pause(0.001)"
   ]
  },
  {
   "cell_type": "markdown",
   "id": "1d48052e",
   "metadata": {},
   "source": [
    "### Main program"
   ]
  },
  {
   "cell_type": "code",
   "execution_count": 21,
   "id": "19aa63dc",
   "metadata": {},
   "outputs": [
    {
     "data": {
      "text/html": [
       "Finishing last run (ID:2ovon2xz) before initializing another..."
      ],
      "text/plain": [
       "<IPython.core.display.HTML object>"
      ]
     },
     "metadata": {},
     "output_type": "display_data"
    },
    {
     "name": "stdout",
     "output_type": "stream",
     "text": [
      "\n"
     ]
    },
    {
     "data": {
      "text/html": [
       "Waiting for W&B process to finish... <strong style=\"color:green\">(success).</strong>"
      ],
      "text/plain": [
       "<IPython.core.display.HTML object>"
      ]
     },
     "metadata": {},
     "output_type": "display_data"
    },
    {
     "data": {
      "application/vnd.jupyter.widget-view+json": {
       "model_id": "",
       "version_major": 2,
       "version_minor": 0
      },
      "text/plain": [
       "VBox(children=(Label(value='0.001 MB of 0.001 MB uploaded (0.000 MB deduped)\\r'), FloatProgress(value=1.0, max…"
      ]
     },
     "metadata": {},
     "output_type": "display_data"
    },
    {
     "data": {
      "text/html": [
       "Synced <strong style=\"color:#cdcd00\">zesty-bush-53</strong>: <a href=\"https://wandb.ai/hugoallegaert/my-test-project/runs/2ovon2xz\" target=\"_blank\">https://wandb.ai/hugoallegaert/my-test-project/runs/2ovon2xz</a><br/>Synced 4 W&B file(s), 0 media file(s), 0 artifact file(s) and 0 other file(s)"
      ],
      "text/plain": [
       "<IPython.core.display.HTML object>"
      ]
     },
     "metadata": {},
     "output_type": "display_data"
    },
    {
     "data": {
      "text/html": [
       "Find logs at: <code>./wandb/run-20220529_175612-2ovon2xz/logs</code>"
      ],
      "text/plain": [
       "<IPython.core.display.HTML object>"
      ]
     },
     "metadata": {},
     "output_type": "display_data"
    },
    {
     "data": {
      "text/html": [
       "Successfully finished last run (ID:2ovon2xz). Initializing new run:<br/>"
      ],
      "text/plain": [
       "<IPython.core.display.HTML object>"
      ]
     },
     "metadata": {},
     "output_type": "display_data"
    },
    {
     "data": {
      "text/html": [
       "wandb version 0.12.17 is available!  To upgrade, please run:\n",
       " $ pip install wandb --upgrade"
      ],
      "text/plain": [
       "<IPython.core.display.HTML object>"
      ]
     },
     "metadata": {},
     "output_type": "display_data"
    },
    {
     "data": {
      "text/html": [
       "Tracking run with wandb version 0.12.11"
      ],
      "text/plain": [
       "<IPython.core.display.HTML object>"
      ]
     },
     "metadata": {},
     "output_type": "display_data"
    },
    {
     "data": {
      "text/html": [
       "Run data is saved locally in <code>/Users/utilisateur/Epitech/T_AIA_902_msc2022_group-44/wandb/run-20220529_175656-2dm1piw1</code>"
      ],
      "text/plain": [
       "<IPython.core.display.HTML object>"
      ]
     },
     "metadata": {},
     "output_type": "display_data"
    },
    {
     "data": {
      "text/html": [
       "Syncing run <strong><a href=\"https://wandb.ai/hugoallegaert/my-test-project/runs/2dm1piw1\" target=\"_blank\">upbeat-bush-54</a></strong> to <a href=\"https://wandb.ai/hugoallegaert/my-test-project\" target=\"_blank\">Weights & Biases</a> (<a href=\"https://wandb.me/run\" target=\"_blank\">docs</a>)<br/>"
      ],
      "text/plain": [
       "<IPython.core.display.HTML object>"
      ]
     },
     "metadata": {},
     "output_type": "display_data"
    },
    {
     "data": {
      "text/plain": [
       "'wandb.config = {\\n    \"learning_rate\": 0.001,\\n    \"batch_size\": 128,\\n    \"epsilon\": 1\\n}'"
      ]
     },
     "execution_count": 21,
     "metadata": {},
     "output_type": "execute_result"
    }
   ],
   "source": [
    "batch_size = 128\n",
    "gamma = 0.99 # TODO try closer to 0 and graph\n",
    "eps_start = 1\n",
    "eps_end = 0.01\n",
    "eps_delay = 0.001\n",
    "target_update = 20 # update target network every 20 episode\n",
    "memory_size = 50000 # TODO try memory size and batch\n",
    "# TODO add decay function for lr and closer to 1 at first ?\n",
    "lr = 0.001 # How quickly abandon the previous q value in the table for the new q value for the same pair (s,a) at a later timestep\n",
    "num_episodes = 3000\n",
    "\n",
    "run = wandb.init(project=\"my-test-project\", entity=\"hugoallegaert\")\n",
    "'''wandb.config = {\n",
    "    \"learning_rate\": 0.001,\n",
    "    \"batch_size\": 128,\n",
    "    \"epsilon\": 1\n",
    "}'''\n",
    "#wandb.run.name = \"test\"\n",
    "#wandb.run.save()"
   ]
  },
  {
   "cell_type": "code",
   "execution_count": 24,
   "id": "b535f440",
   "metadata": {},
   "outputs": [],
   "source": [
    "strategy = EpsilonGreedyStrategy(eps_start, eps_end, eps_delay)\n",
    "agent = Agent(env, strategy)\n",
    "memory = ReplayMemory(memory_size)\n",
    "\n",
    "policy_net = DQN(env)\n",
    "target_net = DQN(env)\n",
    "target_net.load_state_dict(policy_net.state_dict())\n",
    "target_net.eval() # eval mode, not training\n",
    "optimizer = torch.optim.Adam(params=policy_net.parameters(), lr=lr)\n",
    "device = torch.device(\"cpu\")"
   ]
  },
  {
   "cell_type": "code",
   "execution_count": 22,
   "id": "9fed8fc3",
   "metadata": {
    "scrolled": true
   },
   "outputs": [
    {
     "name": "stdout",
     "output_type": "stream",
     "text": [
      "Training episode: 2999/3000\r"
     ]
    }
   ],
   "source": [
    "max_step = 100\n",
    "all_rewards = []\n",
    "epsilon_vec = []\n",
    "episode_durations = []\n",
    "for episode in range(num_episodes):\n",
    "    #clear_output(wait=True)\n",
    "    print(\"Training episode: {0}/{1}\".format(episode, num_episodes), end=\"\\r\")\n",
    "    state = env.reset()\n",
    "    episode_reward = 0\n",
    "    for step in range(max_step):\n",
    "        # Do action\n",
    "        action = agent.select_action(state, policy_net)\n",
    "        new_state, reward, done, info = env.step(action)\n",
    "        memory.push(Experience(torch.tensor([state], device=device), \n",
    "                               torch.tensor([action], device=device),\n",
    "                               torch.tensor([new_state], device=device),\n",
    "                               torch.tensor([reward], device=device),\n",
    "                               torch.tensor([done], device=device, dtype=torch.bool)))\n",
    "        state = new_state\n",
    "        episode_reward += reward\n",
    "        # Train model\n",
    "        if memory.can_provide_sample(batch_size):\n",
    "            experiences = memory.sample(batch_size)\n",
    "            states_b, actions_b, rewards_b, new_states_b, dones_b = extract_tensors(experiences)\n",
    "            # predict q values\n",
    "            current_q_values = QValues.get_current(policy_net, states_b, actions_b)\n",
    "            # expected q values\n",
    "            next_q_values = QValues.get_next(target_net, new_states_b)\n",
    "            #print(next_q_values)\n",
    "            target_q_values = (next_q_values * gamma) + rewards_b # look better ?\n",
    "            #target_q_values = (~dones_b * next_q_values * gamma) + rewards_b # TODO check how work ~dones_b\n",
    "            # compute loss\n",
    "            loss = nn.functional.mse_loss(current_q_values, target_q_values.unsqueeze(1))\n",
    "            \n",
    "            # wandl log\n",
    "            #wandb.log({\"loss\": loss})\n",
    "            # Optional\n",
    "            #wandb.watch(policy_net)\n",
    "            \n",
    "            #loss = nn.functional.huber_loss(current_q_values, target_q_values.unsqueeze(1))\n",
    "            #loss = nn.functional.smooth_l1_loss(current_q_values, target_q_values.unsqueeze(1))\n",
    "            # Optimize the model\n",
    "            optimizer.zero_grad() # prevent accumulating gradients during back props\n",
    "            loss.backward() # compute the gradient of the loss with respect of weight and biases in the policy net\n",
    "            for param in policy_net.parameters(): # Clips gradients computed during backpropagation to avoid explosion of gradients\n",
    "                param.grad.data.clamp_(-1, 1)\n",
    "            optimizer.step() # update the weight and biases with the just previous gradients computed     \n",
    "        if done:\n",
    "            break\n",
    "    if episode % target_update == 0:\n",
    "        target_net.load_state_dict(policy_net.state_dict()) # update target net with policy net weight\n",
    "    wandb.log({\"reward\": episode_reward, \"duration\": step, \"epsilon\": agent.get_epsilon()})\n",
    "    all_rewards.append(episode_reward)\n",
    "    episode_durations.append(step)\n",
    "    epsilon_vec.append(agent.get_epsilon())\n",
    "    agent.current_episode += 1\n",
    "    #plot_durations(max_step, episode_durations, all_rewards, epsilon_vec)"
   ]
  },
  {
   "cell_type": "code",
   "execution_count": 28,
   "id": "a9d00ae5",
   "metadata": {},
   "outputs": [
    {
     "ename": "NameError",
     "evalue": "name 'run' is not defined",
     "output_type": "error",
     "traceback": [
      "\u001b[0;31m---------------------------------------------------------------------------\u001b[0m",
      "\u001b[0;31mNameError\u001b[0m                                 Traceback (most recent call last)",
      "\u001b[0;32m<ipython-input-28-7da56333b3d5>\u001b[0m in \u001b[0;36m<module>\u001b[0;34m\u001b[0m\n\u001b[0;32m----> 1\u001b[0;31m \u001b[0mrun\u001b[0m\u001b[0;34m.\u001b[0m\u001b[0mfinish\u001b[0m\u001b[0;34m(\u001b[0m\u001b[0;34m)\u001b[0m\u001b[0;34m\u001b[0m\u001b[0;34m\u001b[0m\u001b[0m\n\u001b[0m",
      "\u001b[0;31mNameError\u001b[0m: name 'run' is not defined"
     ]
    }
   ],
   "source": [
    "run.finish()"
   ]
  },
  {
   "cell_type": "code",
   "execution_count": 23,
   "id": "86395994",
   "metadata": {
    "scrolled": true
   },
   "outputs": [
    {
     "name": "stdout",
     "output_type": "stream",
     "text": [
      "tensor([[ 0.9800, 20.0000]])\n",
      "tensor([[ 0.9800, 20.9900]])\n",
      "tensor(0.0411, grad_fn=<MseLossBackward0>)\n"
     ]
    }
   ],
   "source": [
    "#print((~dones_b * next_q_values * gamma) + rewards_b)\n",
    "#print(dones_b)\n",
    "#print((next_q_values * gamma) + rewards_b)\n",
    "#print(rewards_b)\n",
    "t = torch.tensor([[2, 1]])\n",
    "d = torch.tensor([[False, True]])\n",
    "r = torch.tensor([[-1, 20]])\n",
    "print((~d*t*gamma)+r)\n",
    "print((t*gamma)+r)\n",
    "print(loss)"
   ]
  },
  {
   "cell_type": "code",
   "execution_count": 16,
   "id": "07608041",
   "metadata": {
    "scrolled": true
   },
   "outputs": [
    {
     "data": {
      "image/png": "[encoded data removed]",
      "text/plain": [
       "<Figure size 1080x504 with 2 Axes>"
      ]
     },
     "metadata": {
      "needs_background": "light"
     },
     "output_type": "display_data"
    }
   ],
   "source": [
    "plot_durations(max_step, episode_durations, all_rewards, epsilon_vec)"
   ]
  },
  {
   "cell_type": "code",
   "execution_count": 380,
   "id": "48e82670",
   "metadata": {},
   "outputs": [
    {
     "name": "stdout",
     "output_type": "stream",
     "text": [
      "tensor([[0., 0., 0., 0., 0., 0.],\n",
      "        [0., 0., 0., 0., 0., 0.],\n",
      "        [0., 0., 0., 0., 0., 0.],\n",
      "        ...,\n",
      "        [0., 0., 0., 0., 0., 0.],\n",
      "        [0., 0., 0., 0., 0., 0.],\n",
      "        [0., 0., 0., 0., 0., 0.]])\n",
      "tensor([[ 1.9101e-02, -9.0469e-03, -1.1707e-02, -2.3196e-02,  2.8778e-02,\n",
      "          4.1770e-02],\n",
      "        [ 7.8153e-02,  2.4021e-02,  3.0808e-02, -3.8857e-02,  8.8818e-03,\n",
      "         -1.7605e-02],\n",
      "        [ 4.6228e-02,  2.5395e-02,  3.6884e-02, -1.0380e-01,  3.5281e-02,\n",
      "         -3.5281e-02],\n",
      "        [-4.2663e-02,  1.1226e-02, -5.1577e-02,  4.1954e-02,  9.7190e-04,\n",
      "          2.2471e-02],\n",
      "        [ 7.8629e-05, -3.4866e-03,  2.4578e-02, -4.6193e-02,  1.8654e-02,\n",
      "         -6.3072e-02],\n",
      "        [ 8.7637e-03,  1.2344e-02,  1.7516e-02, -2.9955e-02,  4.1948e-04,\n",
      "         -4.1219e-02],\n",
      "        [-1.5110e-02,  1.5879e-03,  1.6122e-02, -1.0205e-03, -1.1774e-02,\n",
      "         -1.6279e-02],\n",
      "        [ 6.7951e-04, -2.4989e-03,  7.1783e-03, -1.4747e-02, -5.2872e-03,\n",
      "          2.3270e-04],\n",
      "        [ 6.7788e-02, -2.0380e-02, -1.3236e-02, -1.1316e-01,  2.8767e-02,\n",
      "          9.7619e-02],\n",
      "        [-6.6450e-02, -8.3041e-03, -4.6101e-02,  1.5549e-01, -6.0507e-02,\n",
      "          5.0704e-02],\n",
      "        [-5.2477e-02,  1.5070e-02, -1.1756e-03,  1.0733e-01,  1.0594e-02,\n",
      "          1.4314e-02],\n",
      "        [ 2.1315e-02,  1.6051e-02,  3.1059e-03, -8.2179e-03, -5.8595e-03,\n",
      "         -1.8491e-02],\n",
      "        [ 1.0975e-02, -1.2211e-02, -2.7561e-02, -2.0520e-02,  1.3741e-02,\n",
      "          1.2483e-01],\n",
      "        [-1.3734e-02, -1.2759e-02, -2.2527e-02,  3.3091e-02, -1.1604e-02,\n",
      "          6.0657e-03],\n",
      "        [ 2.4016e-02,  2.6322e-02,  1.5671e-02, -5.0629e-02,  1.2249e-02,\n",
      "         -2.2880e-02],\n",
      "        [ 1.5261e-02,  3.4595e-02,  9.6798e-03, -3.8567e-03, -7.7464e-03,\n",
      "         -4.1216e-02],\n",
      "        [ 3.0328e-02,  1.3415e-02,  3.0026e-02,  2.6828e-02, -1.9044e-03,\n",
      "         -2.0310e-02],\n",
      "        [ 2.5022e-02, -2.2301e-02,  4.6270e-02, -2.0337e-02, -2.0462e-02,\n",
      "         -4.4861e-02],\n",
      "        [-7.2256e-02,  1.0034e-02, -6.8785e-02,  2.5679e-02,  4.2627e-02,\n",
      "          6.3716e-02],\n",
      "        [ 1.4466e-02,  2.4789e-02, -1.3637e-03, -1.7986e-02,  3.9257e-03,\n",
      "         -5.0825e-03],\n",
      "        [-2.1201e-02,  1.9810e-02,  5.1835e-03,  1.8734e-02, -1.0342e-02,\n",
      "         -3.8500e-02],\n",
      "        [-1.7682e-03,  2.0853e-02,  3.1556e-02, -5.3844e-02,  5.9975e-05,\n",
      "         -3.8755e-02],\n",
      "        [-1.5133e-02,  1.3288e-03, -1.5819e-02,  6.1040e-02, -4.4000e-03,\n",
      "          3.7824e-02],\n",
      "        [-1.8901e-04,  2.5342e-02,  5.0984e-04, -8.4552e-03, -7.1943e-03,\n",
      "         -1.6543e-02],\n",
      "        [ 1.0250e-01,  1.5094e-03,  5.0056e-02, -7.1842e-02, -1.1705e-02,\n",
      "         -7.2193e-02],\n",
      "        [ 2.0276e-02,  2.4950e-03,  2.3994e-03,  3.3229e-02,  4.6066e-03,\n",
      "         -4.2730e-03],\n",
      "        [ 2.2357e-02, -9.2847e-03,  3.0373e-02, -1.0720e-02, -4.3984e-02,\n",
      "         -5.6179e-02],\n",
      "        [ 3.0331e-02,  2.2242e-03,  1.9348e-02,  1.9428e-02, -1.3608e-02,\n",
      "         -1.6231e-02],\n",
      "        [ 1.4312e-02, -3.6652e-02,  4.3035e-02, -3.8897e-02, -1.1146e-02,\n",
      "         -4.5356e-02],\n",
      "        [-1.4532e-02, -3.0690e-02,  9.6692e-03,  5.6172e-02, -1.2772e-02,\n",
      "          3.3790e-02],\n",
      "        [ 1.9065e-02, -3.0433e-02, -1.9454e-02,  4.3422e-02,  1.2058e-02,\n",
      "          5.2625e-02],\n",
      "        [ 7.3071e-02,  3.6131e-02,  8.2986e-02, -7.6088e-02,  8.1768e-03,\n",
      "         -7.1114e-02],\n",
      "        [ 2.0615e-02,  5.4894e-03,  4.3995e-03, -3.4006e-02,  1.4554e-02,\n",
      "          1.5335e-02],\n",
      "        [ 2.0224e-02,  6.1767e-03, -2.7532e-02, -3.7026e-02,  2.2709e-02,\n",
      "          2.1190e-02],\n",
      "        [ 2.9437e-02,  1.7249e-02,  6.8111e-02, -7.8379e-03, -2.0179e-03,\n",
      "         -6.1392e-02],\n",
      "        [-1.4362e-02,  1.3285e-02,  2.2992e-02,  1.5884e-02,  2.8204e-03,\n",
      "         -3.9703e-02],\n",
      "        [-6.5276e-02,  3.1903e-02,  6.8686e-03,  7.9013e-03, -1.1674e-02,\n",
      "         -1.1242e-01],\n",
      "        [ 1.0165e-02,  6.8801e-03,  2.0654e-02, -4.4109e-02,  3.6134e-02,\n",
      "          2.1858e-03],\n",
      "        [-2.0304e-02,  1.9416e-02, -9.1619e-04, -1.7893e-02,  5.1020e-02,\n",
      "          6.7591e-02],\n",
      "        [-7.2837e-03, -2.8759e-02, -1.5374e-02,  7.0069e-02, -5.9745e-02,\n",
      "          2.7656e-02],\n",
      "        [-2.4761e-03,  2.2110e-02, -3.4383e-04,  3.2056e-02, -3.4861e-02,\n",
      "         -3.3297e-02],\n",
      "        [-5.6656e-02,  1.2262e-02,  3.1718e-02,  9.8778e-02, -4.5859e-02,\n",
      "         -1.1672e-01],\n",
      "        [-1.6185e-02, -1.5929e-02,  1.2444e-02, -2.5494e-02,  3.7438e-02,\n",
      "          6.0354e-02],\n",
      "        [ 5.8985e-02,  1.2568e-03,  4.8916e-03, -4.7829e-03, -2.9116e-02,\n",
      "          1.4619e-02],\n",
      "        [-3.6300e-02, -3.3175e-02, -2.6255e-02,  7.7434e-02, -3.7779e-03,\n",
      "          7.1937e-02],\n",
      "        [-6.8201e-02,  1.2041e-03, -1.6743e-02,  4.7647e-02, -1.8324e-02,\n",
      "         -2.5923e-02],\n",
      "        [-6.5942e-03, -4.6714e-03, -6.4436e-03,  1.6659e-03,  2.3691e-02,\n",
      "          6.0632e-02],\n",
      "        [-5.0604e-03,  9.6351e-03,  2.2729e-03, -5.9555e-03,  5.8736e-03,\n",
      "          2.0259e-02],\n",
      "        [ 4.0299e-03, -2.4476e-02,  8.6667e-03,  1.9873e-03, -1.4534e-02,\n",
      "         -1.3803e-02],\n",
      "        [ 3.7929e-02,  3.0521e-02,  6.1099e-02, -8.0729e-02, -2.3016e-02,\n",
      "         -1.1854e-01]])\n",
      "tensor([ 0.0508,  0.0633,  0.0309, -0.0557,  0.0308,  0.0051,  0.0019, -0.0040,\n",
      "         0.0516, -0.0578, -0.0689,  0.0448, -0.0039, -0.0234,  0.0088,  0.0223,\n",
      "         0.0140,  0.0423, -0.1033, -0.0151, -0.0342,  0.0192,  0.0036, -0.0005,\n",
      "         0.1204,  0.0198,  0.0801,  0.0334,  0.0337, -0.0391, -0.0321,  0.1009,\n",
      "         0.0059,  0.0071,  0.0434,  0.0171, -0.0750,  0.0053, -0.0450, -0.0150,\n",
      "         0.0051, -0.0378, -0.0493,  0.0465, -0.0147, -0.0232,  0.0355, -0.0119,\n",
      "         0.0200,  0.0675])\n",
      "tensor([[-0.0054, -0.0334, -0.0231,  ..., -0.0044, -0.0094, -0.0329],\n",
      "        [ 0.0136, -0.0006,  0.0008,  ..., -0.0029, -0.0109, -0.0031],\n",
      "        [ 0.0000,  0.0000,  0.0000,  ...,  0.0000,  0.0000,  0.0000],\n",
      "        ...,\n",
      "        [ 0.0053,  0.0038,  0.0057,  ...,  0.0102,  0.0103,  0.0113],\n",
      "        [-0.0108, -0.0331, -0.0315,  ..., -0.0032, -0.0047, -0.0293],\n",
      "        [ 0.0108,  0.0505,  0.0239,  ...,  0.0035,  0.0046,  0.0214]])\n",
      "tensor([-0.0135, -0.0034,  0.0000, -0.0002, -0.0081, -0.0026, -0.0285, -0.0007,\n",
      "        -0.0440,  0.0103,  0.0189,  0.0050, -0.0145,  0.0044,  0.0052,  0.0000,\n",
      "         0.0000,  0.0000,  0.0306, -0.0037, -0.0112,  0.0000, -0.0004, -0.0124,\n",
      "         0.0003, -0.0343, -0.0023,  0.0072, -0.0070, -0.0046, -0.0169,  0.0000,\n",
      "         0.0025,  0.0032,  0.0121,  0.0046, -0.0069, -0.0031,  0.0227,  0.0111,\n",
      "         0.0074, -0.0024, -0.0122,  0.0323, -0.0100, -0.0141, -0.0029,  0.0074,\n",
      "        -0.0124,  0.0039])\n",
      "tensor([[ 7.0092e-02,  1.6818e-02,  0.0000e+00, -2.1367e-02,  1.1015e-02,\n",
      "          7.2375e-02,  6.7115e-02,  0.0000e+00,  1.1661e-01,  2.5353e-02,\n",
      "          2.7159e-01,  1.0795e-01,  2.2988e-02, -4.2562e-02,  1.8749e-01,\n",
      "          0.0000e+00,  0.0000e+00,  0.0000e+00,  3.3563e-01, -1.7794e-02,\n",
      "          2.5574e-02,  0.0000e+00,  4.3454e-05,  1.7332e-02,  0.0000e+00,\n",
      "          1.7954e-02, -4.6459e-02,  4.9248e-02,  3.6481e-03,  3.3715e-02,\n",
      "          4.2785e-02,  0.0000e+00,  1.2842e-03,  2.0840e-02,  2.3227e-01,\n",
      "          1.2724e-02,  1.2168e-02,  3.4371e-03,  1.3876e-01,  2.1478e-02,\n",
      "          3.1086e-02,  4.5902e-02,  4.9410e-02,  2.7753e-01,  6.1637e-02,\n",
      "          1.3200e-01,  3.5542e-03, -2.6299e-02,  1.1656e-02,  1.5453e-01],\n",
      "        [ 1.3383e-02,  3.1054e-02,  0.0000e+00,  3.8582e-03,  1.5160e-02,\n",
      "          6.4006e-02, -1.5224e-02,  0.0000e+00,  1.9587e-02, -1.9471e-03,\n",
      "         -5.7782e-03, -6.9412e-03,  1.8959e-02, -1.5047e-02,  1.0092e-02,\n",
      "          0.0000e+00,  0.0000e+00,  0.0000e+00,  7.3991e-02, -5.1926e-03,\n",
      "          1.5970e-02,  0.0000e+00,  0.0000e+00,  6.1645e-03,  0.0000e+00,\n",
      "          2.3192e-02,  0.0000e+00,  4.5794e-02,  7.0988e-03,  3.0427e-02,\n",
      "          2.9187e-02,  0.0000e+00, -4.9786e-03,  1.3925e-03,  5.8523e-02,\n",
      "         -6.4445e-03, -1.3699e-02, -9.5615e-03, -1.6538e-02,  1.5186e-02,\n",
      "         -1.4542e-02,  3.8364e-02,  2.6735e-02, -3.3315e-02, -2.8803e-03,\n",
      "         -7.5981e-02,  1.1361e-03,  2.0616e-02,  2.2799e-02,  1.7200e-02],\n",
      "        [ 4.3721e-02, -3.5374e-03,  0.0000e+00,  7.8168e-03,  9.9309e-03,\n",
      "          3.2722e-02,  2.9960e-02,  0.0000e+00,  2.6876e-02,  1.9660e-06,\n",
      "          2.0948e-02,  2.6171e-02,  1.1954e-02, -2.2509e-03,  4.4192e-02,\n",
      "          0.0000e+00,  0.0000e+00,  0.0000e+00,  7.7074e-02,  2.6425e-04,\n",
      "          1.0806e-02,  0.0000e+00, -3.5703e-04,  1.2980e-02, -1.3852e-03,\n",
      "          2.1112e-02,  0.0000e+00,  3.1219e-02,  1.6895e-03,  7.5449e-03,\n",
      "          2.0823e-02,  0.0000e+00,  2.4032e-03,  3.9113e-03,  1.3376e-02,\n",
      "          4.3305e-03, -1.0558e-02,  3.2863e-03,  4.6808e-02, -1.9186e-04,\n",
      "          2.0623e-02, -1.0219e-02,  1.9069e-02,  3.8389e-02,  8.3075e-03,\n",
      "         -1.1150e-02,  1.0441e-03,  3.0204e-02,  7.1857e-03,  2.3725e-02],\n",
      "        [ 6.6485e-02,  1.9730e-02,  0.0000e+00,  1.1611e-02,  2.0738e-02,\n",
      "          7.0070e-02,  1.2134e-02,  0.0000e+00,  2.4421e-02,  1.3538e-02,\n",
      "          6.7673e-02,  2.2153e-02,  3.7681e-02,  6.3329e-03,  4.9626e-02,\n",
      "          0.0000e+00,  0.0000e+00,  0.0000e+00,  1.2003e-01,  3.7809e-03,\n",
      "          2.0748e-02,  0.0000e+00,  0.0000e+00,  5.0438e-04, -4.2489e-04,\n",
      "          4.3339e-02,  0.0000e+00,  8.5589e-02,  4.4111e-03,  3.2707e-02,\n",
      "          5.1090e-02,  0.0000e+00,  0.0000e+00,  1.6188e-03,  6.6026e-02,\n",
      "          1.8959e-02,  8.0785e-03,  7.0054e-05,  2.7061e-02, -3.3971e-04,\n",
      "          3.8573e-02, -3.7056e-04,  4.7135e-02,  8.2377e-02,  1.5407e-02,\n",
      "          7.7310e-03,  4.0871e-03,  2.0121e-02,  4.3424e-03,  5.6363e-02],\n",
      "        [ 6.2373e-03, -2.1034e-03,  0.0000e+00,  0.0000e+00,  3.7145e-03,\n",
      "         -7.4450e-03, -7.6431e-03,  0.0000e+00,  0.0000e+00,  0.0000e+00,\n",
      "          7.1977e-03,  2.4782e-03, -1.0927e-03,  0.0000e+00,  1.3111e-02,\n",
      "          0.0000e+00,  0.0000e+00,  0.0000e+00,  1.4001e-02,  0.0000e+00,\n",
      "          2.0196e-04,  0.0000e+00,  0.0000e+00,  3.3262e-04,  0.0000e+00,\n",
      "         -3.1386e-03,  0.0000e+00,  3.3170e-03, -1.4327e-04, -6.2729e-03,\n",
      "         -9.1885e-03,  0.0000e+00,  0.0000e+00,  0.0000e+00,  1.5900e-02,\n",
      "         -3.4666e-05, -1.1078e-02,  1.6984e-03, -2.3496e-02,  3.9292e-03,\n",
      "         -1.8100e-03,  1.1584e-02,  4.1521e-03,  6.2862e-03, -1.7048e-03,\n",
      "          1.0848e-03, -7.8613e-06, -7.7372e-04, -2.9530e-03, -3.8721e-03],\n",
      "        [ 1.3784e-02,  4.0051e-03,  0.0000e+00,  1.4552e-02,  1.5260e-02,\n",
      "          8.3232e-03,  1.6074e-02,  2.9164e-04,  1.6138e-02,  8.0201e-03,\n",
      "          2.2042e-02,  1.1572e-02,  1.6554e-02,  2.7001e-02,  1.6592e-02,\n",
      "          0.0000e+00,  0.0000e+00,  0.0000e+00,  3.2535e-02,  9.6231e-03,\n",
      "          9.1266e-04,  0.0000e+00,  0.0000e+00,  1.8678e-04,  0.0000e+00,\n",
      "          8.7408e-04,  3.1673e-02,  2.4011e-02, -7.8461e-04,  1.2625e-03,\n",
      "          1.1742e-02,  0.0000e+00,  3.5548e-03,  6.6068e-05,  1.0878e-02,\n",
      "         -4.3957e-04,  6.0898e-03,  0.0000e+00,  2.9374e-02,  1.0476e-03,\n",
      "          6.2345e-03,  1.1944e-02,  4.9675e-03,  2.9845e-02,  3.4071e-03,\n",
      "          4.8102e-03,  0.0000e+00,  2.9800e-02,  4.6190e-04,  1.0777e-02]])\n",
      "tensor([0.0221, 0.0120, 0.0052, 0.0117, 0.0010, 0.0033])\n"
     ]
    }
   ],
   "source": [
    "def clip_gradient(optimizer, grad_clip):\n",
    "    \"\"\"\n",
    "    Clips gradients computed during backpropagation to avoid explosion of gradients.\n",
    "    :param optimizer: optimizer with the gradients to be clipped\n",
    "    :param grad_clip: clip value\n",
    "    \"\"\"\n",
    "    for group in optimizer.param_groups:\n",
    "        for param in group['params']:\n",
    "            if param.grad is not None:\n",
    "                param.grad.data.clamp_(-grad_clip, grad_clip)\n",
    "\n",
    "for param in policy_net.parameters(): # TODO check how its working\n",
    "    print(param.grad.data)"
   ]
  },
  {
   "cell_type": "markdown",
   "id": "98708044",
   "metadata": {},
   "source": [
    "### Test IA"
   ]
  },
  {
   "cell_type": "code",
   "execution_count": 17,
   "id": "77c2c8e6",
   "metadata": {
    "scrolled": true
   },
   "outputs": [
    {
     "name": "stdout",
     "output_type": "stream",
     "text": [
      "*** Game 3 ***\n",
      " +---------+\n",
      "|R: | : :\u001b[35m\u001b[34;1m\u001b[43mG\u001b[0m\u001b[0m\u001b[0m|\n",
      "| : | : : |\n",
      "| : : : : |\n",
      "| | : | : |\n",
      "|Y| : |B: |\n",
      "+---------+\n",
      "  (Dropoff)\n",
      "\n",
      "*** Your score 6 ***\n"
     ]
    }
   ],
   "source": [
    "for episode in range(3):\n",
    "    state = env.reset()\n",
    "    game = \"*** Game {0} ***\\n\".format(episode + 1)\n",
    "    time.sleep(1)\n",
    "    episode_reward = 0\n",
    "    for step in range(max_step):\n",
    "        clear_output(wait=True)\n",
    "        print(game, env.render('human'), end='\\n')\n",
    "        time.sleep(0.3)\n",
    "        \n",
    "        action = agent.select_action(state, policy_net)\n",
    "        state, reward, done, info = env.step(action)\n",
    "        episode_reward += reward\n",
    "        if done:\n",
    "            clear_output(wait=True)\n",
    "            print(game, env.render('ansi'), end='\\n')\n",
    "            if reward == 1:\n",
    "                print(\"*** You Won {0} ***\".format(episode_reward))\n",
    "                time.sleep(3)\n",
    "            else:\n",
    "                print(\"*** Your score {0} ***\".format(episode_reward))\n",
    "                time.sleep(3)\n",
    "            clear_output(wait=True)\n",
    "            break"
   ]
  },
  {
   "cell_type": "markdown",
   "id": "9db38d0f",
   "metadata": {},
   "source": [
    "### Evaluate"
   ]
  },
  {
   "cell_type": "code",
   "execution_count": 27,
   "id": "64bfa45f",
   "metadata": {},
   "outputs": [
    {
     "name": "stdout",
     "output_type": "stream",
     "text": [
      "Results after 1000 episodes:\n",
      "Average timesteps per episode: 13.982\n",
      "Average penalties per episode: 0.096\n"
     ]
    }
   ],
   "source": [
    "total_steps, total_penalties = 0, 0\n",
    "episodes = 1000\n",
    "max_steps = 100\n",
    "for episode in range(episodes):\n",
    "    state = env.reset()\n",
    "    nb_steps, penalties, reward = 0, 0, 0\n",
    "    for step in range(max_steps):\n",
    "        action = agent.select_action(state, policy_net)\n",
    "        state, reward, done, info = env.step(action)\n",
    "        if reward == -10:\n",
    "            penalties += 1\n",
    "        if done == True:\n",
    "            break\n",
    "        if step >= max_steps:\n",
    "            penalties += 1\n",
    "            break\n",
    "    total_penalties += penalties\n",
    "    total_steps += step\n",
    "        \n",
    "print(f\"Results after {episodes} episodes:\")\n",
    "print(f\"Average timesteps per episode: {total_steps / episodes}\")\n",
    "print(f\"Average penalties per episode: {total_penalties / episodes}\")  "
   ]
  },
  {
   "cell_type": "markdown",
   "id": "89879d88",
   "metadata": {},
   "source": [
    "MSE loss score after 3000 episode training :  \n",
    "Results after 100 episodes:  \n",
    "Average timesteps per episode: 17.08  \n",
    "Average penalties per episode: 1.19  \n",
    "\n",
    "HUBER loss score after 3000 episode training:  \n",
    "Results after 100 episodes:  \n",
    "Average timesteps per episode: 17.12  \n",
    "Average penalties per episode: 0.89  "
   ]
  },
  {
   "cell_type": "code",
   "execution_count": null,
   "id": "30e63853",
   "metadata": {},
   "outputs": [],
   "source": []
  }
 ],
 "metadata": {
  "kernelspec": {
   "display_name": "Python 3",
   "language": "python",
   "name": "python3"
  },
  "language_info": {
   "codemirror_mode": {
    "name": "ipython",
    "version": 3
   },
   "file_extension": ".py",
   "mimetype": "text/x-python",
   "name": "python",
   "nbconvert_exporter": "python",
   "pygments_lexer": "ipython3",
   "version": "3.8.6"
  }
 },
 "nbformat": 4,
 "nbformat_minor": 5
}
